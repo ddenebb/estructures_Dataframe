{
  "nbformat": 4,
  "nbformat_minor": 0,
  "metadata": {
    "colab": {
      "provenance": [],
      "authorship_tag": "ABX9TyPqyxABjRr5YE2DeW3sJiUo",
      "include_colab_link": true
    },
    "kernelspec": {
      "name": "python3",
      "display_name": "Python 3"
    },
    "language_info": {
      "name": "python"
    }
  },
  "cells": [
    {
      "cell_type": "markdown",
      "metadata": {
        "id": "view-in-github",
        "colab_type": "text"
      },
      "source": [
        "<a href=\"https://colab.research.google.com/github/ddenebb/estructures_Dataframe/blob/main/Tasca_M7_T01.ipynb\" target=\"_parent\"><img src=\"https://colab.research.google.com/assets/colab-badge.svg\" alt=\"Open In Colab\"/></a>"
      ]
    },
    {
      "cell_type": "markdown",
      "source": [
        "#- Exercise 1\n",
        "\n",
        "Create at least two different classification models to try to predict the best classes of the attached file."
      ],
      "metadata": {
        "id": "zZZUCJHb7-ob"
      }
    },
    {
      "cell_type": "code",
      "execution_count": 2,
      "metadata": {
        "colab": {
          "base_uri": "https://localhost:8080/"
        },
        "id": "tUPPXD3Hat7h",
        "outputId": "5d0c3489-a042-4830-8c70-8f2995b2c530"
      },
      "outputs": [
        {
          "output_type": "stream",
          "name": "stdout",
          "text": [
            "Mounted at /content/drive\n"
          ]
        }
      ],
      "source": [
        "from google.colab import drive\n",
        "drive.mount('/content/drive')\n",
        "#images_dir = '/content/gdrive/My Drive/Images'"
      ]
    },
    {
      "cell_type": "markdown",
      "source": [],
      "metadata": {
        "id": "f_849mnOetBd"
      }
    },
    {
      "cell_type": "markdown",
      "source": [
        "To create classification models for the wine dataset, these general steps can be followed:\n",
        "\n",
        "    Load the data into a pandas dataframe\n",
        "    Split the data into training and testing sets\n",
        "    Preprocess the data (e.g., standardize the features)\n",
        "    Train the classification models on the training set\n",
        "    Evaluate the models on the testing set\n",
        "    Choose the best model based on evaluation metrics (e.g., accuracy, F1-score)"
      ],
      "metadata": {
        "id": "0FMFb2-96KL7"
      }
    },
    {
      "cell_type": "markdown",
      "source": [
        "Step 1: load libraries, load data into a pandas dataframe"
      ],
      "metadata": {
        "id": "mx45rL4T6ZZA"
      }
    },
    {
      "cell_type": "code",
      "source": [
        "# importing libraries\n",
        "import numpy as np\n",
        "import pandas as pd\n",
        "import matplotlib.pyplot as plt\n",
        "import seaborn as sns\n",
        "import warnings\n",
        "\n",
        "warnings.filterwarnings('ignore')\n",
        "\n",
        "path = \"/content/drive/MyDrive/Google Colab DS IT Academy/Sprint 7/Data/wineData.txt\"\n",
        "import pandas as pd\n",
        "\n",
        "df = pd.read_csv(path, delimiter=\",\", names=[\"class\", \"alcohol\", \"malic_acid\", \"ash\", \"alcalinity_of_ash\", \"magnesium\", \"total_phenols\", \"flavanoids\", \"nonflavanoid_phenols\", \"proanthocyanins\", \"color_intensity\", \"hue\", \"od280_od315_of_diluted_wines\", \"proline\"])\n",
        "\n",
        "print(df.info(memory_usage='deep'))\n",
        "df"
      ],
      "metadata": {
        "colab": {
          "base_uri": "https://localhost:8080/",
          "height": 822
        },
        "id": "USlHy3o9euQ1",
        "outputId": "bf962fe5-6d96-4653-c4f9-7e933f7e654c"
      },
      "execution_count": 7,
      "outputs": [
        {
          "output_type": "stream",
          "name": "stdout",
          "text": [
            "<class 'pandas.core.frame.DataFrame'>\n",
            "RangeIndex: 178 entries, 0 to 177\n",
            "Data columns (total 14 columns):\n",
            " #   Column                        Non-Null Count  Dtype  \n",
            "---  ------                        --------------  -----  \n",
            " 0   class                         178 non-null    int64  \n",
            " 1   alcohol                       178 non-null    float64\n",
            " 2   malic_acid                    178 non-null    float64\n",
            " 3   ash                           178 non-null    float64\n",
            " 4   alcalinity_of_ash             178 non-null    float64\n",
            " 5   magnesium                     178 non-null    int64  \n",
            " 6   total_phenols                 178 non-null    float64\n",
            " 7   flavanoids                    178 non-null    float64\n",
            " 8   nonflavanoid_phenols          178 non-null    float64\n",
            " 9   proanthocyanins               178 non-null    float64\n",
            " 10  color_intensity               178 non-null    float64\n",
            " 11  hue                           178 non-null    float64\n",
            " 12  od280_od315_of_diluted_wines  178 non-null    float64\n",
            " 13  proline                       178 non-null    int64  \n",
            "dtypes: float64(11), int64(3)\n",
            "memory usage: 19.6 KB\n",
            "None\n"
          ]
        },
        {
          "output_type": "execute_result",
          "data": {
            "text/plain": [
              "     class  alcohol  malic_acid   ash  alcalinity_of_ash  magnesium  \\\n",
              "0        1    14.23        1.71  2.43               15.6        127   \n",
              "1        1    13.20        1.78  2.14               11.2        100   \n",
              "2        1    13.16        2.36  2.67               18.6        101   \n",
              "3        1    14.37        1.95  2.50               16.8        113   \n",
              "4        1    13.24        2.59  2.87               21.0        118   \n",
              "..     ...      ...         ...   ...                ...        ...   \n",
              "173      3    13.71        5.65  2.45               20.5         95   \n",
              "174      3    13.40        3.91  2.48               23.0        102   \n",
              "175      3    13.27        4.28  2.26               20.0        120   \n",
              "176      3    13.17        2.59  2.37               20.0        120   \n",
              "177      3    14.13        4.10  2.74               24.5         96   \n",
              "\n",
              "     total_phenols  flavanoids  nonflavanoid_phenols  proanthocyanins  \\\n",
              "0             2.80        3.06                  0.28             2.29   \n",
              "1             2.65        2.76                  0.26             1.28   \n",
              "2             2.80        3.24                  0.30             2.81   \n",
              "3             3.85        3.49                  0.24             2.18   \n",
              "4             2.80        2.69                  0.39             1.82   \n",
              "..             ...         ...                   ...              ...   \n",
              "173           1.68        0.61                  0.52             1.06   \n",
              "174           1.80        0.75                  0.43             1.41   \n",
              "175           1.59        0.69                  0.43             1.35   \n",
              "176           1.65        0.68                  0.53             1.46   \n",
              "177           2.05        0.76                  0.56             1.35   \n",
              "\n",
              "     color_intensity   hue  od280_od315_of_diluted_wines  proline  \n",
              "0               5.64  1.04                          3.92     1065  \n",
              "1               4.38  1.05                          3.40     1050  \n",
              "2               5.68  1.03                          3.17     1185  \n",
              "3               7.80  0.86                          3.45     1480  \n",
              "4               4.32  1.04                          2.93      735  \n",
              "..               ...   ...                           ...      ...  \n",
              "173             7.70  0.64                          1.74      740  \n",
              "174             7.30  0.70                          1.56      750  \n",
              "175            10.20  0.59                          1.56      835  \n",
              "176             9.30  0.60                          1.62      840  \n",
              "177             9.20  0.61                          1.60      560  \n",
              "\n",
              "[178 rows x 14 columns]"
            ],
            "text/html": [
              "\n",
              "  <div id=\"df-68c0ecc9-ed82-4b9a-9c74-c7abc4548b2d\">\n",
              "    <div class=\"colab-df-container\">\n",
              "      <div>\n",
              "<style scoped>\n",
              "    .dataframe tbody tr th:only-of-type {\n",
              "        vertical-align: middle;\n",
              "    }\n",
              "\n",
              "    .dataframe tbody tr th {\n",
              "        vertical-align: top;\n",
              "    }\n",
              "\n",
              "    .dataframe thead th {\n",
              "        text-align: right;\n",
              "    }\n",
              "</style>\n",
              "<table border=\"1\" class=\"dataframe\">\n",
              "  <thead>\n",
              "    <tr style=\"text-align: right;\">\n",
              "      <th></th>\n",
              "      <th>class</th>\n",
              "      <th>alcohol</th>\n",
              "      <th>malic_acid</th>\n",
              "      <th>ash</th>\n",
              "      <th>alcalinity_of_ash</th>\n",
              "      <th>magnesium</th>\n",
              "      <th>total_phenols</th>\n",
              "      <th>flavanoids</th>\n",
              "      <th>nonflavanoid_phenols</th>\n",
              "      <th>proanthocyanins</th>\n",
              "      <th>color_intensity</th>\n",
              "      <th>hue</th>\n",
              "      <th>od280_od315_of_diluted_wines</th>\n",
              "      <th>proline</th>\n",
              "    </tr>\n",
              "  </thead>\n",
              "  <tbody>\n",
              "    <tr>\n",
              "      <th>0</th>\n",
              "      <td>1</td>\n",
              "      <td>14.23</td>\n",
              "      <td>1.71</td>\n",
              "      <td>2.43</td>\n",
              "      <td>15.6</td>\n",
              "      <td>127</td>\n",
              "      <td>2.80</td>\n",
              "      <td>3.06</td>\n",
              "      <td>0.28</td>\n",
              "      <td>2.29</td>\n",
              "      <td>5.64</td>\n",
              "      <td>1.04</td>\n",
              "      <td>3.92</td>\n",
              "      <td>1065</td>\n",
              "    </tr>\n",
              "    <tr>\n",
              "      <th>1</th>\n",
              "      <td>1</td>\n",
              "      <td>13.20</td>\n",
              "      <td>1.78</td>\n",
              "      <td>2.14</td>\n",
              "      <td>11.2</td>\n",
              "      <td>100</td>\n",
              "      <td>2.65</td>\n",
              "      <td>2.76</td>\n",
              "      <td>0.26</td>\n",
              "      <td>1.28</td>\n",
              "      <td>4.38</td>\n",
              "      <td>1.05</td>\n",
              "      <td>3.40</td>\n",
              "      <td>1050</td>\n",
              "    </tr>\n",
              "    <tr>\n",
              "      <th>2</th>\n",
              "      <td>1</td>\n",
              "      <td>13.16</td>\n",
              "      <td>2.36</td>\n",
              "      <td>2.67</td>\n",
              "      <td>18.6</td>\n",
              "      <td>101</td>\n",
              "      <td>2.80</td>\n",
              "      <td>3.24</td>\n",
              "      <td>0.30</td>\n",
              "      <td>2.81</td>\n",
              "      <td>5.68</td>\n",
              "      <td>1.03</td>\n",
              "      <td>3.17</td>\n",
              "      <td>1185</td>\n",
              "    </tr>\n",
              "    <tr>\n",
              "      <th>3</th>\n",
              "      <td>1</td>\n",
              "      <td>14.37</td>\n",
              "      <td>1.95</td>\n",
              "      <td>2.50</td>\n",
              "      <td>16.8</td>\n",
              "      <td>113</td>\n",
              "      <td>3.85</td>\n",
              "      <td>3.49</td>\n",
              "      <td>0.24</td>\n",
              "      <td>2.18</td>\n",
              "      <td>7.80</td>\n",
              "      <td>0.86</td>\n",
              "      <td>3.45</td>\n",
              "      <td>1480</td>\n",
              "    </tr>\n",
              "    <tr>\n",
              "      <th>4</th>\n",
              "      <td>1</td>\n",
              "      <td>13.24</td>\n",
              "      <td>2.59</td>\n",
              "      <td>2.87</td>\n",
              "      <td>21.0</td>\n",
              "      <td>118</td>\n",
              "      <td>2.80</td>\n",
              "      <td>2.69</td>\n",
              "      <td>0.39</td>\n",
              "      <td>1.82</td>\n",
              "      <td>4.32</td>\n",
              "      <td>1.04</td>\n",
              "      <td>2.93</td>\n",
              "      <td>735</td>\n",
              "    </tr>\n",
              "    <tr>\n",
              "      <th>...</th>\n",
              "      <td>...</td>\n",
              "      <td>...</td>\n",
              "      <td>...</td>\n",
              "      <td>...</td>\n",
              "      <td>...</td>\n",
              "      <td>...</td>\n",
              "      <td>...</td>\n",
              "      <td>...</td>\n",
              "      <td>...</td>\n",
              "      <td>...</td>\n",
              "      <td>...</td>\n",
              "      <td>...</td>\n",
              "      <td>...</td>\n",
              "      <td>...</td>\n",
              "    </tr>\n",
              "    <tr>\n",
              "      <th>173</th>\n",
              "      <td>3</td>\n",
              "      <td>13.71</td>\n",
              "      <td>5.65</td>\n",
              "      <td>2.45</td>\n",
              "      <td>20.5</td>\n",
              "      <td>95</td>\n",
              "      <td>1.68</td>\n",
              "      <td>0.61</td>\n",
              "      <td>0.52</td>\n",
              "      <td>1.06</td>\n",
              "      <td>7.70</td>\n",
              "      <td>0.64</td>\n",
              "      <td>1.74</td>\n",
              "      <td>740</td>\n",
              "    </tr>\n",
              "    <tr>\n",
              "      <th>174</th>\n",
              "      <td>3</td>\n",
              "      <td>13.40</td>\n",
              "      <td>3.91</td>\n",
              "      <td>2.48</td>\n",
              "      <td>23.0</td>\n",
              "      <td>102</td>\n",
              "      <td>1.80</td>\n",
              "      <td>0.75</td>\n",
              "      <td>0.43</td>\n",
              "      <td>1.41</td>\n",
              "      <td>7.30</td>\n",
              "      <td>0.70</td>\n",
              "      <td>1.56</td>\n",
              "      <td>750</td>\n",
              "    </tr>\n",
              "    <tr>\n",
              "      <th>175</th>\n",
              "      <td>3</td>\n",
              "      <td>13.27</td>\n",
              "      <td>4.28</td>\n",
              "      <td>2.26</td>\n",
              "      <td>20.0</td>\n",
              "      <td>120</td>\n",
              "      <td>1.59</td>\n",
              "      <td>0.69</td>\n",
              "      <td>0.43</td>\n",
              "      <td>1.35</td>\n",
              "      <td>10.20</td>\n",
              "      <td>0.59</td>\n",
              "      <td>1.56</td>\n",
              "      <td>835</td>\n",
              "    </tr>\n",
              "    <tr>\n",
              "      <th>176</th>\n",
              "      <td>3</td>\n",
              "      <td>13.17</td>\n",
              "      <td>2.59</td>\n",
              "      <td>2.37</td>\n",
              "      <td>20.0</td>\n",
              "      <td>120</td>\n",
              "      <td>1.65</td>\n",
              "      <td>0.68</td>\n",
              "      <td>0.53</td>\n",
              "      <td>1.46</td>\n",
              "      <td>9.30</td>\n",
              "      <td>0.60</td>\n",
              "      <td>1.62</td>\n",
              "      <td>840</td>\n",
              "    </tr>\n",
              "    <tr>\n",
              "      <th>177</th>\n",
              "      <td>3</td>\n",
              "      <td>14.13</td>\n",
              "      <td>4.10</td>\n",
              "      <td>2.74</td>\n",
              "      <td>24.5</td>\n",
              "      <td>96</td>\n",
              "      <td>2.05</td>\n",
              "      <td>0.76</td>\n",
              "      <td>0.56</td>\n",
              "      <td>1.35</td>\n",
              "      <td>9.20</td>\n",
              "      <td>0.61</td>\n",
              "      <td>1.60</td>\n",
              "      <td>560</td>\n",
              "    </tr>\n",
              "  </tbody>\n",
              "</table>\n",
              "<p>178 rows × 14 columns</p>\n",
              "</div>\n",
              "      <button class=\"colab-df-convert\" onclick=\"convertToInteractive('df-68c0ecc9-ed82-4b9a-9c74-c7abc4548b2d')\"\n",
              "              title=\"Convert this dataframe to an interactive table.\"\n",
              "              style=\"display:none;\">\n",
              "        \n",
              "  <svg xmlns=\"http://www.w3.org/2000/svg\" height=\"24px\"viewBox=\"0 0 24 24\"\n",
              "       width=\"24px\">\n",
              "    <path d=\"M0 0h24v24H0V0z\" fill=\"none\"/>\n",
              "    <path d=\"M18.56 5.44l.94 2.06.94-2.06 2.06-.94-2.06-.94-.94-2.06-.94 2.06-2.06.94zm-11 1L8.5 8.5l.94-2.06 2.06-.94-2.06-.94L8.5 2.5l-.94 2.06-2.06.94zm10 10l.94 2.06.94-2.06 2.06-.94-2.06-.94-.94-2.06-.94 2.06-2.06.94z\"/><path d=\"M17.41 7.96l-1.37-1.37c-.4-.4-.92-.59-1.43-.59-.52 0-1.04.2-1.43.59L10.3 9.45l-7.72 7.72c-.78.78-.78 2.05 0 2.83L4 21.41c.39.39.9.59 1.41.59.51 0 1.02-.2 1.41-.59l7.78-7.78 2.81-2.81c.8-.78.8-2.07 0-2.86zM5.41 20L4 18.59l7.72-7.72 1.47 1.35L5.41 20z\"/>\n",
              "  </svg>\n",
              "      </button>\n",
              "      \n",
              "  <style>\n",
              "    .colab-df-container {\n",
              "      display:flex;\n",
              "      flex-wrap:wrap;\n",
              "      gap: 12px;\n",
              "    }\n",
              "\n",
              "    .colab-df-convert {\n",
              "      background-color: #E8F0FE;\n",
              "      border: none;\n",
              "      border-radius: 50%;\n",
              "      cursor: pointer;\n",
              "      display: none;\n",
              "      fill: #1967D2;\n",
              "      height: 32px;\n",
              "      padding: 0 0 0 0;\n",
              "      width: 32px;\n",
              "    }\n",
              "\n",
              "    .colab-df-convert:hover {\n",
              "      background-color: #E2EBFA;\n",
              "      box-shadow: 0px 1px 2px rgba(60, 64, 67, 0.3), 0px 1px 3px 1px rgba(60, 64, 67, 0.15);\n",
              "      fill: #174EA6;\n",
              "    }\n",
              "\n",
              "    [theme=dark] .colab-df-convert {\n",
              "      background-color: #3B4455;\n",
              "      fill: #D2E3FC;\n",
              "    }\n",
              "\n",
              "    [theme=dark] .colab-df-convert:hover {\n",
              "      background-color: #434B5C;\n",
              "      box-shadow: 0px 1px 3px 1px rgba(0, 0, 0, 0.15);\n",
              "      filter: drop-shadow(0px 1px 2px rgba(0, 0, 0, 0.3));\n",
              "      fill: #FFFFFF;\n",
              "    }\n",
              "  </style>\n",
              "\n",
              "      <script>\n",
              "        const buttonEl =\n",
              "          document.querySelector('#df-68c0ecc9-ed82-4b9a-9c74-c7abc4548b2d button.colab-df-convert');\n",
              "        buttonEl.style.display =\n",
              "          google.colab.kernel.accessAllowed ? 'block' : 'none';\n",
              "\n",
              "        async function convertToInteractive(key) {\n",
              "          const element = document.querySelector('#df-68c0ecc9-ed82-4b9a-9c74-c7abc4548b2d');\n",
              "          const dataTable =\n",
              "            await google.colab.kernel.invokeFunction('convertToInteractive',\n",
              "                                                     [key], {});\n",
              "          if (!dataTable) return;\n",
              "\n",
              "          const docLinkHtml = 'Like what you see? Visit the ' +\n",
              "            '<a target=\"_blank\" href=https://colab.research.google.com/notebooks/data_table.ipynb>data table notebook</a>'\n",
              "            + ' to learn more about interactive tables.';\n",
              "          element.innerHTML = '';\n",
              "          dataTable['output_type'] = 'display_data';\n",
              "          await google.colab.output.renderOutput(dataTable, element);\n",
              "          const docLink = document.createElement('div');\n",
              "          docLink.innerHTML = docLinkHtml;\n",
              "          element.appendChild(docLink);\n",
              "        }\n",
              "      </script>\n",
              "    </div>\n",
              "  </div>\n",
              "  "
            ]
          },
          "metadata": {},
          "execution_count": 7
        }
      ]
    },
    {
      "cell_type": "markdown",
      "source": [
        "Step 2: Import SkLearn libraries and split the data into training and testing sets"
      ],
      "metadata": {
        "id": "8AqKmq1R6iNB"
      }
    },
    {
      "cell_type": "code",
      "source": [
        "\n",
        "from sklearn.model_selection import train_test_split\n",
        "from sklearn.preprocessing import StandardScaler\n",
        "from sklearn.metrics import accuracy_score, f1_score\n",
        "\n",
        "# Load the data\n",
        "wine_data = df\n",
        "\n",
        "\n"
      ],
      "metadata": {
        "id": "CungH0Tf1PIr"
      },
      "execution_count": 22,
      "outputs": []
    },
    {
      "cell_type": "markdown",
      "source": [
        "Check for missing values in the dataset"
      ],
      "metadata": {
        "id": "Ce_4hKO_Cv4g"
      }
    },
    {
      "cell_type": "code",
      "source": [
        "print(df.isna().sum())"
      ],
      "metadata": {
        "colab": {
          "base_uri": "https://localhost:8080/"
        },
        "id": "TuXFFM1JCzbQ",
        "outputId": "797c8d72-ed0d-4a4c-cb69-5e5d94a489f7"
      },
      "execution_count": 27,
      "outputs": [
        {
          "output_type": "stream",
          "name": "stdout",
          "text": [
            "class                           0\n",
            "alcohol                         0\n",
            "malic_acid                      0\n",
            "ash                             0\n",
            "alcalinity_of_ash               0\n",
            "magnesium                       0\n",
            "total_phenols                   0\n",
            "flavanoids                      0\n",
            "nonflavanoid_phenols            0\n",
            "proanthocyanins                 0\n",
            "color_intensity                 0\n",
            "hue                             0\n",
            "od280_od315_of_diluted_wines    0\n",
            "proline                         0\n",
            "dtype: int64\n"
          ]
        }
      ]
    },
    {
      "cell_type": "code",
      "source": [
        "# Split the data into training and testing sets\n",
        "X = wine_data.drop('class', axis=1)\n",
        "y = wine_data['class']\n",
        "X_train, X_test, y_train, y_test = train_test_split(X, y, test_size=0.2, random_state=42)\n"
      ],
      "metadata": {
        "id": "iuQQDZJV6_vC"
      },
      "execution_count": 43,
      "outputs": []
    },
    {
      "cell_type": "markdown",
      "source": [
        "Feature scaling: Since KNN is a distance-based algorithm, it is important to scale the features to ensure that all features are equally important. Similarly, XGBoost can benefit from feature scaling for better performance. A scaler such as StandardScaler can be used."
      ],
      "metadata": {
        "id": "7hlFUwrm68qU"
      }
    },
    {
      "cell_type": "code",
      "source": [
        "# Preprocess the data\n",
        "scaler = StandardScaler()\n",
        "X_train = scaler.fit_transform(X_train)\n",
        "X_test = scaler.transform(X_test)"
      ],
      "metadata": {
        "id": "rrPcel84IVkH"
      },
      "execution_count": 44,
      "outputs": []
    },
    {
      "cell_type": "markdown",
      "source": [
        "Step 4: Import libraries and train the classification models on the training set"
      ],
      "metadata": {
        "id": "61SX5kBk7MEy"
      }
    },
    {
      "cell_type": "code",
      "source": [
        "from xgboost import XGBClassifier\n",
        "from sklearn.feature_selection import SelectFromModel\n",
        "\n",
        "# Train XGBoost\n",
        "xgb = XGBClassifier()\n",
        "xgb.fit(X_train, y_train)"
      ],
      "metadata": {
        "id": "upkJH681aozH",
        "colab": {
          "base_uri": "https://localhost:8080/"
        },
        "outputId": "e9eb3416-d4ed-4ffd-9c25-5c74272ecfbe"
      },
      "execution_count": 45,
      "outputs": [
        {
          "output_type": "execute_result",
          "data": {
            "text/plain": [
              "XGBClassifier(objective='multi:softprob')"
            ]
          },
          "metadata": {},
          "execution_count": 45
        }
      ]
    },
    {
      "cell_type": "markdown",
      "source": [
        "Train XGB model select and print features based on their importance scores"
      ],
      "metadata": {
        "id": "AZEsanTEG2rd"
      }
    },
    {
      "cell_type": "code",
      "source": [
        "\n",
        "# fit an XGBoost model to the training data\n",
        "xgb_model = xgb\n",
        "xgb_model.fit(X_train, y_train)\n",
        "\n",
        "# select features based on their importance scores\n",
        "selector = SelectFromModel(xgb_model, threshold=0.01, prefit=True)\n",
        "X_train_selected = selector.transform(X_train)\n",
        "X_test_selected = selector.transform(X_test)\n",
        "\n",
        "# print the selected feature names\n",
        "selected_features = X.columns[selector.get_support()]\n",
        "print(selected_features)"
      ],
      "metadata": {
        "colab": {
          "base_uri": "https://localhost:8080/"
        },
        "id": "UhYhaFKPE1uY",
        "outputId": "75505bf6-da73-463e-c77d-e77657786602"
      },
      "execution_count": 46,
      "outputs": [
        {
          "output_type": "stream",
          "name": "stdout",
          "text": [
            "Index(['alcohol', 'malic_acid', 'magnesium', 'total_phenols', 'flavanoids',\n",
            "       'color_intensity', 'od280_od315_of_diluted_wines', 'proline'],\n",
            "      dtype='object')\n"
          ]
        }
      ]
    },
    {
      "cell_type": "markdown",
      "source": [
        "Step 5: Evaluate the XGB model on the testing set\n",
        "\n",
        "\n",
        "\n"
      ],
      "metadata": {
        "id": "u6wUcYNd7Si1"
      }
    },
    {
      "cell_type": "code",
      "source": [
        "# Evaluate the XGB model on the testing set\n",
        "y_pred_xgb = xgb.predict(X_test)\n",
        "acc_xgb = accuracy_score(y_test, y_pred_xgb)"
      ],
      "metadata": {
        "id": "u8_5pBT77aEh"
      },
      "execution_count": 47,
      "outputs": []
    },
    {
      "cell_type": "markdown",
      "source": [],
      "metadata": {
        "id": "1wJdfybb7ofO"
      }
    },
    {
      "cell_type": "code",
      "source": [
        "# Print the accuracy of XGB classifier\n",
        "print(\"XGBoost accuracy:\", acc_xgb)"
      ],
      "metadata": {
        "colab": {
          "base_uri": "https://localhost:8080/"
        },
        "id": "Oiq1daH87q_s",
        "outputId": "73f184b5-4b94-448a-d8fa-f086f911bf68"
      },
      "execution_count": 48,
      "outputs": [
        {
          "output_type": "stream",
          "name": "stdout",
          "text": [
            "XGBoost accuracy: 0.9722222222222222\n"
          ]
        }
      ]
    },
    {
      "cell_type": "code",
      "source": [
        "from sklearn.neighbors import KNeighborsClassifier\n",
        "# Train KNN\n",
        "knn = KNeighborsClassifier()\n",
        "knn.fit(X_train, y_train)"
      ],
      "metadata": {
        "colab": {
          "base_uri": "https://localhost:8080/"
        },
        "id": "vefK3PX2FJxp",
        "outputId": "f85bf604-13eb-4142-e392-3dc25ca0c023"
      },
      "execution_count": 49,
      "outputs": [
        {
          "output_type": "execute_result",
          "data": {
            "text/plain": [
              "KNeighborsClassifier()"
            ]
          },
          "metadata": {},
          "execution_count": 49
        }
      ]
    },
    {
      "cell_type": "code",
      "source": [
        "# Evaluate the KNNmodel on the testing set\n",
        "y_pred_knn = knn.predict(X_test)\n",
        "acc_knn = accuracy_score(y_test, y_pred_knn)"
      ],
      "metadata": {
        "id": "ivXHh2hvFLP9"
      },
      "execution_count": 50,
      "outputs": []
    },
    {
      "cell_type": "code",
      "source": [
        "# Print the accuracy of KNN classifier\n",
        "print(\"KNN accuracy:\", acc_knn)"
      ],
      "metadata": {
        "colab": {
          "base_uri": "https://localhost:8080/"
        },
        "id": "aY8EvB0tFcZf",
        "outputId": "8b5411e8-a677-42d2-94fc-cfaedd285ef9"
      },
      "execution_count": 51,
      "outputs": [
        {
          "output_type": "stream",
          "name": "stdout",
          "text": [
            "KNN accuracy: 0.9444444444444444\n"
          ]
        }
      ]
    },
    {
      "cell_type": "markdown",
      "source": [
        "#Exercise 2\n",
        "Compare the classification models using precision (accuracy), a matrix of confusion and other more advanced metrics."
      ],
      "metadata": {
        "id": "rjlqryTyJsIF"
      }
    },
    {
      "cell_type": "code",
      "source": [
        "from sklearn.metrics import confusion_matrix, classification_report\n",
        "\n",
        "# Evaluate KNN model\n",
        "knn_acc = knn.score(X_test, y_test)\n",
        "knn_pred = knn.predict(X_test)\n",
        "knn_cm = confusion_matrix(y_test, knn_pred)\n",
        "knn_report = classification_report(y_test, knn_pred)\n",
        "\n",
        "print(\"KNN Accuracy:\", knn_acc)\n",
        "print(\"KNN Confusion Matrix:\\n\", knn_cm)\n",
        "print(\"KNN Classification Report:\\n\", knn_report)\n",
        "\n",
        "# Evaluate XGBoost model\n",
        "xgb_acc = xgb.score(X_test, y_test)\n",
        "xgb_pred = xgb.predict(X_test)\n",
        "xgb_cm = confusion_matrix(y_test, xgb_pred)\n",
        "xgb_report = classification_report(y_test, xgb_pred)\n",
        "\n",
        "print(\"XGBoost Accuracy:\", xgb_acc)\n",
        "print(\"XGBoost Confusion Matrix:\\n\", xgb_cm)\n",
        "print(\"XGBoost Classification Report:\\n\", xgb_report)\n"
      ],
      "metadata": {
        "colab": {
          "base_uri": "https://localhost:8080/"
        },
        "id": "ZexgRswXKI6S",
        "outputId": "44ffe4b7-0002-4cd2-8a0a-6254b5473755"
      },
      "execution_count": 54,
      "outputs": [
        {
          "output_type": "stream",
          "name": "stdout",
          "text": [
            "KNN Accuracy: 0.9444444444444444\n",
            "KNN Confusion Matrix:\n",
            " [[14  0  0]\n",
            " [ 1 12  1]\n",
            " [ 0  0  8]]\n",
            "KNN Classification Report:\n",
            "               precision    recall  f1-score   support\n",
            "\n",
            "           1       0.93      1.00      0.97        14\n",
            "           2       1.00      0.86      0.92        14\n",
            "           3       0.89      1.00      0.94         8\n",
            "\n",
            "    accuracy                           0.94        36\n",
            "   macro avg       0.94      0.95      0.94        36\n",
            "weighted avg       0.95      0.94      0.94        36\n",
            "\n",
            "XGBoost Accuracy: 0.9722222222222222\n",
            "XGBoost Confusion Matrix:\n",
            " [[14  0  0]\n",
            " [ 0 14  0]\n",
            " [ 0  1  7]]\n",
            "XGBoost Classification Report:\n",
            "               precision    recall  f1-score   support\n",
            "\n",
            "           1       1.00      1.00      1.00        14\n",
            "           2       0.93      1.00      0.97        14\n",
            "           3       1.00      0.88      0.93         8\n",
            "\n",
            "    accuracy                           0.97        36\n",
            "   macro avg       0.98      0.96      0.97        36\n",
            "weighted avg       0.97      0.97      0.97        36\n",
            "\n"
          ]
        }
      ]
    },
    {
      "cell_type": "markdown",
      "source": [
        "#Exercise 3\n",
        "\n",
        "Train them using the different parameters that they allow in order to improve the prediction."
      ],
      "metadata": {
        "id": "8JRM_42qLfAr"
      }
    },
    {
      "cell_type": "markdown",
      "source": [
        "- Exercise 3\n",
        "\n",
        "Train them using the different parameters that they allow in order to improve the prediction."
      ],
      "metadata": {
        "id": "Cxih9Pl5LlsC"
      }
    },
    {
      "cell_type": "markdown",
      "source": [
        "KNN with different values of k:"
      ],
      "metadata": {
        "id": "3PH8e_RALqJ1"
      }
    },
    {
      "cell_type": "code",
      "source": [
        "from sklearn.neighbors import KNeighborsClassifier\n",
        "from sklearn.model_selection import GridSearchCV\n",
        "\n",
        "# Set the parameter grid for k values\n",
        "k_range = list(range(1, 31))\n",
        "param_grid = dict(n_neighbors=k_range)\n",
        "\n",
        "# Train the KNN model with cross-validation\n",
        "knn = KNeighborsClassifier()\n",
        "grid = GridSearchCV(knn, param_grid, cv=10, scoring='accuracy')\n",
        "grid.fit(X_train, y_train)\n",
        "\n",
        "# Print the best k value and accuracy score\n",
        "print(\"KNN Best Parameters:\", grid.best_params_)\n",
        "print(\"KNN Best Accuracy:\", grid.best_score_)\n"
      ],
      "metadata": {
        "colab": {
          "base_uri": "https://localhost:8080/"
        },
        "id": "n9CM9a3KLu7D",
        "outputId": "ef58a9fc-6bd9-4eeb-a6e3-e331f5c7cc2a"
      },
      "execution_count": 55,
      "outputs": [
        {
          "output_type": "stream",
          "name": "stdout",
          "text": [
            "KNN Best Parameters: {'n_neighbors': 6}\n",
            "KNN Best Accuracy: 0.9647619047619047\n"
          ]
        }
      ]
    },
    {
      "cell_type": "markdown",
      "source": [
        "XGBoost with different parameters:"
      ],
      "metadata": {
        "id": "m2Ze7WS0L2yD"
      }
    },
    {
      "cell_type": "code",
      "source": [
        "import xgboost as xgb\n",
        "from sklearn.model_selection import RandomizedSearchCV\n",
        "\n",
        "# Set the parameter grid for XGBoost\n",
        "param_grid = {\n",
        "    'max_depth': [3, 4, 5, 6, 7, 8, 9, 10],\n",
        "    'learning_rate': [0.01, 0.1, 0.2, 0.3],\n",
        "    'subsample': [0.5, 0.6, 0.7, 0.8, 0.9, 1.0],\n",
        "    'colsample_bytree': [0.5, 0.6, 0.7, 0.8, 0.9, 1.0],\n",
        "    'gamma': [0, 1, 2, 3, 4, 5],\n",
        "    'min_child_weight': [1, 3, 5, 7],\n",
        "    'n_estimators': [50, 100, 200, 300, 400, 500, 600, 700, 800, 900, 1000]\n",
        "}\n",
        "\n",
        "# Train the XGBoost model with cross-validation\n",
        "xgb = xgb.XGBClassifier(objective='multi:softmax', num_class=3)\n",
        "random_search = RandomizedSearchCV(xgb, param_distributions=param_grid, n_iter=100, cv=10, n_jobs=-1)\n",
        "random_search.fit(X_train, y_train)\n",
        "\n",
        "# Print the best parameters and accuracy score\n",
        "print(\"XGBoost Best Parameters:\", random_search.best_params_)\n",
        "print(\"XGBoost Best Accuracy:\", random_search.best_score_)\n"
      ],
      "metadata": {
        "colab": {
          "base_uri": "https://localhost:8080/"
        },
        "id": "IQsvrQu0L4gP",
        "outputId": "9adee794-6241-44e2-8fd3-618e1fa5adb7"
      },
      "execution_count": 56,
      "outputs": [
        {
          "output_type": "stream",
          "name": "stdout",
          "text": [
            "XGBoost Best Parameters: {'subsample': 0.9, 'n_estimators': 1000, 'min_child_weight': 7, 'max_depth': 6, 'learning_rate': 0.1, 'gamma': 1, 'colsample_bytree': 0.7}\n",
            "XGBoost Best Accuracy: 0.9785714285714286\n"
          ]
        }
      ]
    },
    {
      "cell_type": "markdown",
      "source": [
        "#Exercise 4\n",
        "\n",
        "Compare their performance to serve the train/test or cross-validation approximation."
      ],
      "metadata": {
        "id": "JtGOedgWM4KL"
      }
    },
    {
      "cell_type": "markdown",
      "source": [
        " Cross_val_score() function from scikit-learn will be used to perform 5-fold cross-validation on both the KNN and XGBoost models. The scoring parameter is set to \"accuracy\" to evaluate the models based on their accuracy scores. The function returns an array of accuracy scores for each fold, which we can use to compute the mean and standard deviation of the accuracy scores. This gives us an estimate of the model's performance on unseen data.\n",
        "\n"
      ],
      "metadata": {
        "id": "SVbrwNb5M6t6"
      }
    },
    {
      "cell_type": "code",
      "source": [
        "from sklearn.model_selection import cross_val_score\n",
        "\n",
        "# Evaluate KNN model using cross-validation\n",
        "knn_scores = cross_val_score(knn, X, y, cv=5, scoring='accuracy')\n",
        "print(\"KNN Cross-validation Accuracy: {:.2f} (+/- {:.2f})\".format(knn_scores.mean(), knn_scores.std() * 2))\n",
        "\n",
        "# Evaluate XGBoost model using cross-validation\n",
        "xgb_scores = cross_val_score(xgb, X, y, cv=5, scoring='accuracy')\n",
        "print(\"XGBoost Cross-validation Accuracy: {:.2f} (+/- {:.2f})\".format(xgb_scores.mean(), xgb_scores.std() * 2))\n"
      ],
      "metadata": {
        "colab": {
          "base_uri": "https://localhost:8080/"
        },
        "id": "lEsjLSYANFB5",
        "outputId": "8408f4e3-fb4f-486a-bb9b-92527ea4900d"
      },
      "execution_count": 57,
      "outputs": [
        {
          "output_type": "stream",
          "name": "stdout",
          "text": [
            "KNN Cross-validation Accuracy: 0.69 (+/- 0.10)\n",
            "XGBoost Cross-validation Accuracy: 0.96 (+/- 0.06)\n"
          ]
        }
      ]
    },
    {
      "cell_type": "markdown",
      "source": [
        "#Exercise 5\n",
        "\n",
        "Apply some engineering process to improve the results (normalization, standardization, sampling...)"
      ],
      "metadata": {
        "id": "mlzyA9vuNCUy"
      }
    },
    {
      "cell_type": "markdown",
      "source": [
        "Check models for overfitting, underfitting, class imbalance and high variance:"
      ],
      "metadata": {
        "id": "gGEY6ux1Oi3q"
      }
    },
    {
      "cell_type": "code",
      "source": [
        "from sklearn.metrics import accuracy_score\n",
        "\n",
        "# Fit the model on training data\n",
        "knn.fit(X_train, y_train)\n",
        "\n",
        "# Predict on training and test data\n",
        "y_train_pred = knn.predict(X_train)\n",
        "y_test_pred = knn.predict(X_test)\n",
        "\n",
        "# Calculate accuracy score for training and test data\n",
        "train_accuracy = accuracy_score(y_train, y_train_pred)\n",
        "test_accuracy = accuracy_score(y_test, y_test_pred)\n",
        "\n",
        "if train_accuracy > test_accuracy:\n",
        "    print(\"Warning: knn model may be overfitting\")\n",
        "\n",
        "# Fit the model on training data\n",
        "xgb.fit(X_train, y_train)\n",
        "\n",
        "# Predict on training and test data\n",
        "y_train_pred = xgb.predict(X_train)\n",
        "y_test_pred = xgb.predict(X_test)\n",
        "\n",
        "# Calculate accuracy score for training and test data\n",
        "train_accuracy = accuracy_score(y_train, y_train_pred)\n",
        "test_accuracy = accuracy_score(y_test, y_test_pred)\n",
        "\n",
        "if train_accuracy > test_accuracy:\n",
        "    print(\"Warning: xgb model may be overfitting\")\n"
      ],
      "metadata": {
        "colab": {
          "base_uri": "https://localhost:8080/"
        },
        "id": "jid4C17DOnIf",
        "outputId": "8192990f-8116-4f1a-a97e-dcfaa54e64b8"
      },
      "execution_count": 60,
      "outputs": [
        {
          "output_type": "stream",
          "name": "stdout",
          "text": [
            "Warning: knn model may be overfitting\n",
            "Warning: xgb model may be overfitting\n"
          ]
        }
      ]
    },
    {
      "cell_type": "code",
      "source": [
        "from sklearn.metrics import accuracy_score\n",
        "\n",
        "# Fit the model on training data\n",
        "knn.fit(X_train, y_train)\n",
        "\n",
        "# Predict on training and test data\n",
        "y_train_pred = knn.predict(X_train)\n",
        "y_test_pred = knn.predict(X_test)\n",
        "\n",
        "# Calculate accuracy score for training and test data\n",
        "train_accuracy = accuracy_score(y_train, y_train_pred)\n",
        "test_accuracy = accuracy_score(y_test, y_test_pred)\n",
        "\n",
        "if train_accuracy < test_accuracy:\n",
        "    print(\"Warning: knn may be underfitting\")"
      ],
      "metadata": {
        "id": "L8m-T8NpO22E"
      },
      "execution_count": 62,
      "outputs": []
    },
    {
      "cell_type": "code",
      "source": [
        "from sklearn.metrics import accuracy_score\n",
        "\n",
        "# Fit the model on training data\n",
        "xgb.fit(X_train, y_train)\n",
        "\n",
        "# Predict on training and test data\n",
        "y_train_pred = xgb.predict(X_train)\n",
        "y_test_pred = xgb.predict(X_test)\n",
        "\n",
        "# Calculate accuracy score for training and test data\n",
        "train_accuracy = accuracy_score(y_train, y_train_pred)\n",
        "test_accuracy = accuracy_score(y_test, y_test_pred)\n",
        "\n",
        "if train_accuracy < test_accuracy:\n",
        "    print(\"Warning: xgb may be underfitting\")"
      ],
      "metadata": {
        "id": "0TfjauiPPy4N"
      },
      "execution_count": 63,
      "outputs": []
    },
    {
      "cell_type": "markdown",
      "source": [
        "Check for class imbalance:"
      ],
      "metadata": {
        "id": "sZfMP7zaQEmT"
      }
    },
    {
      "cell_type": "code",
      "source": [
        "from sklearn.metrics import confusion_matrix\n",
        "\n",
        "# Fit the model on training data\n",
        "knn.fit(X_train, y_train)\n",
        "\n",
        "# Predict on test data\n",
        "y_test_pred = knn.predict(X_test)\n",
        "\n",
        "# Calculate confusion matrix for test data\n",
        "cm = confusion_matrix(y_test, y_test_pred)\n",
        "\n",
        "if cm[0][1] > 0 or cm[0][2] > 0 or cm[1][0] > 0 or cm[1][2] > 0 or cm[2][0] > 0 or cm[2][1] > 0:\n",
        "    print(\"Warning: class imbalance may be affecting knn model performance\")\n"
      ],
      "metadata": {
        "colab": {
          "base_uri": "https://localhost:8080/"
        },
        "id": "a1aShuB3QJMc",
        "outputId": "d97e33fd-389a-4924-fe78-c1c63e282db4"
      },
      "execution_count": 64,
      "outputs": [
        {
          "output_type": "stream",
          "name": "stdout",
          "text": [
            "Warning: class imbalance may be affecting knn model performance\n"
          ]
        }
      ]
    },
    {
      "cell_type": "code",
      "source": [
        "from sklearn.metrics import confusion_matrix\n",
        "\n",
        "# Fit the model on training data\n",
        "xgb.fit(X_train, y_train)\n",
        "\n",
        "# Predict on test data\n",
        "y_test_pred = knn.predict(X_test)\n",
        "\n",
        "# Calculate confusion matrix for test data\n",
        "cm = confusion_matrix(y_test, y_test_pred)\n",
        "\n",
        "if cm[0][1] > 0 or cm[0][2] > 0 or cm[1][0] > 0 or cm[1][2] > 0 or cm[2][0] > 0 or cm[2][1] > 0:\n",
        "    print(\"Warning: class imbalance may be affecting xgb model performance\")\n"
      ],
      "metadata": {
        "colab": {
          "base_uri": "https://localhost:8080/"
        },
        "id": "BV_4zeU3QQ_4",
        "outputId": "3b555be1-ee10-451c-fd56-b9246b8e3f7c"
      },
      "execution_count": 65,
      "outputs": [
        {
          "output_type": "stream",
          "name": "stdout",
          "text": [
            "Warning: class imbalance may be affecting xgb model performance\n"
          ]
        }
      ]
    },
    {
      "cell_type": "markdown",
      "source": [
        "Check for high variance:"
      ],
      "metadata": {
        "id": "dWVG3JgjQZCO"
      }
    },
    {
      "cell_type": "code",
      "source": [
        "from sklearn.model_selection import learning_curve\n",
        "\n",
        "# Define a function to plot learning curves\n",
        "def plot_learning_curve(estimator, X, y):\n",
        "    train_sizes, train_scores, test_scores = learning_curve(estimator, X, y, cv=5)\n",
        "    train_scores_mean = np.mean(train_scores, axis=1)\n",
        "    train_scores_std = np.std(train_scores, axis=1)\n",
        "    test_scores_mean = np.mean(test_scores, axis=1)\n",
        "    test_scores_std = np.std(test_scores, axis=1)\n",
        "\n",
        "    plt.fill_between(train_sizes, train_scores_mean - train_scores_std,\n",
        "                     train_scores_mean + train_scores_std, alpha=0.1,\n",
        "                     color=\"r\")\n",
        "    plt.fill_between(train_sizes, test_scores_mean - test_scores_std,\n",
        "                     test_scores_mean + test_scores_std, alpha=0.1, color=\"g\")\n",
        "    plt.plot(train_sizes, train_scores_mean, 'o-', color=\"r\",\n",
        "             label=\"Training score\")\n",
        "    plt.plot(train_sizes, test_scores_mean, 'o-', color=\"g\",\n",
        "             label=\"Cross-validation score\")\n",
        "    plt.xlabel(\"Training examples\")\n",
        "    plt.ylabel(\"Score\")\n",
        "    plt.legend(loc=\"best\")\n",
        "    plt.show()\n",
        "\n",
        "# Plot learning curves for knn model\n",
        "plot_learning_curve(knn, X, y)\n",
        "\n",
        "if knn.score(X_train, y_train) - knn.score(X_test, y_test) > 0.1:\n",
        "    print(\"Warning: model may have high variance\")\n",
        "\n",
        "# Plot learning curves for xgb model\n",
        "plot_learning_curve(xgb, X, y)\n",
        "\n",
        "if knn.score(X_train, y_train) - knn.score(X_test, y_test) > 0.1:\n",
        "    print(\"Warning: xgb model may have high variance\")"
      ],
      "metadata": {
        "colab": {
          "base_uri": "https://localhost:8080/",
          "height": 541
        },
        "id": "qPhcqUg9QdPI",
        "outputId": "44a14bb3-ecaf-489c-e576-25dc0c423603"
      },
      "execution_count": 67,
      "outputs": [
        {
          "output_type": "display_data",
          "data": {
            "text/plain": [
              "<Figure size 432x288 with 1 Axes>"
            ],
            "image/png": "[encoded data removed]"
          },
          "metadata": {
            "needs_background": "light"
          }
        },
        {
          "output_type": "display_data",
          "data": {
            "text/plain": [
              "<Figure size 432x288 with 1 Axes>"
            ],
            "image/png": "[encoded data removed]"
          },
          "metadata": {
            "needs_background": "light"
          }
        }
      ]
    },
    {
      "cell_type": "markdown",
      "source": [
        "Regularization can be used to deal with overfitting for the KNN model:\n",
        "\n"
      ],
      "metadata": {
        "id": "pVp5R70aR6v9"
      }
    },
    {
      "cell_type": "code",
      "source": [
        "from sklearn.neighbors import KNeighborsClassifier\n",
        "from sklearn.pipeline import make_pipeline\n",
        "\n",
        "# Create pipeline with StandardScaler and KNN classifier\n",
        "knn_pipeline = make_pipeline(StandardScaler(), KNeighborsClassifier())\n",
        "\n",
        "# Define hyperparameters for KNN classifier and regularization parameter for StandardScaler\n",
        "param_grid = {'kneighborsclassifier__n_neighbors': [3, 5, 7, 9],\n",
        "              'kneighborsclassifier__weights': ['uniform', 'distance'],\n",
        "              'standardscaler__with_mean': [True, False],\n",
        "              'standardscaler__with_std': [True, False],\n",
        "              'standardscaler__copy': [True, False]}\n",
        "\n",
        "# Use GridSearchCV to find the best hyperparameters\n",
        "knn_grid = GridSearchCV(knn_pipeline, param_grid=param_grid, cv=5, scoring='accuracy')\n",
        "knn_grid.fit(X_train, y_train)\n",
        "\n",
        "# Print best hyperparameters and score\n",
        "print(\"Best hyperparameters for KNN:\", knn_grid.best_params_)\n",
        "print(\"KNN Accuracy:\", knn_grid.best_score_)\n"
      ],
      "metadata": {
        "colab": {
          "base_uri": "https://localhost:8080/"
        },
        "id": "HdhKBAACSJNz",
        "outputId": "fdd383fa-bc0e-4411-d4ab-1a4768d95cbb"
      },
      "execution_count": 68,
      "outputs": [
        {
          "output_type": "stream",
          "name": "stdout",
          "text": [
            "Best hyperparameters for KNN: {'kneighborsclassifier__n_neighbors': 5, 'kneighborsclassifier__weights': 'uniform', 'standardscaler__copy': True, 'standardscaler__with_mean': True, 'standardscaler__with_std': True}\n",
            "KNN Accuracy: 0.9578817733990148\n"
          ]
        }
      ]
    },
    {
      "cell_type": "markdown",
      "source": [
        "Regularization can be used to deal with overfitting for the KNN model:\n",
        "\n",
        "\n"
      ],
      "metadata": {
        "id": "5Jc5tFzmSW9-"
      }
    },
    {
      "cell_type": "code",
      "source": [
        "# Define XGBoost classifier\n",
        "xgb_clf = xgb\n",
        "\n",
        "# Define hyperparameters for XGBoost classifier\n",
        "param_grid = {'max_depth': [3, 5, 7, 9],\n",
        "              'learning_rate': [0.01, 0.1, 0.3],\n",
        "              'n_estimators': [50, 100, 150],\n",
        "              'gamma': [0, 0.1, 0.5, 1],\n",
        "              'subsample': [0.5, 0.75, 1],\n",
        "              'colsample_bytree': [0.5, 0.75, 1],\n",
        "              'reg_alpha': [0, 0.1, 1],\n",
        "              'reg_lambda': [0, 0.1, 1]}\n",
        "\n",
        "# Use GridSearchCV to find the best hyperparameters\n",
        "xgb_grid = GridSearchCV(xgb_clf, param_grid=param_grid, cv=5, scoring='accuracy')\n",
        "xgb_grid.fit(X_train, y_train)\n",
        "\n",
        "# Print best hyperparameters and score\n",
        "print(\"Best hyperparameters for XGBoost:\", xgb_grid.best_params_)\n",
        "print(\"XGBoost Accuracy:\", xgb_grid.best_score_)\n"
      ],
      "metadata": {
        "id": "e19MLbaLSXho"
      },
      "execution_count": null,
      "outputs": []
    }
  ]
}