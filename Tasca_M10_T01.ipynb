{
  "cells": [
    {
      "cell_type": "markdown",
      "metadata": {
        "id": "view-in-github",
        "colab_type": "text"
      },
      "source": [
        "<a href=\"https://colab.research.google.com/github/ddenebb/estructures_Dataframe/blob/main/Tasca_M10_T01.ipynb\" target=\"_parent\"><img src=\"https://colab.research.google.com/assets/colab-badge.svg\" alt=\"Open In Colab\"/></a>"
      ]
    },
    {
      "cell_type": "markdown",
      "metadata": {
        "id": "Im8fYmJH9bL_"
      },
      "source": [
        "# Exercise 1\n",
        "\n",
        "Perform web scraping of two of the three proposed web pages using BeautifulSoup first and Selenium afterwards.\n",
        "\n",
        "- http://quotes.toscrape.com\n",
        "\n",
        "- https://www.bolsamadrid.es\n",
        "\n",
        "- www.wikipedia.es (do a search first and scrape some content)"
      ]
    },
    {
      "cell_type": "markdown",
      "metadata": {
        "id": "WiJ0ZV4U8eqo"
      },
      "source": [
        "Before performing web scraping on any website, it's important to determine whether it is legal and ethical to do so. Here are a few steps that can be taken to determine if web scraping a particular website is allowed:\n",
        "\n",
        "- Check the website's terms of service or robots.txt file: The terms of service or robots.txt file on the website may explicitly prohibit web scraping or provide guidelines for how web scraping can be performed on the site. It's important to read and understand these guidelines before performing any web scraping.\n",
        "\n",
        "- Check for any applicable laws or regulations: In some cases, web scraping may be illegal under certain laws or regulations. For example, the General Data Protection Regulation (GDPR) in the European Union provides guidelines for how personal data can be collected and processed.\n",
        "\n",
        "- Determine the purpose and scope of the web scraping: If the web scraping is for personal or non-commercial use, it may be more likely to be considered legal and ethical than if it is for commercial or competitive purposes. It's also important to consider the scope of the web scraping, including the frequency and volume of requests and the impact on the website's servers.\n",
        "\n",
        "- Obtain permission from the website owner: If in doubt, it's always a good idea to contact the website owner and ask for permission before performing any web scraping. This can help ensure that the web scraping is legal and ethical and can also help establish a positive relationship with the website owner."
      ]
    },
    {
      "cell_type": "markdown",
      "metadata": {
        "id": "IlksL3R6-A4P"
      },
      "source": [
        "As this is an exercise and will not be used for commercial purposes, we´ll assume that scraping won't be a problem.\n",
        "The website is specifically designed for learning and testing web scraping techniques and does not have any restrictions or prohibitions against web scraping. Additionally, the website provides a robots.txt file that allows web crawling of all pages.\n",
        "However, it's always a good idea to be respectful and responsible when performing web scraping, even on a website that is designed for this purpose. This includes avoiding excessive scraping that could negatively impact the website's servers and being mindful of any potential ethical considerations related to the data being scraped.\n",
        "\n",
        "We will send a request to the website, get its content, and parse it using BeautifulSoup. We will then find all the quote tags on the page and loop through each quote, extracting the text and author information and printing it to the console."
      ]
    },
    {
      "cell_type": "code",
      "execution_count": 1,
      "metadata": {
        "colab": {
          "base_uri": "https://localhost:8080/"
        },
        "id": "YxC8Ode4-naB",
        "outputId": "1008b226-6dce-4fd7-e6ff-71860689ec2a"
      },
      "outputs": [
        {
          "output_type": "stream",
          "name": "stdout",
          "text": [
            "Albert Einstein: \"“The world as we have created it is a process of our thinking. It cannot be changed without changing our thinking.”\"\n",
            "J.K. Rowling: \"“It is our choices, Harry, that show what we truly are, far more than our abilities.”\"\n",
            "Albert Einstein: \"“There are only two ways to live your life. One is as though nothing is a miracle. The other is as though everything is a miracle.”\"\n",
            "Jane Austen: \"“The person, be it gentleman or lady, who has not pleasure in a good novel, must be intolerably stupid.”\"\n",
            "Marilyn Monroe: \"“Imperfection is beauty, madness is genius and it's better to be absolutely ridiculous than absolutely boring.”\"\n",
            "Albert Einstein: \"“Try not to become a man of success. Rather become a man of value.”\"\n",
            "André Gide: \"“It is better to be hated for what you are than to be loved for what you are not.”\"\n",
            "Thomas A. Edison: \"“I have not failed. I've just found 10,000 ways that won't work.”\"\n",
            "Eleanor Roosevelt: \"“A woman is like a tea bag; you never know how strong it is until it's in hot water.”\"\n",
            "Steve Martin: \"“A day without sunshine is like, you know, night.”\"\n"
          ]
        }
      ],
      "source": [
        "import requests\n",
        "from bs4 import BeautifulSoup\n",
        "\n",
        "# send a request to the website and get its content\n",
        "response = requests.get('http://quotes.toscrape.com/')\n",
        "content = response.content\n",
        "\n",
        "# parse the HTML content using BeautifulSoup\n",
        "soup = BeautifulSoup(content, 'html.parser')\n",
        "\n",
        "# find all the quote tags on the page\n",
        "quote_tags = soup.find_all('div', {'class': 'quote'})\n",
        "\n",
        "# loop through each quote and extract the text and author\n",
        "for quote in quote_tags:\n",
        "    text = quote.find('span', {'class': 'text'}).text\n",
        "    author = quote.find('small', {'class': 'author'}).text\n",
        "    print(f'{author}: \"{text}\"')\n"
      ]
    },
    {
      "cell_type": "markdown",
      "metadata": {
        "id": "LJqr5I4SBLvL"
      },
      "source": [
        "We now will do the scraping using Selenium. We first install and import the libraries needed webdriver module from Selenium, and specify the path to the Chrome driver executable. We then initialize a Chrome driver and navigate to the website using the get method. We get the page source using the page_source property of the driver object and parse it using BeautifulSoup. Finally, we find all the quote tags on the page, loop through them, and extract the text and author using the same methods as in the previous example. We then close the driver using the quit method."
      ]
    },
    {
      "cell_type": "code",
      "execution_count": 2,
      "metadata": {
        "colab": {
          "base_uri": "https://localhost:8080/"
        },
        "id": "SisT8tnRVaqw",
        "outputId": "a6193d21-3141-4d71-f64e-da1c3cfc01b2"
      },
      "outputs": [
        {
          "output_type": "stream",
          "name": "stdout",
          "text": [
            "--2023-04-11 07:55:56--  https://dl.google.com/linux/direct/google-chrome-stable_current_amd64.deb\n",
            "Resolving dl.google.com (dl.google.com)... 172.217.204.93, 172.217.204.91, 172.217.204.190, ...\n",
            "Connecting to dl.google.com (dl.google.com)|172.217.204.93|:443... connected.\n",
            "HTTP request sent, awaiting response... 200 OK\n",
            "Length: 93762720 (89M) [application/x-debian-package]\n",
            "Saving to: ‘google-chrome-stable_current_amd64.deb’\n",
            "\n",
            "google-chrome-stabl 100%[===================>]  89.42M   253MB/s    in 0.4s    \n",
            "\n",
            "2023-04-11 07:55:57 (253 MB/s) - ‘google-chrome-stable_current_amd64.deb’ saved [93762720/93762720]\n",
            "\n",
            "Selecting previously unselected package google-chrome-stable.\n",
            "(Reading database ... 122349 files and directories currently installed.)\n",
            "Preparing to unpack google-chrome-stable_current_amd64.deb ...\n",
            "Unpacking google-chrome-stable (112.0.5615.49-1) ...\n",
            "\u001b[1mdpkg:\u001b[0m dependency problems prevent configuration of google-chrome-stable:\n",
            " google-chrome-stable depends on libu2f-udev; however:\n",
            "  Package libu2f-udev is not installed.\n",
            "\n",
            "\u001b[1mdpkg:\u001b[0m error processing package google-chrome-stable (--install):\n",
            " dependency problems - leaving unconfigured\n",
            "Processing triggers for mime-support (3.64ubuntu1) ...\n",
            "Processing triggers for man-db (2.9.1-1) ...\n",
            "Errors were encountered while processing:\n",
            " google-chrome-stable\n",
            "Reading package lists... Done\n",
            "Building dependency tree       \n",
            "Reading state information... Done\n",
            "Correcting dependencies... Done\n",
            "The following additional packages will be installed:\n",
            "  libu2f-udev libudev1 udev\n",
            "The following NEW packages will be installed:\n",
            "  libu2f-udev udev\n",
            "The following packages will be upgraded:\n",
            "  libudev1\n",
            "1 upgraded, 2 newly installed, 0 to remove and 23 not upgraded.\n",
            "1 not fully installed or removed.\n",
            "Need to get 1,448 kB of archives.\n",
            "After this operation, 9,438 kB of additional disk space will be used.\n",
            "Get:1 http://archive.ubuntu.com/ubuntu focal-updates/main amd64 libudev1 amd64 245.4-4ubuntu3.20 [75.6 kB]\n",
            "Get:2 http://archive.ubuntu.com/ubuntu focal-updates/main amd64 udev amd64 245.4-4ubuntu3.20 [1,366 kB]\n",
            "Get:3 http://archive.ubuntu.com/ubuntu focal/main amd64 libu2f-udev all 1.1.10-1 [6,108 B]\n",
            "Fetched 1,448 kB in 0s (4,294 kB/s)\n",
            "(Reading database ... 122465 files and directories currently installed.)\n",
            "Preparing to unpack .../libudev1_245.4-4ubuntu3.20_amd64.deb ...\n",
            "Unpacking libudev1:amd64 (245.4-4ubuntu3.20) over (245.4-4ubuntu3.19) ...\n",
            "Setting up libudev1:amd64 (245.4-4ubuntu3.20) ...\n",
            "Selecting previously unselected package udev.\n",
            "(Reading database ... 122465 files and directories currently installed.)\n",
            "Preparing to unpack .../udev_245.4-4ubuntu3.20_amd64.deb ...\n",
            "Unpacking udev (245.4-4ubuntu3.20) ...\n",
            "Selecting previously unselected package libu2f-udev.\n",
            "Preparing to unpack .../libu2f-udev_1.1.10-1_all.deb ...\n",
            "Unpacking libu2f-udev (1.1.10-1) ...\n",
            "Setting up udev (245.4-4ubuntu3.20) ...\n",
            "invoke-rc.d: could not determine current runlevel\n",
            "invoke-rc.d: policy-rc.d denied execution of start.\n",
            "Setting up libu2f-udev (1.1.10-1) ...\n",
            "Failed to send reload request: No such file or directory\n",
            "Setting up google-chrome-stable (112.0.5615.49-1) ...\n",
            "update-alternatives: using /usr/bin/google-chrome-stable to provide /usr/bin/x-www-browser (x-www-browser) in auto mode\n",
            "update-alternatives: using /usr/bin/google-chrome-stable to provide /usr/bin/gnome-www-browser (gnome-www-browser) in auto mode\n",
            "update-alternatives: using /usr/bin/google-chrome-stable to provide /usr/bin/google-chrome (google-chrome) in auto mode\n",
            "Processing triggers for systemd (245.4-4ubuntu3.20) ...\n",
            "Processing triggers for man-db (2.9.1-1) ...\n",
            "Processing triggers for libc-bin (2.31-0ubuntu9.9) ...\n"
          ]
        }
      ],
      "source": [
        "!wget https://dl.google.com/linux/direct/google-chrome-stable_current_amd64.deb\n",
        "!dpkg -i google-chrome-stable_current_amd64.deb\n",
        "!apt-get -f install -y\n"
      ]
    },
    {
      "cell_type": "code",
      "execution_count": 3,
      "metadata": {
        "colab": {
          "base_uri": "https://localhost:8080/"
        },
        "id": "kQ6LizDrVjvT",
        "outputId": "e58c2090-e096-4f7f-b2b4-bf23c7f1da67"
      },
      "outputs": [
        {
          "output_type": "stream",
          "name": "stdout",
          "text": [
            "[1399:1399:0411/075628.791638:ERROR:zygote_host_impl_linux.cc(100)] Running as root without --no-sandbox is not supported. See https://crbug.com/638180.\n"
          ]
        }
      ],
      "source": [
        "!google-chrome-stable\n"
      ]
    },
    {
      "cell_type": "code",
      "execution_count": 4,
      "metadata": {
        "colab": {
          "base_uri": "https://localhost:8080/"
        },
        "id": "Gr2gJvsMqNY_",
        "outputId": "3e2e2da2-95ae-4ee6-dddb-85318af9aab9"
      },
      "outputs": [
        {
          "output_type": "stream",
          "name": "stdout",
          "text": [
            "Drive already mounted at /content/drive; to attempt to forcibly remount, call drive.mount(\"/content/drive\", force_remount=True).\n"
          ]
        }
      ],
      "source": [
        "from google.colab import drive\n",
        "drive.mount('/content/drive')\n",
        "#docs_dir = '/content/gdrive/My Drive/Docs'"
      ]
    },
    {
      "cell_type": "code",
      "execution_count": 5,
      "metadata": {
        "colab": {
          "base_uri": "https://localhost:8080/"
        },
        "id": "V-D6MvTAZVG7",
        "outputId": "5f619a8b-bbf2-4da4-f18e-01e1e5458f14"
      },
      "outputs": [
        {
          "output_type": "stream",
          "name": "stdout",
          "text": [
            "Google Chrome 112.0.5615.49 \n"
          ]
        }
      ],
      "source": [
        "!google-chrome --version"
      ]
    },
    {
      "cell_type": "code",
      "execution_count": 6,
      "metadata": {
        "id": "LjER75pz1hAE"
      },
      "outputs": [],
      "source": [
        "!cp \"/content/drive/MyDrive/Google Colab DS IT Academy/Sprint 10/Data/chromedriver\" /usr/bin/"
      ]
    },
    {
      "cell_type": "code",
      "execution_count": 7,
      "metadata": {
        "id": "2YhUoOK52HvX"
      },
      "outputs": [],
      "source": [
        "!sudo chmod +x /usr/bin/chromedriver\n"
      ]
    },
    {
      "cell_type": "code",
      "execution_count": 8,
      "metadata": {
        "colab": {
          "base_uri": "https://localhost:8080/"
        },
        "id": "EZVD30ZSZiSC",
        "outputId": "60913e79-9244-4111-a2a3-4a02759cb121"
      },
      "outputs": [
        {
          "output_type": "stream",
          "name": "stdout",
          "text": [
            "ChromeDriver 112.0.5615.49 (bd2a7bcb881c11e8cfe3078709382934e3916914-refs/branch-heads/5615@{#936})\n"
          ]
        }
      ],
      "source": [
        "!chromedriver --version"
      ]
    },
    {
      "cell_type": "code",
      "execution_count": 9,
      "metadata": {
        "colab": {
          "base_uri": "https://localhost:8080/"
        },
        "id": "TY-tmsAySe0f",
        "outputId": "28bce2e8-f397-4a95-df2a-a312a9e21714"
      },
      "outputs": [
        {
          "output_type": "stream",
          "name": "stdout",
          "text": [
            "Looking in indexes: https://pypi.org/simple, https://us-python.pkg.dev/colab-wheels/public/simple/\n",
            "Collecting selenium\n",
            "  Downloading selenium-4.8.3-py3-none-any.whl (6.5 MB)\n",
            "\u001b[2K     \u001b[90m━━━━━━━━━━━━━━━━━━━━━━━━━━━━━━━━━━━━━━━━\u001b[0m \u001b[32m6.5/6.5 MB\u001b[0m \u001b[31m40.8 MB/s\u001b[0m eta \u001b[36m0:00:00\u001b[0m\n",
            "\u001b[?25hCollecting trio-websocket~=0.9\n",
            "  Downloading trio_websocket-0.10.2-py3-none-any.whl (17 kB)\n",
            "Requirement already satisfied: certifi>=2021.10.8 in /usr/local/lib/python3.9/dist-packages (from selenium) (2022.12.7)\n",
            "Requirement already satisfied: urllib3[socks]~=1.26 in /usr/local/lib/python3.9/dist-packages (from selenium) (1.26.15)\n",
            "Collecting trio~=0.17\n",
            "  Downloading trio-0.22.0-py3-none-any.whl (384 kB)\n",
            "\u001b[2K     \u001b[90m━━━━━━━━━━━━━━━━━━━━━━━━━━━━━━━━━━━━━━\u001b[0m \u001b[32m384.9/384.9 kB\u001b[0m \u001b[31m33.8 MB/s\u001b[0m eta \u001b[36m0:00:00\u001b[0m\n",
            "\u001b[?25hRequirement already satisfied: idna in /usr/local/lib/python3.9/dist-packages (from trio~=0.17->selenium) (3.4)\n",
            "Requirement already satisfied: sniffio in /usr/local/lib/python3.9/dist-packages (from trio~=0.17->selenium) (1.3.0)\n",
            "Collecting async-generator>=1.9\n",
            "  Downloading async_generator-1.10-py3-none-any.whl (18 kB)\n",
            "Requirement already satisfied: exceptiongroup>=1.0.0rc9 in /usr/local/lib/python3.9/dist-packages (from trio~=0.17->selenium) (1.1.1)\n",
            "Requirement already satisfied: attrs>=19.2.0 in /usr/local/lib/python3.9/dist-packages (from trio~=0.17->selenium) (22.2.0)\n",
            "Requirement already satisfied: sortedcontainers in /usr/local/lib/python3.9/dist-packages (from trio~=0.17->selenium) (2.4.0)\n",
            "Collecting outcome\n",
            "  Downloading outcome-1.2.0-py2.py3-none-any.whl (9.7 kB)\n",
            "Collecting wsproto>=0.14\n",
            "  Downloading wsproto-1.2.0-py3-none-any.whl (24 kB)\n",
            "Requirement already satisfied: PySocks!=1.5.7,<2.0,>=1.5.6 in /usr/local/lib/python3.9/dist-packages (from urllib3[socks]~=1.26->selenium) (1.7.1)\n",
            "Collecting h11<1,>=0.9.0\n",
            "  Downloading h11-0.14.0-py3-none-any.whl (58 kB)\n",
            "\u001b[2K     \u001b[90m━━━━━━━━━━━━━━━━━━━━━━━━━━━━━━━━━━━━━━━━\u001b[0m \u001b[32m58.3/58.3 kB\u001b[0m \u001b[31m7.0 MB/s\u001b[0m eta \u001b[36m0:00:00\u001b[0m\n",
            "\u001b[?25hInstalling collected packages: outcome, h11, async-generator, wsproto, trio, trio-websocket, selenium\n",
            "Successfully installed async-generator-1.10 h11-0.14.0 outcome-1.2.0 selenium-4.8.3 trio-0.22.0 trio-websocket-0.10.2 wsproto-1.2.0\n"
          ]
        }
      ],
      "source": [
        "!pip install selenium\n"
      ]
    },
    {
      "cell_type": "markdown",
      "metadata": {
        "id": "-5yOGLFbCILm"
      },
      "source": [
        "It's important to note that using Selenium can be slower and more resource-intensive than using Beautiful Soup, as it involves opening a full browser window and loading the page. However, it can be useful in cases where the website requires user interaction, such as filling out forms or clicking buttons, as Selenium can simulate user actions."
      ]
    },
    {
      "cell_type": "code",
      "execution_count": 10,
      "metadata": {
        "colab": {
          "base_uri": "https://localhost:8080/"
        },
        "id": "renZJLtxbqwH",
        "outputId": "6009e20f-a84b-4ac6-9f4d-a76d0ba333aa"
      },
      "outputs": [
        {
          "output_type": "stream",
          "name": "stderr",
          "text": [
            "<ipython-input-10-85c35e47d838>:15: DeprecationWarning: executable_path has been deprecated, please pass in a Service object\n",
            "  driver = webdriver.Chrome(chromedriver_path, options=options)\n"
          ]
        },
        {
          "output_type": "stream",
          "name": "stdout",
          "text": [
            "Albert Einstein: \"“The world as we have created it is a process of our thinking. It cannot be changed without changing our thinking.”\"\n",
            "J.K. Rowling: \"“It is our choices, Harry, that show what we truly are, far more than our abilities.”\"\n",
            "Albert Einstein: \"“There are only two ways to live your life. One is as though nothing is a miracle. The other is as though everything is a miracle.”\"\n",
            "Jane Austen: \"“The person, be it gentleman or lady, who has not pleasure in a good novel, must be intolerably stupid.”\"\n",
            "Marilyn Monroe: \"“Imperfection is beauty, madness is genius and it's better to be absolutely ridiculous than absolutely boring.”\"\n",
            "Albert Einstein: \"“Try not to become a man of success. Rather become a man of value.”\"\n",
            "André Gide: \"“It is better to be hated for what you are than to be loved for what you are not.”\"\n",
            "Thomas A. Edison: \"“I have not failed. I've just found 10,000 ways that won't work.”\"\n",
            "Eleanor Roosevelt: \"“A woman is like a tea bag; you never know how strong it is until it's in hot water.”\"\n",
            "Steve Martin: \"“A day without sunshine is like, you know, night.”\"\n"
          ]
        }
      ],
      "source": [
        "from selenium import webdriver\n",
        "from selenium.webdriver.common.by import By\n",
        "from selenium.webdriver.support.ui import WebDriverWait\n",
        "from selenium.webdriver.support import expected_conditions as EC\n",
        "\n",
        "options = webdriver.ChromeOptions()\n",
        "options.add_argument('--headless')\n",
        "options.add_argument('--disable-dev-shm-usage')\n",
        "options.add_argument('--no-sandbox')\n",
        "\n",
        "# Point to the location of your chromedriver\n",
        "chromedriver_path = '/usr/bin/chromedriver'\n",
        "\n",
        "# Initialize the driver\n",
        "driver = webdriver.Chrome(chromedriver_path, options=options)\n",
        "\n",
        "# Wait for the page to load and get the content\n",
        "wait = WebDriverWait(driver, 10)\n",
        "driver.get('http://quotes.toscrape.com/')\n",
        "wait.until(EC.presence_of_element_located((By.CSS_SELECTOR, '.quote')))\n",
        "\n",
        "# get the page source and parse it using BeautifulSoup\n",
        "content = driver.page_source\n",
        "soup = BeautifulSoup(content, 'html.parser')\n",
        "\n",
        "# find all the quote tags on the page\n",
        "quote_tags = soup.find_all('div', {'class': 'quote'})\n",
        "\n",
        "# loop through each quote and extract the text and author\n",
        "for quote in quote_tags:\n",
        "    text = quote.find('span', {'class': 'text'}).text\n",
        "    author = quote.find('small', {'class': 'author'}).text\n",
        "    print(f'{author}: \"{text}\"')\n",
        "\n",
        "# close the driver\n",
        "driver.quit()\n"
      ]
    },
    {
      "cell_type": "markdown",
      "source": [
        "The next cell  scrapes the Wikipedia page for \"List of Academy Award-winning films\", extracts the data from the table on that page, and creates a pandas dataframe with that data.\n",
        "\n",
        "Here's a step-by-step breakdown of what the code does:\n",
        "\n",
        "  Import the necessary libraries: requests, pandas, and BeautifulSoup.\n",
        "\n",
        "  Send a GET request to the Wikipedia page for \"List of Academy Award-winning films\" using the requests.get() function and store the response in the response variable.\n",
        "\n",
        "  Create a BeautifulSoup object from the HTML content of the response using the BeautifulSoup() function and store it in the soup variable.\n",
        "\n",
        "  Find the table on the page that has the class \"wikitable sortable\" using the soup.find() method and store it in the table variable.\n",
        "\n",
        "  Extract the headers of the table by finding all th elements within the table variable using the find_all() method and appending their text (stripped of whitespace) to the headers list.\n",
        "\n",
        "  Extract the rows of the table by finding all tr elements within the tbody element of the table variable using the find_all() method, then iterating over each td element within each tr element to append their text (stripped of whitespace) to the row list. If the row list is not empty (i.e., if it contains data), then append it to the rows list.\n",
        "\n",
        "  Create a pandas dataframe from the rows and headers lists using the pd.DataFrame() function and store it in the df variable.\n",
        "\n",
        "  Return the pandas dataframe df."
      ],
      "metadata": {
        "id": "iqEaznZGukQp"
      }
    },
    {
      "cell_type": "code",
      "source": [
        "import requests\n",
        "import pandas as pd\n",
        "from bs4 import BeautifulSoup\n",
        "\n",
        "# Make a request\n",
        "url = 'https://en.wikipedia.org/wiki/List_of_Academy_Award-winning_films'\n",
        "response = requests.get(url)\n",
        "\n",
        "# Create soup object\n",
        "soup = BeautifulSoup(response.content, 'html.parser')\n",
        "\n",
        "# Find the awards table\n",
        "table = soup.find('table', {'class': 'wikitable sortable'})\n",
        "\n",
        "# Extract the table headers\n",
        "headers = []\n",
        "for th in table.find_all('th'):\n",
        "    headers.append(th.text.strip())\n",
        "\n",
        "# Extract the table rows\n",
        "rows = []\n",
        "for tr in table.tbody.find_all('tr'):\n",
        "    row = []\n",
        "    for td in tr.find_all('td'):\n",
        "        row.append(td.text.strip())\n",
        "    if row:\n",
        "        rows.append(row)\n",
        "\n",
        "# Create the pandas dataframe\n",
        "df = pd.DataFrame(rows, columns=headers)\n",
        "\n",
        "df\n",
        "\n"
      ],
      "metadata": {
        "colab": {
          "base_uri": "https://localhost:8080/",
          "height": 424
        },
        "id": "nGc0S-Wf9xuh",
        "outputId": "6097ce00-51c6-4992-c643-2574f44f5b3f"
      },
      "execution_count": 41,
      "outputs": [
        {
          "output_type": "execute_result",
          "data": {
            "text/plain": [
              "                                                   Film  Year Awards  \\\n",
              "0                     Everything Everywhere All at Once  2022      7   \n",
              "1                        All Quiet on the Western Front  2022      4   \n",
              "2                                             The Whale  2022      2   \n",
              "3                                     Top Gun: Maverick  2022      1   \n",
              "4                        Black Panther: Wakanda Forever  2022      1   \n",
              "...                                                 ...   ...    ...   \n",
              "1355                            The Yankee Doodle Mouse  1943      1   \n",
              "1356                                       The Yearling  1946      2   \n",
              "1357  Yesterday, Today and Tomorrow (Ieri, oggi, dom...  1964      1   \n",
              "1358                         You Can't Take It with You  1938      2   \n",
              "1359                    Zorba the Greek (Alexis Zorbas)  1964      3   \n",
              "\n",
              "     Nominations  \n",
              "0             11  \n",
              "1              9  \n",
              "2              3  \n",
              "3              6  \n",
              "4              5  \n",
              "...          ...  \n",
              "1355           1  \n",
              "1356           7  \n",
              "1357           1  \n",
              "1358           7  \n",
              "1359           7  \n",
              "\n",
              "[1360 rows x 4 columns]"
            ],
            "text/html": [
              "\n",
              "  <div id=\"df-04bd9599-9849-437e-ae8a-16f023956cbb\">\n",
              "    <div class=\"colab-df-container\">\n",
              "      <div>\n",
              "<style scoped>\n",
              "    .dataframe tbody tr th:only-of-type {\n",
              "        vertical-align: middle;\n",
              "    }\n",
              "\n",
              "    .dataframe tbody tr th {\n",
              "        vertical-align: top;\n",
              "    }\n",
              "\n",
              "    .dataframe thead th {\n",
              "        text-align: right;\n",
              "    }\n",
              "</style>\n",
              "<table border=\"1\" class=\"dataframe\">\n",
              "  <thead>\n",
              "    <tr style=\"text-align: right;\">\n",
              "      <th></th>\n",
              "      <th>Film</th>\n",
              "      <th>Year</th>\n",
              "      <th>Awards</th>\n",
              "      <th>Nominations</th>\n",
              "    </tr>\n",
              "  </thead>\n",
              "  <tbody>\n",
              "    <tr>\n",
              "      <th>0</th>\n",
              "      <td>Everything Everywhere All at Once</td>\n",
              "      <td>2022</td>\n",
              "      <td>7</td>\n",
              "      <td>11</td>\n",
              "    </tr>\n",
              "    <tr>\n",
              "      <th>1</th>\n",
              "      <td>All Quiet on the Western Front</td>\n",
              "      <td>2022</td>\n",
              "      <td>4</td>\n",
              "      <td>9</td>\n",
              "    </tr>\n",
              "    <tr>\n",
              "      <th>2</th>\n",
              "      <td>The Whale</td>\n",
              "      <td>2022</td>\n",
              "      <td>2</td>\n",
              "      <td>3</td>\n",
              "    </tr>\n",
              "    <tr>\n",
              "      <th>3</th>\n",
              "      <td>Top Gun: Maverick</td>\n",
              "      <td>2022</td>\n",
              "      <td>1</td>\n",
              "      <td>6</td>\n",
              "    </tr>\n",
              "    <tr>\n",
              "      <th>4</th>\n",
              "      <td>Black Panther: Wakanda Forever</td>\n",
              "      <td>2022</td>\n",
              "      <td>1</td>\n",
              "      <td>5</td>\n",
              "    </tr>\n",
              "    <tr>\n",
              "      <th>...</th>\n",
              "      <td>...</td>\n",
              "      <td>...</td>\n",
              "      <td>...</td>\n",
              "      <td>...</td>\n",
              "    </tr>\n",
              "    <tr>\n",
              "      <th>1355</th>\n",
              "      <td>The Yankee Doodle Mouse</td>\n",
              "      <td>1943</td>\n",
              "      <td>1</td>\n",
              "      <td>1</td>\n",
              "    </tr>\n",
              "    <tr>\n",
              "      <th>1356</th>\n",
              "      <td>The Yearling</td>\n",
              "      <td>1946</td>\n",
              "      <td>2</td>\n",
              "      <td>7</td>\n",
              "    </tr>\n",
              "    <tr>\n",
              "      <th>1357</th>\n",
              "      <td>Yesterday, Today and Tomorrow (Ieri, oggi, dom...</td>\n",
              "      <td>1964</td>\n",
              "      <td>1</td>\n",
              "      <td>1</td>\n",
              "    </tr>\n",
              "    <tr>\n",
              "      <th>1358</th>\n",
              "      <td>You Can't Take It with You</td>\n",
              "      <td>1938</td>\n",
              "      <td>2</td>\n",
              "      <td>7</td>\n",
              "    </tr>\n",
              "    <tr>\n",
              "      <th>1359</th>\n",
              "      <td>Zorba the Greek (Alexis Zorbas)</td>\n",
              "      <td>1964</td>\n",
              "      <td>3</td>\n",
              "      <td>7</td>\n",
              "    </tr>\n",
              "  </tbody>\n",
              "</table>\n",
              "<p>1360 rows × 4 columns</p>\n",
              "</div>\n",
              "      <button class=\"colab-df-convert\" onclick=\"convertToInteractive('df-04bd9599-9849-437e-ae8a-16f023956cbb')\"\n",
              "              title=\"Convert this dataframe to an interactive table.\"\n",
              "              style=\"display:none;\">\n",
              "        \n",
              "  <svg xmlns=\"http://www.w3.org/2000/svg\" height=\"24px\"viewBox=\"0 0 24 24\"\n",
              "       width=\"24px\">\n",
              "    <path d=\"M0 0h24v24H0V0z\" fill=\"none\"/>\n",
              "    <path d=\"M18.56 5.44l.94 2.06.94-2.06 2.06-.94-2.06-.94-.94-2.06-.94 2.06-2.06.94zm-11 1L8.5 8.5l.94-2.06 2.06-.94-2.06-.94L8.5 2.5l-.94 2.06-2.06.94zm10 10l.94 2.06.94-2.06 2.06-.94-2.06-.94-.94-2.06-.94 2.06-2.06.94z\"/><path d=\"M17.41 7.96l-1.37-1.37c-.4-.4-.92-.59-1.43-.59-.52 0-1.04.2-1.43.59L10.3 9.45l-7.72 7.72c-.78.78-.78 2.05 0 2.83L4 21.41c.39.39.9.59 1.41.59.51 0 1.02-.2 1.41-.59l7.78-7.78 2.81-2.81c.8-.78.8-2.07 0-2.86zM5.41 20L4 18.59l7.72-7.72 1.47 1.35L5.41 20z\"/>\n",
              "  </svg>\n",
              "      </button>\n",
              "      \n",
              "  <style>\n",
              "    .colab-df-container {\n",
              "      display:flex;\n",
              "      flex-wrap:wrap;\n",
              "      gap: 12px;\n",
              "    }\n",
              "\n",
              "    .colab-df-convert {\n",
              "      background-color: #E8F0FE;\n",
              "      border: none;\n",
              "      border-radius: 50%;\n",
              "      cursor: pointer;\n",
              "      display: none;\n",
              "      fill: #1967D2;\n",
              "      height: 32px;\n",
              "      padding: 0 0 0 0;\n",
              "      width: 32px;\n",
              "    }\n",
              "\n",
              "    .colab-df-convert:hover {\n",
              "      background-color: #E2EBFA;\n",
              "      box-shadow: 0px 1px 2px rgba(60, 64, 67, 0.3), 0px 1px 3px 1px rgba(60, 64, 67, 0.15);\n",
              "      fill: #174EA6;\n",
              "    }\n",
              "\n",
              "    [theme=dark] .colab-df-convert {\n",
              "      background-color: #3B4455;\n",
              "      fill: #D2E3FC;\n",
              "    }\n",
              "\n",
              "    [theme=dark] .colab-df-convert:hover {\n",
              "      background-color: #434B5C;\n",
              "      box-shadow: 0px 1px 3px 1px rgba(0, 0, 0, 0.15);\n",
              "      filter: drop-shadow(0px 1px 2px rgba(0, 0, 0, 0.3));\n",
              "      fill: #FFFFFF;\n",
              "    }\n",
              "  </style>\n",
              "\n",
              "      <script>\n",
              "        const buttonEl =\n",
              "          document.querySelector('#df-04bd9599-9849-437e-ae8a-16f023956cbb button.colab-df-convert');\n",
              "        buttonEl.style.display =\n",
              "          google.colab.kernel.accessAllowed ? 'block' : 'none';\n",
              "\n",
              "        async function convertToInteractive(key) {\n",
              "          const element = document.querySelector('#df-04bd9599-9849-437e-ae8a-16f023956cbb');\n",
              "          const dataTable =\n",
              "            await google.colab.kernel.invokeFunction('convertToInteractive',\n",
              "                                                     [key], {});\n",
              "          if (!dataTable) return;\n",
              "\n",
              "          const docLinkHtml = 'Like what you see? Visit the ' +\n",
              "            '<a target=\"_blank\" href=https://colab.research.google.com/notebooks/data_table.ipynb>data table notebook</a>'\n",
              "            + ' to learn more about interactive tables.';\n",
              "          element.innerHTML = '';\n",
              "          dataTable['output_type'] = 'display_data';\n",
              "          await google.colab.output.renderOutput(dataTable, element);\n",
              "          const docLink = document.createElement('div');\n",
              "          docLink.innerHTML = docLinkHtml;\n",
              "          element.appendChild(docLink);\n",
              "        }\n",
              "      </script>\n",
              "    </div>\n",
              "  </div>\n",
              "  "
            ]
          },
          "metadata": {},
          "execution_count": 41
        }
      ]
    },
    {
      "cell_type": "markdown",
      "source": [
        "The next cell scrapes the content of the https://en.wikipedia.org/wiki/Digital_audio_workstation page using Selenium and Beautiful Soup.\n",
        "\n",
        "First, it sets up the Chrome driver using Selenium with some options to run the browser in headless mode and avoid sandboxing. It then navigates to the Wikipedia page using the driver.\n",
        "\n",
        "Next, it waits for the page to load and locates the content element on the page. It uses Beautiful Soup to parse the page source of the driver, allowing it to extract information from the page.\n",
        "\n",
        "The code then finds all the h1, h2, and h3 elements on the page and extracts their text. For each header, it then finds all the p elements that come after it and extracts their text. Finally, it closes the driver.\n",
        "\n",
        "Essentially, this code is scraping the Wikipedia page for the main headers and paragraphs of text for each section of the page, providing an example of how to use Selenium and Beautiful Soup together to scrape a webpage."
      ],
      "metadata": {
        "id": "gBMyg3pKv_Aa"
      }
    },
    {
      "cell_type": "code",
      "execution_count": 21,
      "metadata": {
        "id": "LBDG2VRIfuE1",
        "colab": {
          "base_uri": "https://localhost:8080/"
        },
        "outputId": "b5578139-1624-4318-df3b-00138f1baf81"
      },
      "outputs": [
        {
          "output_type": "stream",
          "name": "stderr",
          "text": [
            "<ipython-input-21-bf961866d0df>:16: DeprecationWarning: executable_path has been deprecated, please pass in a Service object\n",
            "  driver = webdriver.Chrome(chromedriver_path, options=options)\n"
          ]
        },
        {
          "output_type": "stream",
          "name": "stdout",
          "text": [
            "Contents\n",
            "\n",
            "\n",
            "A digital audio workstation (DAW) is an electronic device or application software used for recording, editing and producing audio files. DAWs come in a wide variety of configurations from a single software program on a laptop, to an integrated stand-alone unit, all the way to a highly complex configuration of numerous components controlled by a central computer. Regardless of configuration, modern DAWs have a central interface that allows the user to alter and mix multiple recordings and tracks into a final produced piece.[1]\n",
            "DAWs are used for producing and recording music, songs, speech, radio, television, soundtracks, podcasts, sound effects and nearly any other situation where complex recorded audio is needed.\n",
            "Early attempts at digital audio workstations in the 1970s and 1980s faced limitations such as the high price of storage, and the vastly slower processing and disk speeds of the time.\n",
            "In 1978, Soundstream, who had made one of the first commercially available digital audio tape recorders in 1977, built what could be considered the first digital audio workstation using some of the most current computer hardware of the time.[1]  The Digital Editing System, as Soundstream called it, consisted of a DEC PDP-11/60 minicomputer running a custom software package called DAP (Digital Audio Processor), a Braegen 14\"-platter hard disk drive, a storage oscilloscope to display audio waveforms for editing, and a video display terminal for controlling the system. Interface cards that plugged into the PDP-11's Unibus slots (the Digital Audio Interface, or DAI) provided analog and digital audio input and output for interfacing to Soundstream's digital recorders and conventional analog tape recorders. The DAP software could perform edits to the audio recorded on the system's hard disks and produce simple effects such as crossfades.\n",
            "By the late 1980s, a number of personal computers such as the Yamaha CX5M, Macintosh, Atari ST, and Amiga began to have enough power to handle digital audio editing.  Engineers used Macromedia's Soundedit, with Microdeal's Replay Professional and Digidesign's Sound Tools and Sound Designer to edit audio samples for sampling keyboards like the E-mu Emulator II and the Akai S900. Soon, people began to use them for simple two-track audio editing and audio mastering.\n",
            "In 1989, Sonic Solutions released the first professional (48 kHz at 24 bit) disk-based non-linear audio editing system. The Macintosh IIfx-based Sonic System, based on research done earlier at George Lucas’ Sprocket Systems, featured complete CD premastering, with integrated control of Sony's industry-standard U-matic tape-based digital audio editor.\n",
            "Many major recording studios finally went digital after Digidesign introduced its Pro Tools software in 1991, modeled after the traditional method and signal flow in most analog recording devices. At this time, most DAWs were Apple Mac based (e.g., Pro Tools, Studer Dyaxis, Sonic Solutions).[2][3] Around 1992, the first Windows-based DAWs started to emerge from companies such as Innovative Quality Software (IQS) (now SAWStudio), Soundscape Digital Technology, SADiE, Echo Digital Audio, and Spectral Synthesis. All the systems at this point used dedicated hardware for their audio processing.[4]\n",
            "In 1992, Sunrize Industries released the AD516 soundcard for big-box Amiga computers.[5] This allowed up to 8 tracks of 16-bit 48KHz direct-to-disk recording and playback using its Studio 16 software. It could also integrate directly into Blue Ribbon Soundworks' Bars & Pipes Pro MIDI software or NewTek's Video Toaster, thus providing a complete package of MIDI sequencing and/or video synchronization with non-linear hard disk recording.\n",
            "In 1993, the German company Steinberg released Cubase Audio on Atari Falcon 030. This version brought DSP built-in effects with 8-track audio recording and playback using only native hardware. The first Windows-based software-only product, introduced in 1993, was Samplitude (which already existed in 1992 as an audio editor for the Commodore Amiga).\n",
            "In 1994, a company in California named OSC produced a 4-track editing-recorder application called DECK that ran on Digidesign's hardware system, which was used in the production of The Residents' Freakshow [LP].[citation needed]\n",
            "An integrated DAW consists of a digital signal processing, control surface, audio converters, and data storage in one device. Integrated DAWs were popular before commonly available personal computers became powerful enough to run DAW software. As personal computer power and speed increased and price decreased, the popularity of costly integrated systems dropped.\n",
            "\"DAW\" can refer to the software itself, but traditionally, a computer-based DAW has four basic components: a computer, a sound card or other audio interface, audio editing software, and at least one user input device for adding or modifying data.  This could be as simple as a mouse and keyboard or as sophisticated as a piano-style MIDI controller keyboard or automated audio control surface for mixing track volumes.[6]\n",
            "The computer acts as a host for the sound card, while the software provides the interface and functionality for audio editing.  The sound card typically converts analog audio signals into digital form, and digital back to analog audio when playing it back; it may also assist in further processing of the audio.  The software controls all related hardware components and provides a user interface to allow for recording, editing, and playback.\n",
            "Computer-based DAWs have extensive recording, editing, and playback capabilities (and some also have video-related features).  For example, they can provide a practically limitless number of tracks to record on, polyphony, and virtual synthesizers or sample-based instruments to use for recording music. DAWs can also provide a wide variety of effects, such as reverb, to enhance or change the sounds themselves.\n",
            "Simple smartphone-based DAWs, called mobile audio workstation (MAWs), are used (for example) by journalists for recording and editing on location.\n",
            "As software systems, DAWs are designed with many user interfaces, but generally, they are based on a multitrack tape recorder metaphor, making it easier for recording engineers and musicians already familiar with using tape recorders to become familiar with the new systems. Therefore, computer-based DAWs tend to have a standard layout that includes transport controls (play, rewind, record, etc.), track controls and a mixer. A waveform display is another common feature.\n",
            "Single-track DAWs display only one (mono or stereo form) track at a time.[a] Multitrack DAWs support operations on multiple tracks at once. Like a mixing console, each track typically has controls that allow the user to adjust the gain, equalization and stereo panning of the sound on each track. In a traditional recording studio additional rackmount processing gear is physically plugged into the audio signal path to add reverb, compression, etc. However, a DAW can also route in software or use audio plug-ins (for example, a VST plugin) to process the sound on a track.\n",
            "Perhaps the most significant feature available from a DAW that is not available in analog recording is the ability to undo a previous action, using a command similar to that of the undo function in word processing software.  Undo makes it much easier to avoid accidentally permanently erasing or recording over a previous recording.  If a mistake or unwanted change is made, the undo command is used to conveniently revert the changed data to a previous state.  Cut, Copy, Paste, and Undo are familiar and common computer commands and they are usually available in DAWs in some form. More common functions include the modifications of several factors concerning a sound. These include wave shape, pitch, tempo, and filtering.\n",
            "Commonly DAWs feature some form of mix automation using procedural line segment-based or curve-based interactive graphs.  The lines and curves of the automation graph are joined by or comprise adjustable points.  By creating and adjusting multiple points along a waveform or control events, the user can specify parameters of the output over time (e.g., volume or pan).  Automation data may also be directly derived from human gestures recorded by a control surface or MIDI controller.\n",
            "MIDI recording, editing, and playback is increasingly incorporated into modern DAWs of all types, as is synchronization with other audio or video tools.\n",
            "There are many free and open-source software programs that perform DAW functions. These are designed to run on a variety of operating systems and are usually developed non-commercially.\n",
            "Jim Miller was the star of the NAMM show in 1983[7] presenting his Personal Composer[8] running under MS DOS 2.0 including a MIDI sequencer, synth editor (such as Yamaha's DX7), universal librarians and a score editor. The software was later released as Personal Composer System/2 (1988).[9]\n",
            "In 1996, Steinberg introduced a revamped Cubase (which was originally launched in 1989 as a MIDI sequencing software for the Atari ST computer, later developed for Mac and Windows PC platforms, but had no audio capabilities until 1993's Cubase Audio) which could record and play back up to 32 tracks of digital audio on an Apple Macintosh without the need of any external DSP hardware. Cubase not only modeled a tape-like interface for recording and editing, but, in addition, using VST also developed by Steinberg, modeled the entire mixing desk and effects rack common in analog studios. This revolutionized the DAW world, both in features and price tag, and was quickly imitated by most other contemporary DAW systems.\n",
            "Digital audio applications for Linux and BSD fostered technologies such as Advanced Linux Sound Architecture (ALSA), which drives audio hardware, and JACK Audio Connection Kit. JACK allows any JACK-aware audio software to connect to any other audio software running on the system, such as connecting an ALSA- or OSS-driven soundcard to a mixing and editing front-end, like Ardour or Rosegarden. In this way, JACK acts as a virtual audio patch bay, and it can be configured to use a computer's resources in real time, with dedicated memory, and with various options that minimize the DAW's latency. This kind of abstraction and configuration allows DJs to use multiple programs for editing and synthesizing audio streams, or multitasking and duplexing, without the need for analog conversion, or asynchronous saving and reloading files, and ensures a high level of audio fidelity.\n",
            "Other open-source programs include virtual synthesizers and MIDI controllers, such as those provided by FluidSynth and TiMidity. Both can load SoundFonts to expand the voices and instruments available for synthesis and expand the ports and channels available to synthesizers.\n",
            "Members of the Linux Audio Development (LAD) mailing list have contributed to development of standards such as the LADSPA, DSSI and LV2 plugin architectures. The Virtual Studio Technology (VST) plugin standard is supported by some programs.[11]\n",
            "Sequencers offer a subset of DAW functionality. Several open-source sequencer projects exist, such as:\n",
            "There are countless software plugins for DAW software, each one coming with its own unique functionality, thus expanding the overall variety of sounds and manipulations that are possible. Each have their own form of generating or manipulating sound, tone, pitch, and speed of a simple sound and transform it into something different. To achieve an even more distinctive sound, multiple plugins can be used in layers, and further automated to manipulate the original sounds.\n",
            "\n",
            "Digital audio workstation\n",
            "\n",
            "\n",
            "A digital audio workstation (DAW) is an electronic device or application software used for recording, editing and producing audio files. DAWs come in a wide variety of configurations from a single software program on a laptop, to an integrated stand-alone unit, all the way to a highly complex configuration of numerous components controlled by a central computer. Regardless of configuration, modern DAWs have a central interface that allows the user to alter and mix multiple recordings and tracks into a final produced piece.[1]\n",
            "DAWs are used for producing and recording music, songs, speech, radio, television, soundtracks, podcasts, sound effects and nearly any other situation where complex recorded audio is needed.\n",
            "Early attempts at digital audio workstations in the 1970s and 1980s faced limitations such as the high price of storage, and the vastly slower processing and disk speeds of the time.\n",
            "In 1978, Soundstream, who had made one of the first commercially available digital audio tape recorders in 1977, built what could be considered the first digital audio workstation using some of the most current computer hardware of the time.[1]  The Digital Editing System, as Soundstream called it, consisted of a DEC PDP-11/60 minicomputer running a custom software package called DAP (Digital Audio Processor), a Braegen 14\"-platter hard disk drive, a storage oscilloscope to display audio waveforms for editing, and a video display terminal for controlling the system. Interface cards that plugged into the PDP-11's Unibus slots (the Digital Audio Interface, or DAI) provided analog and digital audio input and output for interfacing to Soundstream's digital recorders and conventional analog tape recorders. The DAP software could perform edits to the audio recorded on the system's hard disks and produce simple effects such as crossfades.\n",
            "By the late 1980s, a number of personal computers such as the Yamaha CX5M, Macintosh, Atari ST, and Amiga began to have enough power to handle digital audio editing.  Engineers used Macromedia's Soundedit, with Microdeal's Replay Professional and Digidesign's Sound Tools and Sound Designer to edit audio samples for sampling keyboards like the E-mu Emulator II and the Akai S900. Soon, people began to use them for simple two-track audio editing and audio mastering.\n",
            "In 1989, Sonic Solutions released the first professional (48 kHz at 24 bit) disk-based non-linear audio editing system. The Macintosh IIfx-based Sonic System, based on research done earlier at George Lucas’ Sprocket Systems, featured complete CD premastering, with integrated control of Sony's industry-standard U-matic tape-based digital audio editor.\n",
            "Many major recording studios finally went digital after Digidesign introduced its Pro Tools software in 1991, modeled after the traditional method and signal flow in most analog recording devices. At this time, most DAWs were Apple Mac based (e.g., Pro Tools, Studer Dyaxis, Sonic Solutions).[2][3] Around 1992, the first Windows-based DAWs started to emerge from companies such as Innovative Quality Software (IQS) (now SAWStudio), Soundscape Digital Technology, SADiE, Echo Digital Audio, and Spectral Synthesis. All the systems at this point used dedicated hardware for their audio processing.[4]\n",
            "In 1992, Sunrize Industries released the AD516 soundcard for big-box Amiga computers.[5] This allowed up to 8 tracks of 16-bit 48KHz direct-to-disk recording and playback using its Studio 16 software. It could also integrate directly into Blue Ribbon Soundworks' Bars & Pipes Pro MIDI software or NewTek's Video Toaster, thus providing a complete package of MIDI sequencing and/or video synchronization with non-linear hard disk recording.\n",
            "In 1993, the German company Steinberg released Cubase Audio on Atari Falcon 030. This version brought DSP built-in effects with 8-track audio recording and playback using only native hardware. The first Windows-based software-only product, introduced in 1993, was Samplitude (which already existed in 1992 as an audio editor for the Commodore Amiga).\n",
            "In 1994, a company in California named OSC produced a 4-track editing-recorder application called DECK that ran on Digidesign's hardware system, which was used in the production of The Residents' Freakshow [LP].[citation needed]\n",
            "An integrated DAW consists of a digital signal processing, control surface, audio converters, and data storage in one device. Integrated DAWs were popular before commonly available personal computers became powerful enough to run DAW software. As personal computer power and speed increased and price decreased, the popularity of costly integrated systems dropped.\n",
            "\"DAW\" can refer to the software itself, but traditionally, a computer-based DAW has four basic components: a computer, a sound card or other audio interface, audio editing software, and at least one user input device for adding or modifying data.  This could be as simple as a mouse and keyboard or as sophisticated as a piano-style MIDI controller keyboard or automated audio control surface for mixing track volumes.[6]\n",
            "The computer acts as a host for the sound card, while the software provides the interface and functionality for audio editing.  The sound card typically converts analog audio signals into digital form, and digital back to analog audio when playing it back; it may also assist in further processing of the audio.  The software controls all related hardware components and provides a user interface to allow for recording, editing, and playback.\n",
            "Computer-based DAWs have extensive recording, editing, and playback capabilities (and some also have video-related features).  For example, they can provide a practically limitless number of tracks to record on, polyphony, and virtual synthesizers or sample-based instruments to use for recording music. DAWs can also provide a wide variety of effects, such as reverb, to enhance or change the sounds themselves.\n",
            "Simple smartphone-based DAWs, called mobile audio workstation (MAWs), are used (for example) by journalists for recording and editing on location.\n",
            "As software systems, DAWs are designed with many user interfaces, but generally, they are based on a multitrack tape recorder metaphor, making it easier for recording engineers and musicians already familiar with using tape recorders to become familiar with the new systems. Therefore, computer-based DAWs tend to have a standard layout that includes transport controls (play, rewind, record, etc.), track controls and a mixer. A waveform display is another common feature.\n",
            "Single-track DAWs display only one (mono or stereo form) track at a time.[a] Multitrack DAWs support operations on multiple tracks at once. Like a mixing console, each track typically has controls that allow the user to adjust the gain, equalization and stereo panning of the sound on each track. In a traditional recording studio additional rackmount processing gear is physically plugged into the audio signal path to add reverb, compression, etc. However, a DAW can also route in software or use audio plug-ins (for example, a VST plugin) to process the sound on a track.\n",
            "Perhaps the most significant feature available from a DAW that is not available in analog recording is the ability to undo a previous action, using a command similar to that of the undo function in word processing software.  Undo makes it much easier to avoid accidentally permanently erasing or recording over a previous recording.  If a mistake or unwanted change is made, the undo command is used to conveniently revert the changed data to a previous state.  Cut, Copy, Paste, and Undo are familiar and common computer commands and they are usually available in DAWs in some form. More common functions include the modifications of several factors concerning a sound. These include wave shape, pitch, tempo, and filtering.\n",
            "Commonly DAWs feature some form of mix automation using procedural line segment-based or curve-based interactive graphs.  The lines and curves of the automation graph are joined by or comprise adjustable points.  By creating and adjusting multiple points along a waveform or control events, the user can specify parameters of the output over time (e.g., volume or pan).  Automation data may also be directly derived from human gestures recorded by a control surface or MIDI controller.\n",
            "MIDI recording, editing, and playback is increasingly incorporated into modern DAWs of all types, as is synchronization with other audio or video tools.\n",
            "There are many free and open-source software programs that perform DAW functions. These are designed to run on a variety of operating systems and are usually developed non-commercially.\n",
            "Jim Miller was the star of the NAMM show in 1983[7] presenting his Personal Composer[8] running under MS DOS 2.0 including a MIDI sequencer, synth editor (such as Yamaha's DX7), universal librarians and a score editor. The software was later released as Personal Composer System/2 (1988).[9]\n",
            "In 1996, Steinberg introduced a revamped Cubase (which was originally launched in 1989 as a MIDI sequencing software for the Atari ST computer, later developed for Mac and Windows PC platforms, but had no audio capabilities until 1993's Cubase Audio) which could record and play back up to 32 tracks of digital audio on an Apple Macintosh without the need of any external DSP hardware. Cubase not only modeled a tape-like interface for recording and editing, but, in addition, using VST also developed by Steinberg, modeled the entire mixing desk and effects rack common in analog studios. This revolutionized the DAW world, both in features and price tag, and was quickly imitated by most other contemporary DAW systems.\n",
            "Digital audio applications for Linux and BSD fostered technologies such as Advanced Linux Sound Architecture (ALSA), which drives audio hardware, and JACK Audio Connection Kit. JACK allows any JACK-aware audio software to connect to any other audio software running on the system, such as connecting an ALSA- or OSS-driven soundcard to a mixing and editing front-end, like Ardour or Rosegarden. In this way, JACK acts as a virtual audio patch bay, and it can be configured to use a computer's resources in real time, with dedicated memory, and with various options that minimize the DAW's latency. This kind of abstraction and configuration allows DJs to use multiple programs for editing and synthesizing audio streams, or multitasking and duplexing, without the need for analog conversion, or asynchronous saving and reloading files, and ensures a high level of audio fidelity.\n",
            "Other open-source programs include virtual synthesizers and MIDI controllers, such as those provided by FluidSynth and TiMidity. Both can load SoundFonts to expand the voices and instruments available for synthesis and expand the ports and channels available to synthesizers.\n",
            "Members of the Linux Audio Development (LAD) mailing list have contributed to development of standards such as the LADSPA, DSSI and LV2 plugin architectures. The Virtual Studio Technology (VST) plugin standard is supported by some programs.[11]\n",
            "Sequencers offer a subset of DAW functionality. Several open-source sequencer projects exist, such as:\n",
            "There are countless software plugins for DAW software, each one coming with its own unique functionality, thus expanding the overall variety of sounds and manipulations that are possible. Each have their own form of generating or manipulating sound, tone, pitch, and speed of a simple sound and transform it into something different. To achieve an even more distinctive sound, multiple plugins can be used in layers, and further automated to manipulate the original sounds.\n",
            "\n",
            "Hardware[edit]\n",
            "\n",
            "Early attempts at digital audio workstations in the 1970s and 1980s faced limitations such as the high price of storage, and the vastly slower processing and disk speeds of the time.\n",
            "In 1978, Soundstream, who had made one of the first commercially available digital audio tape recorders in 1977, built what could be considered the first digital audio workstation using some of the most current computer hardware of the time.[1]  The Digital Editing System, as Soundstream called it, consisted of a DEC PDP-11/60 minicomputer running a custom software package called DAP (Digital Audio Processor), a Braegen 14\"-platter hard disk drive, a storage oscilloscope to display audio waveforms for editing, and a video display terminal for controlling the system. Interface cards that plugged into the PDP-11's Unibus slots (the Digital Audio Interface, or DAI) provided analog and digital audio input and output for interfacing to Soundstream's digital recorders and conventional analog tape recorders. The DAP software could perform edits to the audio recorded on the system's hard disks and produce simple effects such as crossfades.\n",
            "By the late 1980s, a number of personal computers such as the Yamaha CX5M, Macintosh, Atari ST, and Amiga began to have enough power to handle digital audio editing.  Engineers used Macromedia's Soundedit, with Microdeal's Replay Professional and Digidesign's Sound Tools and Sound Designer to edit audio samples for sampling keyboards like the E-mu Emulator II and the Akai S900. Soon, people began to use them for simple two-track audio editing and audio mastering.\n",
            "In 1989, Sonic Solutions released the first professional (48 kHz at 24 bit) disk-based non-linear audio editing system. The Macintosh IIfx-based Sonic System, based on research done earlier at George Lucas’ Sprocket Systems, featured complete CD premastering, with integrated control of Sony's industry-standard U-matic tape-based digital audio editor.\n",
            "Many major recording studios finally went digital after Digidesign introduced its Pro Tools software in 1991, modeled after the traditional method and signal flow in most analog recording devices. At this time, most DAWs were Apple Mac based (e.g., Pro Tools, Studer Dyaxis, Sonic Solutions).[2][3] Around 1992, the first Windows-based DAWs started to emerge from companies such as Innovative Quality Software (IQS) (now SAWStudio), Soundscape Digital Technology, SADiE, Echo Digital Audio, and Spectral Synthesis. All the systems at this point used dedicated hardware for their audio processing.[4]\n",
            "In 1992, Sunrize Industries released the AD516 soundcard for big-box Amiga computers.[5] This allowed up to 8 tracks of 16-bit 48KHz direct-to-disk recording and playback using its Studio 16 software. It could also integrate directly into Blue Ribbon Soundworks' Bars & Pipes Pro MIDI software or NewTek's Video Toaster, thus providing a complete package of MIDI sequencing and/or video synchronization with non-linear hard disk recording.\n",
            "In 1993, the German company Steinberg released Cubase Audio on Atari Falcon 030. This version brought DSP built-in effects with 8-track audio recording and playback using only native hardware. The first Windows-based software-only product, introduced in 1993, was Samplitude (which already existed in 1992 as an audio editor for the Commodore Amiga).\n",
            "In 1994, a company in California named OSC produced a 4-track editing-recorder application called DECK that ran on Digidesign's hardware system, which was used in the production of The Residents' Freakshow [LP].[citation needed]\n",
            "An integrated DAW consists of a digital signal processing, control surface, audio converters, and data storage in one device. Integrated DAWs were popular before commonly available personal computers became powerful enough to run DAW software. As personal computer power and speed increased and price decreased, the popularity of costly integrated systems dropped.\n",
            "\"DAW\" can refer to the software itself, but traditionally, a computer-based DAW has four basic components: a computer, a sound card or other audio interface, audio editing software, and at least one user input device for adding or modifying data.  This could be as simple as a mouse and keyboard or as sophisticated as a piano-style MIDI controller keyboard or automated audio control surface for mixing track volumes.[6]\n",
            "The computer acts as a host for the sound card, while the software provides the interface and functionality for audio editing.  The sound card typically converts analog audio signals into digital form, and digital back to analog audio when playing it back; it may also assist in further processing of the audio.  The software controls all related hardware components and provides a user interface to allow for recording, editing, and playback.\n",
            "Computer-based DAWs have extensive recording, editing, and playback capabilities (and some also have video-related features).  For example, they can provide a practically limitless number of tracks to record on, polyphony, and virtual synthesizers or sample-based instruments to use for recording music. DAWs can also provide a wide variety of effects, such as reverb, to enhance or change the sounds themselves.\n",
            "Simple smartphone-based DAWs, called mobile audio workstation (MAWs), are used (for example) by journalists for recording and editing on location.\n",
            "As software systems, DAWs are designed with many user interfaces, but generally, they are based on a multitrack tape recorder metaphor, making it easier for recording engineers and musicians already familiar with using tape recorders to become familiar with the new systems. Therefore, computer-based DAWs tend to have a standard layout that includes transport controls (play, rewind, record, etc.), track controls and a mixer. A waveform display is another common feature.\n",
            "Single-track DAWs display only one (mono or stereo form) track at a time.[a] Multitrack DAWs support operations on multiple tracks at once. Like a mixing console, each track typically has controls that allow the user to adjust the gain, equalization and stereo panning of the sound on each track. In a traditional recording studio additional rackmount processing gear is physically plugged into the audio signal path to add reverb, compression, etc. However, a DAW can also route in software or use audio plug-ins (for example, a VST plugin) to process the sound on a track.\n",
            "Perhaps the most significant feature available from a DAW that is not available in analog recording is the ability to undo a previous action, using a command similar to that of the undo function in word processing software.  Undo makes it much easier to avoid accidentally permanently erasing or recording over a previous recording.  If a mistake or unwanted change is made, the undo command is used to conveniently revert the changed data to a previous state.  Cut, Copy, Paste, and Undo are familiar and common computer commands and they are usually available in DAWs in some form. More common functions include the modifications of several factors concerning a sound. These include wave shape, pitch, tempo, and filtering.\n",
            "Commonly DAWs feature some form of mix automation using procedural line segment-based or curve-based interactive graphs.  The lines and curves of the automation graph are joined by or comprise adjustable points.  By creating and adjusting multiple points along a waveform or control events, the user can specify parameters of the output over time (e.g., volume or pan).  Automation data may also be directly derived from human gestures recorded by a control surface or MIDI controller.\n",
            "MIDI recording, editing, and playback is increasingly incorporated into modern DAWs of all types, as is synchronization with other audio or video tools.\n",
            "There are many free and open-source software programs that perform DAW functions. These are designed to run on a variety of operating systems and are usually developed non-commercially.\n",
            "Jim Miller was the star of the NAMM show in 1983[7] presenting his Personal Composer[8] running under MS DOS 2.0 including a MIDI sequencer, synth editor (such as Yamaha's DX7), universal librarians and a score editor. The software was later released as Personal Composer System/2 (1988).[9]\n",
            "In 1996, Steinberg introduced a revamped Cubase (which was originally launched in 1989 as a MIDI sequencing software for the Atari ST computer, later developed for Mac and Windows PC platforms, but had no audio capabilities until 1993's Cubase Audio) which could record and play back up to 32 tracks of digital audio on an Apple Macintosh without the need of any external DSP hardware. Cubase not only modeled a tape-like interface for recording and editing, but, in addition, using VST also developed by Steinberg, modeled the entire mixing desk and effects rack common in analog studios. This revolutionized the DAW world, both in features and price tag, and was quickly imitated by most other contemporary DAW systems.\n",
            "Digital audio applications for Linux and BSD fostered technologies such as Advanced Linux Sound Architecture (ALSA), which drives audio hardware, and JACK Audio Connection Kit. JACK allows any JACK-aware audio software to connect to any other audio software running on the system, such as connecting an ALSA- or OSS-driven soundcard to a mixing and editing front-end, like Ardour or Rosegarden. In this way, JACK acts as a virtual audio patch bay, and it can be configured to use a computer's resources in real time, with dedicated memory, and with various options that minimize the DAW's latency. This kind of abstraction and configuration allows DJs to use multiple programs for editing and synthesizing audio streams, or multitasking and duplexing, without the need for analog conversion, or asynchronous saving and reloading files, and ensures a high level of audio fidelity.\n",
            "Other open-source programs include virtual synthesizers and MIDI controllers, such as those provided by FluidSynth and TiMidity. Both can load SoundFonts to expand the voices and instruments available for synthesis and expand the ports and channels available to synthesizers.\n",
            "Members of the Linux Audio Development (LAD) mailing list have contributed to development of standards such as the LADSPA, DSSI and LV2 plugin architectures. The Virtual Studio Technology (VST) plugin standard is supported by some programs.[11]\n",
            "Sequencers offer a subset of DAW functionality. Several open-source sequencer projects exist, such as:\n",
            "There are countless software plugins for DAW software, each one coming with its own unique functionality, thus expanding the overall variety of sounds and manipulations that are possible. Each have their own form of generating or manipulating sound, tone, pitch, and speed of a simple sound and transform it into something different. To achieve an even more distinctive sound, multiple plugins can be used in layers, and further automated to manipulate the original sounds.\n",
            "\n",
            "Integration[edit]\n",
            "\n",
            "An integrated DAW consists of a digital signal processing, control surface, audio converters, and data storage in one device. Integrated DAWs were popular before commonly available personal computers became powerful enough to run DAW software. As personal computer power and speed increased and price decreased, the popularity of costly integrated systems dropped.\n",
            "\"DAW\" can refer to the software itself, but traditionally, a computer-based DAW has four basic components: a computer, a sound card or other audio interface, audio editing software, and at least one user input device for adding or modifying data.  This could be as simple as a mouse and keyboard or as sophisticated as a piano-style MIDI controller keyboard or automated audio control surface for mixing track volumes.[6]\n",
            "The computer acts as a host for the sound card, while the software provides the interface and functionality for audio editing.  The sound card typically converts analog audio signals into digital form, and digital back to analog audio when playing it back; it may also assist in further processing of the audio.  The software controls all related hardware components and provides a user interface to allow for recording, editing, and playback.\n",
            "Computer-based DAWs have extensive recording, editing, and playback capabilities (and some also have video-related features).  For example, they can provide a practically limitless number of tracks to record on, polyphony, and virtual synthesizers or sample-based instruments to use for recording music. DAWs can also provide a wide variety of effects, such as reverb, to enhance or change the sounds themselves.\n",
            "Simple smartphone-based DAWs, called mobile audio workstation (MAWs), are used (for example) by journalists for recording and editing on location.\n",
            "As software systems, DAWs are designed with many user interfaces, but generally, they are based on a multitrack tape recorder metaphor, making it easier for recording engineers and musicians already familiar with using tape recorders to become familiar with the new systems. Therefore, computer-based DAWs tend to have a standard layout that includes transport controls (play, rewind, record, etc.), track controls and a mixer. A waveform display is another common feature.\n",
            "Single-track DAWs display only one (mono or stereo form) track at a time.[a] Multitrack DAWs support operations on multiple tracks at once. Like a mixing console, each track typically has controls that allow the user to adjust the gain, equalization and stereo panning of the sound on each track. In a traditional recording studio additional rackmount processing gear is physically plugged into the audio signal path to add reverb, compression, etc. However, a DAW can also route in software or use audio plug-ins (for example, a VST plugin) to process the sound on a track.\n",
            "Perhaps the most significant feature available from a DAW that is not available in analog recording is the ability to undo a previous action, using a command similar to that of the undo function in word processing software.  Undo makes it much easier to avoid accidentally permanently erasing or recording over a previous recording.  If a mistake or unwanted change is made, the undo command is used to conveniently revert the changed data to a previous state.  Cut, Copy, Paste, and Undo are familiar and common computer commands and they are usually available in DAWs in some form. More common functions include the modifications of several factors concerning a sound. These include wave shape, pitch, tempo, and filtering.\n",
            "Commonly DAWs feature some form of mix automation using procedural line segment-based or curve-based interactive graphs.  The lines and curves of the automation graph are joined by or comprise adjustable points.  By creating and adjusting multiple points along a waveform or control events, the user can specify parameters of the output over time (e.g., volume or pan).  Automation data may also be directly derived from human gestures recorded by a control surface or MIDI controller.\n",
            "MIDI recording, editing, and playback is increasingly incorporated into modern DAWs of all types, as is synchronization with other audio or video tools.\n",
            "There are many free and open-source software programs that perform DAW functions. These are designed to run on a variety of operating systems and are usually developed non-commercially.\n",
            "Jim Miller was the star of the NAMM show in 1983[7] presenting his Personal Composer[8] running under MS DOS 2.0 including a MIDI sequencer, synth editor (such as Yamaha's DX7), universal librarians and a score editor. The software was later released as Personal Composer System/2 (1988).[9]\n",
            "In 1996, Steinberg introduced a revamped Cubase (which was originally launched in 1989 as a MIDI sequencing software for the Atari ST computer, later developed for Mac and Windows PC platforms, but had no audio capabilities until 1993's Cubase Audio) which could record and play back up to 32 tracks of digital audio on an Apple Macintosh without the need of any external DSP hardware. Cubase not only modeled a tape-like interface for recording and editing, but, in addition, using VST also developed by Steinberg, modeled the entire mixing desk and effects rack common in analog studios. This revolutionized the DAW world, both in features and price tag, and was quickly imitated by most other contemporary DAW systems.\n",
            "Digital audio applications for Linux and BSD fostered technologies such as Advanced Linux Sound Architecture (ALSA), which drives audio hardware, and JACK Audio Connection Kit. JACK allows any JACK-aware audio software to connect to any other audio software running on the system, such as connecting an ALSA- or OSS-driven soundcard to a mixing and editing front-end, like Ardour or Rosegarden. In this way, JACK acts as a virtual audio patch bay, and it can be configured to use a computer's resources in real time, with dedicated memory, and with various options that minimize the DAW's latency. This kind of abstraction and configuration allows DJs to use multiple programs for editing and synthesizing audio streams, or multitasking and duplexing, without the need for analog conversion, or asynchronous saving and reloading files, and ensures a high level of audio fidelity.\n",
            "Other open-source programs include virtual synthesizers and MIDI controllers, such as those provided by FluidSynth and TiMidity. Both can load SoundFonts to expand the voices and instruments available for synthesis and expand the ports and channels available to synthesizers.\n",
            "Members of the Linux Audio Development (LAD) mailing list have contributed to development of standards such as the LADSPA, DSSI and LV2 plugin architectures. The Virtual Studio Technology (VST) plugin standard is supported by some programs.[11]\n",
            "Sequencers offer a subset of DAW functionality. Several open-source sequencer projects exist, such as:\n",
            "There are countless software plugins for DAW software, each one coming with its own unique functionality, thus expanding the overall variety of sounds and manipulations that are possible. Each have their own form of generating or manipulating sound, tone, pitch, and speed of a simple sound and transform it into something different. To achieve an even more distinctive sound, multiple plugins can be used in layers, and further automated to manipulate the original sounds.\n",
            "\n",
            "Software[edit]\n",
            "\n",
            "\"DAW\" can refer to the software itself, but traditionally, a computer-based DAW has four basic components: a computer, a sound card or other audio interface, audio editing software, and at least one user input device for adding or modifying data.  This could be as simple as a mouse and keyboard or as sophisticated as a piano-style MIDI controller keyboard or automated audio control surface for mixing track volumes.[6]\n",
            "The computer acts as a host for the sound card, while the software provides the interface and functionality for audio editing.  The sound card typically converts analog audio signals into digital form, and digital back to analog audio when playing it back; it may also assist in further processing of the audio.  The software controls all related hardware components and provides a user interface to allow for recording, editing, and playback.\n",
            "Computer-based DAWs have extensive recording, editing, and playback capabilities (and some also have video-related features).  For example, they can provide a practically limitless number of tracks to record on, polyphony, and virtual synthesizers or sample-based instruments to use for recording music. DAWs can also provide a wide variety of effects, such as reverb, to enhance or change the sounds themselves.\n",
            "Simple smartphone-based DAWs, called mobile audio workstation (MAWs), are used (for example) by journalists for recording and editing on location.\n",
            "As software systems, DAWs are designed with many user interfaces, but generally, they are based on a multitrack tape recorder metaphor, making it easier for recording engineers and musicians already familiar with using tape recorders to become familiar with the new systems. Therefore, computer-based DAWs tend to have a standard layout that includes transport controls (play, rewind, record, etc.), track controls and a mixer. A waveform display is another common feature.\n",
            "Single-track DAWs display only one (mono or stereo form) track at a time.[a] Multitrack DAWs support operations on multiple tracks at once. Like a mixing console, each track typically has controls that allow the user to adjust the gain, equalization and stereo panning of the sound on each track. In a traditional recording studio additional rackmount processing gear is physically plugged into the audio signal path to add reverb, compression, etc. However, a DAW can also route in software or use audio plug-ins (for example, a VST plugin) to process the sound on a track.\n",
            "Perhaps the most significant feature available from a DAW that is not available in analog recording is the ability to undo a previous action, using a command similar to that of the undo function in word processing software.  Undo makes it much easier to avoid accidentally permanently erasing or recording over a previous recording.  If a mistake or unwanted change is made, the undo command is used to conveniently revert the changed data to a previous state.  Cut, Copy, Paste, and Undo are familiar and common computer commands and they are usually available in DAWs in some form. More common functions include the modifications of several factors concerning a sound. These include wave shape, pitch, tempo, and filtering.\n",
            "Commonly DAWs feature some form of mix automation using procedural line segment-based or curve-based interactive graphs.  The lines and curves of the automation graph are joined by or comprise adjustable points.  By creating and adjusting multiple points along a waveform or control events, the user can specify parameters of the output over time (e.g., volume or pan).  Automation data may also be directly derived from human gestures recorded by a control surface or MIDI controller.\n",
            "MIDI recording, editing, and playback is increasingly incorporated into modern DAWs of all types, as is synchronization with other audio or video tools.\n",
            "There are many free and open-source software programs that perform DAW functions. These are designed to run on a variety of operating systems and are usually developed non-commercially.\n",
            "Jim Miller was the star of the NAMM show in 1983[7] presenting his Personal Composer[8] running under MS DOS 2.0 including a MIDI sequencer, synth editor (such as Yamaha's DX7), universal librarians and a score editor. The software was later released as Personal Composer System/2 (1988).[9]\n",
            "In 1996, Steinberg introduced a revamped Cubase (which was originally launched in 1989 as a MIDI sequencing software for the Atari ST computer, later developed for Mac and Windows PC platforms, but had no audio capabilities until 1993's Cubase Audio) which could record and play back up to 32 tracks of digital audio on an Apple Macintosh without the need of any external DSP hardware. Cubase not only modeled a tape-like interface for recording and editing, but, in addition, using VST also developed by Steinberg, modeled the entire mixing desk and effects rack common in analog studios. This revolutionized the DAW world, both in features and price tag, and was quickly imitated by most other contemporary DAW systems.\n",
            "Digital audio applications for Linux and BSD fostered technologies such as Advanced Linux Sound Architecture (ALSA), which drives audio hardware, and JACK Audio Connection Kit. JACK allows any JACK-aware audio software to connect to any other audio software running on the system, such as connecting an ALSA- or OSS-driven soundcard to a mixing and editing front-end, like Ardour or Rosegarden. In this way, JACK acts as a virtual audio patch bay, and it can be configured to use a computer's resources in real time, with dedicated memory, and with various options that minimize the DAW's latency. This kind of abstraction and configuration allows DJs to use multiple programs for editing and synthesizing audio streams, or multitasking and duplexing, without the need for analog conversion, or asynchronous saving and reloading files, and ensures a high level of audio fidelity.\n",
            "Other open-source programs include virtual synthesizers and MIDI controllers, such as those provided by FluidSynth and TiMidity. Both can load SoundFonts to expand the voices and instruments available for synthesis and expand the ports and channels available to synthesizers.\n",
            "Members of the Linux Audio Development (LAD) mailing list have contributed to development of standards such as the LADSPA, DSSI and LV2 plugin architectures. The Virtual Studio Technology (VST) plugin standard is supported by some programs.[11]\n",
            "Sequencers offer a subset of DAW functionality. Several open-source sequencer projects exist, such as:\n",
            "There are countless software plugins for DAW software, each one coming with its own unique functionality, thus expanding the overall variety of sounds and manipulations that are possible. Each have their own form of generating or manipulating sound, tone, pitch, and speed of a simple sound and transform it into something different. To achieve an even more distinctive sound, multiple plugins can be used in layers, and further automated to manipulate the original sounds.\n",
            "\n",
            "Plug-ins[edit]\n",
            "\n",
            "There are countless software plugins for DAW software, each one coming with its own unique functionality, thus expanding the overall variety of sounds and manipulations that are possible. Each have their own form of generating or manipulating sound, tone, pitch, and speed of a simple sound and transform it into something different. To achieve an even more distinctive sound, multiple plugins can be used in layers, and further automated to manipulate the original sounds.\n",
            "\n",
            "Notable commercial examples[edit]\n",
            "\n",
            "\n",
            "See also[edit]\n",
            "\n",
            "\n",
            "Notes[edit]\n",
            "\n",
            "\n",
            "References[edit]\n",
            "\n",
            "\n",
            "External links[edit]\n",
            "\n",
            "\n"
          ]
        }
      ],
      "source": [
        "from selenium import webdriver\n",
        "from selenium.webdriver.common.by import By\n",
        "from selenium.webdriver.support.ui import WebDriverWait\n",
        "from selenium.webdriver.support import expected_conditions as EC\n",
        "from bs4 import BeautifulSoup\n",
        "\n",
        "options = webdriver.ChromeOptions()\n",
        "options.add_argument('--headless')\n",
        "options.add_argument('--disable-dev-shm-usage')\n",
        "options.add_argument('--no-sandbox')\n",
        "\n",
        "# Point to the location of your chromedriver\n",
        "chromedriver_path = '/usr/bin/chromedriver'\n",
        "\n",
        "# Initialize the driver\n",
        "driver = webdriver.Chrome(chromedriver_path, options=options)\n",
        "\n",
        "# Navigate to the page\n",
        "driver.get('https://en.wikipedia.org/wiki/Digital_audio_workstation')\n",
        "\n",
        "# Wait for the page to load and get the content\n",
        "wait = WebDriverWait(driver, 10)\n",
        "content = wait.until(EC.presence_of_element_located((By.ID, 'content')))\n",
        "\n",
        "# Get the page source and parse it using BeautifulSoup\n",
        "soup = BeautifulSoup(driver.page_source, 'html.parser')\n",
        "\n",
        "# Find all the h1, h2, and h3 elements and extract their text\n",
        "headers = soup.find_all(['h1', 'h2', 'h3'])\n",
        "for header in headers:\n",
        "    print(header.text.strip())\n",
        "    print()\n",
        "    # Find all the p elements under the current header and extract their text\n",
        "    ps = header.find_all_next('p')\n",
        "    for p in ps:\n",
        "        print(p.text.strip())\n",
        "    print()\n",
        "\n",
        "# Close the driver\n",
        "driver.quit()"
      ]
    },
    {
      "cell_type": "markdown",
      "metadata": {
        "id": "wredNRWU9bx8"
      },
      "source": [
        "# Exercise 2\n",
        "\n",
        "Document your data set generated with the information in the different Kaggle files in a Word document.\n",
        "\n",
        "To know more\n",
        "\n",
        "As an example of what is requested, you can consult this link:\n",
        "\n",
        "->https://www.kaggle.com/datasets/vivovinco/20212022-football-team-stats."
      ]
    },
    {
      "cell_type": "markdown",
      "source": [
        "With the data scraped in exercise 1 using Beautiful Soup a dataset will be generated and documented:"
      ],
      "metadata": {
        "id": "UxpJOq8jy9UX"
      }
    },
    {
      "cell_type": "markdown",
      "source": [
        "Title: Famous Quotes\n",
        "\n",
        "Description: This dataset contains a collection of famous quotes from various authors.\n",
        "\n",
        "Columns:\n",
        "\n",
        "    author: The name of the author who wrote the quote. (string)\n",
        "    quote: The text of the quote. (string)\n",
        "\n",
        "Rows:\n",
        "\n",
        "The dataset contains 10 rows, each representing a famous quote from a different author.\n",
        "\n",
        "Example Rows:\n",
        "\n",
        "| author          | quote                                                                                     |\n",
        "|----------------|-------------------------------------------------------------------------------------------|\n",
        "| Albert Einstein | “The world as we have created it is a process of our thinking. It cannot be changed without changing our thinking.” |\n",
        "| J.K. Rowling    | “It is our choices, Harry, that show what we truly are, far more than our abilities.”         |\n",
        "| Jane Austen     | “The person, be it gentleman or lady, who has not pleasure in a good novel, must be intolerably stupid.” |\n",
        "| Marilyn Monroe  | “Imperfection is beauty, madness is genius and it's better to be absolutely ridiculous than absolutely boring.” |\n",
        "| André Gide      | “It is better to be hated for what you are than to be loved for what you are not.”            |\n",
        "| Thomas A. Edison| “I have not failed. I've just found 10,000 ways that won't work.”                             |\n",
        "| Eleanor Roosevelt| “A woman is like a tea bag; you never know how strong it is until it's in hot water.”        |\n",
        "| Steve Martin    | “A day without sunshine is like, you know, night.”                                          |\n",
        "\n"
      ],
      "metadata": {
        "id": "J8UdutxzsNbZ"
      }
    },
    {
      "cell_type": "markdown",
      "source": [
        "In order to ouput a Word document, pypandoc library will be installed and used"
      ],
      "metadata": {
        "id": "x8qFj0-2zWSw"
      }
    },
    {
      "cell_type": "code",
      "source": [
        "pip install pypandoc"
      ],
      "metadata": {
        "colab": {
          "base_uri": "https://localhost:8080/"
        },
        "id": "i_VnAZlsyO5A",
        "outputId": "1457f8e2-b983-4c23-cce3-291d8ffbef56"
      },
      "execution_count": 11,
      "outputs": [
        {
          "output_type": "stream",
          "name": "stdout",
          "text": [
            "Looking in indexes: https://pypi.org/simple, https://us-python.pkg.dev/colab-wheels/public/simple/\n",
            "Collecting pypandoc\n",
            "  Downloading pypandoc-1.11-py3-none-any.whl (20 kB)\n",
            "Installing collected packages: pypandoc\n",
            "Successfully installed pypandoc-1.11\n"
          ]
        }
      ]
    },
    {
      "cell_type": "code",
      "source": [
        "import pypandoc\n",
        "\n",
        "markdown_text = '''\n",
        "# Title: Famous Quotes\n",
        "\n",
        "Description: This dataset contains a collection of famous quotes from various authors.\n",
        "\n",
        "Columns:\n",
        "\n",
        "    author: The name of the author who wrote the quote. (string)\n",
        "    quote: The text of the quote. (string)\n",
        "\n",
        "Rows:\n",
        "\n",
        "The dataset contains 10 rows, each representing a famous quote from a different author.\n",
        "\n",
        "Example Rows:\n",
        "\n",
        "| author          | quote                                                                                     |\n",
        "|----------------|-------------------------------------------------------------------------------------------|\n",
        "| Albert Einstein | “The world as we have created it is a process of our thinking. It cannot be changed without changing our thinking.” |\n",
        "| J.K. Rowling    | “It is our choices, Harry, that show what we truly are, far more than our abilities.”         |\n",
        "| Jane Austen     | “The person, be it gentleman or lady, who has not pleasure in a good novel, must be intolerably stupid.” |\n",
        "| Marilyn Monroe  | “Imperfection is beauty, madness is genius and it's better to be absolutely ridiculous than absolutely boring.” |\n",
        "| André Gide      | “It is better to be hated for what you are than to be loved for what you are not.”            |\n",
        "| Thomas A. Edison| “I have not failed. I've just found 10,000 ways that won't work.”                             |\n",
        "| Eleanor Roosevelt| “A woman is like a tea bag; you never know how strong it is until it's in hot water.”        |\n",
        "| Steve Martin    | “A day without sunshine is like, you know, night.”                                          |\n",
        "'''\n",
        "\n",
        "output = pypandoc.convert_text(markdown_text, 'docx', format='md', outputfile='Famous_Quotes_info.docx')"
      ],
      "metadata": {
        "id": "JLoNNgW2uP4U"
      },
      "execution_count": 12,
      "outputs": []
    },
    {
      "cell_type": "markdown",
      "metadata": {
        "id": "v4LT8Y-W9wId"
      },
      "source": [
        "# Exercici 3\n",
        "\n",
        "Choose a web page of your choice and perform web scraping using the Selenium library first and Scrapy later."
      ]
    },
    {
      "cell_type": "markdown",
      "metadata": {
        "id": "YRTvbTaSADCs"
      },
      "source": [
        "The website 'https://en.wikipedia.org/wiki/Steinberg_Cubase' is a publicly available website that is meant for general information and educational purposes. It allows web scraping under certain conditions. According to the website's terms of use, \"you are free to copy, distribute, transmit, and adapt the work, provided that you give attribution and do not use the material in a way that suggests that the licensor endorses you or your use.\""
      ]
    },
    {
      "cell_type": "markdown",
      "source": [
        "The next cell uses the Selenium library to automate a web browser and navigate to a Wikipedia page about Steinberg Cubase. Once the page is loaded, it uses Beautiful Soup to extract the text content under each h1, h2, and h3 heading on the page. Specifically, it uses the find_all method to locate all of the h1, h2, and h3 elements on the page, and then iterates through each of these elements. For each header element, the code prints its text content and then uses the find_all_next method to locate all of the p elements that come after it in the page's HTML structure. Finally, it prints the text content of each of these p elements. After all of the content has been extracted, the code closes the web browser."
      ],
      "metadata": {
        "id": "6EPftswUG0CZ"
      }
    },
    {
      "cell_type": "code",
      "source": [
        "from selenium import webdriver\n",
        "from selenium.webdriver.common.by import By\n",
        "from selenium.webdriver.support.ui import WebDriverWait\n",
        "from selenium.webdriver.support import expected_conditions as EC\n",
        "from bs4 import BeautifulSoup\n",
        "\n",
        "options = webdriver.ChromeOptions()\n",
        "options.add_argument('--headless')\n",
        "options.add_argument('--disable-dev-shm-usage')\n",
        "options.add_argument('--no-sandbox')\n",
        "\n",
        "# Point to the location of your chromedriver\n",
        "chromedriver_path = '/usr/bin/chromedriver'\n",
        "\n",
        "# Initialize the driver\n",
        "driver = webdriver.Chrome(chromedriver_path, options=options)\n",
        "\n",
        "# Navigate to the page\n",
        "driver.get('https://en.wikipedia.org/wiki/Steinberg_Cubase')\n",
        "\n",
        "# Wait for the page to load and get the content\n",
        "wait = WebDriverWait(driver, 10)\n",
        "content = wait.until(EC.presence_of_element_located((By.ID, 'content')))\n",
        "\n",
        "# Get the page source and parse it using BeautifulSoup\n",
        "soup = BeautifulSoup(driver.page_source, 'html.parser')\n",
        "\n",
        "# Find all the h1, h2, and h3 elements and extract their text\n",
        "headers = soup.find_all(['h1', 'h2', 'h3'])\n",
        "for header in headers:\n",
        "    print(header.text.strip())\n",
        "    print()\n",
        "    # Find all the p elements under the current header and extract their text\n",
        "    ps = header.find_all_next('p')\n",
        "    for p in ps:\n",
        "        print(p.text.strip())\n",
        "    print()\n",
        "\n",
        "# Close the driver\n",
        "driver.quit()"
      ],
      "metadata": {
        "colab": {
          "base_uri": "https://localhost:8080/"
        },
        "id": "fFutTVkA0CzG",
        "outputId": "10c6b278-7ac5-40c7-fa2d-a7687a78a754"
      },
      "execution_count": 46,
      "outputs": [
        {
          "output_type": "stream",
          "name": "stderr",
          "text": [
            "<ipython-input-46-fbc052945da1>:16: DeprecationWarning: executable_path has been deprecated, please pass in a Service object\n",
            "  driver = webdriver.Chrome(chromedriver_path, options=options)\n"
          ]
        },
        {
          "output_type": "stream",
          "name": "stdout",
          "text": [
            "Contents\n",
            "\n",
            "Cubase is a digital audio workstation (DAW) developed by Steinberg for music and MIDI recording, arranging and editing.[2] The first version, which was originally only a MIDI sequencer and ran on the Atari ST computer, was released in 1989.[3] Cut-down versions of Cubase are included with almost all Yamaha audio and MIDI hardware, as well as hardware from other manufacturers. These versions can be upgraded to a more advanced version at a discount.\n",
            "Cubase can be used to edit and sequence audio signals coming from an external sound source and MIDI, and can host VST instruments and effects. It has a number of features designed to aid in composition, such as:\n",
            "MIDI parts can be edited using a piano roll, a dedicated drum editor, a score editor, or as a filterable complete list of MIDI events.[4]\n",
            "The user can also mix the various tracks down into a stereo .wav file ready to be burned to a compact disc (CD) in Red Book format, or .mp3 burned to CD or DVD as files, or to be published on the Web.\n",
            "Cubase VST 3.7 in 1999 introduced a virtual instrument interface for software synthesizers known as VSTi. This made it possible for third-party software programmers to create and sell virtual instruments for Cubase. This technology has become a de facto standard for other DAW software, when integrating software based instruments on the Macintosh and Windows platforms. A new version of VST, VST3, was introduced with Steinberg's Cubase 4 which introduced improved handling of automation and audio output, native sidechaining, and many other features. Cubase 6 included VSTs such as HALion Sonic SE, Groove Agent ONE, LoopMash 2 and VST Amp Rack.\n",
            "When Cubase 6 was released in 2011, Steinberg introduced 5 different editions for different levels of use. From highest to lowest they are: Cubase (now known as Cubase Pro), Cubase Artist, Cubase Elements, Cubase AI and Cubase LE. They have all been updated as new versions come out. While they all run on the same audio engine, the lower tiers have limits on the number of certain types of tracks. The number of audio tracks allowed in Cubase Pro is unlimited, Artist: 64, Elements: 48, AI: 32, LE: 16.\n",
            "Cubase has existed in three main incarnations. Initially Cubase, which featured only MIDI, and which was available on the Atari ST, Macintosh and Windows.\n",
            "After a brief period with audio integration, the next version, Cubase VST, featured fully integrated audio recording and mixing along with effects. It added Virtual Studio Technology (VST) support, a standard for audio plug-ins, which led to a plethora of third-party effects, both freeware and commercial. Cubase VST was only for Macintosh and Windows; Atari support had been effectively dropped by this time, despite such hardware still being a mainstay in many studios. Cubase VST was offering a tremendous amount of power to the home user, but computer hardware took some time to catch up. By the time it did, VST's audio editing ability was found to be lacking, when compared with competitors such as Pro Tools DAE and Digital Performer MAS.\n",
            "To address this, a new version of the program, Cubase SX (based on Steinberg's flagship post-production software Nuendo) was introduced, which dramatically altered the way the program ran. This version required much relearning for users of older Cubase versions. However, once the new methods of working were learned, the improvements in handling of audio and automation made for a more professional sequencer and audio editor.\n",
            "A notable improvement with the introduction of Cubase SX was the advanced audio editing, especially the ability to 'undo' audio edits. Early versions of Cubase VST did not have this ability. Cubase SX also featured real-time time-stretching and adjustment of audio tempo, much like Sonic Foundry's ground-breaking ACID.\n",
            "In January 2003, Steinberg was acquired by Pinnacle Systems, within which it operated as an independent company before being sold to Yamaha Corporation in December, 2004.[5]\n",
            "In September 2006 Steinberg announced Cubase 4 - the successor to Cubase SX3. Notable new features include 'control room', a feature designed to help create monitor mixes, and a new set of VST3 plug-ins and instruments.\n",
            "There are also lighter economic alternatives by Steinberg, originally named Cubasis, later becoming Cubase SE and then Cubase Essential at version 4. For its sixth generation, the program was renamed Cubase Elements 6. The name change was done presumably, because its rival Cakewalk had taken the Essential branding for its own entry-level DAW software, Sonar X1 Essential.\n",
            "While the full version of Cubase features unlimited audio and MIDI tracks, lesser versions have limits. For instance, Cubase Elements 6 has a maximum of 48 audio track and 64 MIDI tracks and Cubase Artist 6 offer 64 audio and 128 MIDI tracks.\n",
            "In 2013, Steinberg introduced Cubasis for iPad, a Cubase for iOS. This version was a full rewrite and supports MIDI and audio tracks, audiobus and virtual MIDI to work with external music apps from the first versions.[6] In 2016, Cubasis 2 was released as a free update with new features such as real-time time-stretching, pitch-shifting for changing the key, a \"channel strip\" effects suite, and new plug-ins and sounds.[1] In 2017, Steinberg received the MIPA (Musikmesse International Press Award) for Cubasis 2 in the Mobile Music App category at the Musikmesse in Frankfurt.[2] In late 2019, Cubasis 3 followed as a new app and included group tracks, a \"Master Strip\" effects suite, a revamped MediaBay, more effects and many more features in addition to iPhone support. In mid-2020, Cubasis 3 was released for Android tablets and smartphones.[3]\n",
            "Some notable users include:[7][8][9]\n",
            "The main innovation of Cubase was the graphic arrange page, which allowed for the graphic representation of the composition using a vertical list of tracks and a horizontal timeline.[16] This was much more intuitive and allowed much easier editing than the prior system of parameter lists. It has since been copied by just about every other similar product.\n",
            "SX 1.0 allows importing of Cubase VST projects and saving them in the new *.cpr format, however the conversion isn't perfectly accurate.\n",
            "Cubase SX2.0 also saw the introduction of Full PDC (plug-in delay compensation). Many plug-ins, particularly those which run on DSP Cards such as UAD-1 or Powercore, cannot process their audio within a 1-sample time period and thus introduce extra latency into the system. Unchecked, this will cause some audio channels to end up out of sync with others. PDC checks all the various latencies introduced by such plug-ins and creates audio delay buffers to ensure that audio from all channels is correctly synchronized.\n",
            "Audiowarp was largely successful, but had a major flaw in that it didn't work with variable tempo projects. This was because the tempo map it copied to the Audio file when musical mode was enabled was derived from the fixed tempo setting of the project rather than from the tempo track.\n",
            "Nonetheless Audiowarp was an important addition to the musical features of Cubase. Despite the caveats, having the ability to change the tempo of a musical piece and have the audio tracks follow this new tempo was an important ability in music production.\n",
            "Cubase 4 was the first Cubase version not to support the import of Cubase VST songs and projects. To give the ability to import older Cubase VST projects and songs, Steinberg decided to make the prior Cubase SX3 and Cubase SL3 versions available as downloads.\n",
            "Cubase 4.0 brought a GUI change. In general the GUI was darker than the prior version, Cubase SX3.\n",
            "With this version the preset system was changed. The FXP (Preset) and FXB (Bank) files were discontinued along with the drop-down menu XML presets. They were replaced by a preset system that integrates in a new feature, the Media Bay, which allows deeper categorizing and managing of presets.\n",
            "1. Parameter undo/redo history for MixConsole\n",
            "2. Enhanced window handling\n",
            "3. Extend options to import tracks/channels in a project\n",
            "4. Extend resizing possibilities for the rack zone\n",
            "5. Basic sampler\n",
            "\n",
            "Steinberg Cubase\n",
            "\n",
            "Cubase is a digital audio workstation (DAW) developed by Steinberg for music and MIDI recording, arranging and editing.[2] The first version, which was originally only a MIDI sequencer and ran on the Atari ST computer, was released in 1989.[3] Cut-down versions of Cubase are included with almost all Yamaha audio and MIDI hardware, as well as hardware from other manufacturers. These versions can be upgraded to a more advanced version at a discount.\n",
            "Cubase can be used to edit and sequence audio signals coming from an external sound source and MIDI, and can host VST instruments and effects. It has a number of features designed to aid in composition, such as:\n",
            "MIDI parts can be edited using a piano roll, a dedicated drum editor, a score editor, or as a filterable complete list of MIDI events.[4]\n",
            "The user can also mix the various tracks down into a stereo .wav file ready to be burned to a compact disc (CD) in Red Book format, or .mp3 burned to CD or DVD as files, or to be published on the Web.\n",
            "Cubase VST 3.7 in 1999 introduced a virtual instrument interface for software synthesizers known as VSTi. This made it possible for third-party software programmers to create and sell virtual instruments for Cubase. This technology has become a de facto standard for other DAW software, when integrating software based instruments on the Macintosh and Windows platforms. A new version of VST, VST3, was introduced with Steinberg's Cubase 4 which introduced improved handling of automation and audio output, native sidechaining, and many other features. Cubase 6 included VSTs such as HALion Sonic SE, Groove Agent ONE, LoopMash 2 and VST Amp Rack.\n",
            "When Cubase 6 was released in 2011, Steinberg introduced 5 different editions for different levels of use. From highest to lowest they are: Cubase (now known as Cubase Pro), Cubase Artist, Cubase Elements, Cubase AI and Cubase LE. They have all been updated as new versions come out. While they all run on the same audio engine, the lower tiers have limits on the number of certain types of tracks. The number of audio tracks allowed in Cubase Pro is unlimited, Artist: 64, Elements: 48, AI: 32, LE: 16.\n",
            "Cubase has existed in three main incarnations. Initially Cubase, which featured only MIDI, and which was available on the Atari ST, Macintosh and Windows.\n",
            "After a brief period with audio integration, the next version, Cubase VST, featured fully integrated audio recording and mixing along with effects. It added Virtual Studio Technology (VST) support, a standard for audio plug-ins, which led to a plethora of third-party effects, both freeware and commercial. Cubase VST was only for Macintosh and Windows; Atari support had been effectively dropped by this time, despite such hardware still being a mainstay in many studios. Cubase VST was offering a tremendous amount of power to the home user, but computer hardware took some time to catch up. By the time it did, VST's audio editing ability was found to be lacking, when compared with competitors such as Pro Tools DAE and Digital Performer MAS.\n",
            "To address this, a new version of the program, Cubase SX (based on Steinberg's flagship post-production software Nuendo) was introduced, which dramatically altered the way the program ran. This version required much relearning for users of older Cubase versions. However, once the new methods of working were learned, the improvements in handling of audio and automation made for a more professional sequencer and audio editor.\n",
            "A notable improvement with the introduction of Cubase SX was the advanced audio editing, especially the ability to 'undo' audio edits. Early versions of Cubase VST did not have this ability. Cubase SX also featured real-time time-stretching and adjustment of audio tempo, much like Sonic Foundry's ground-breaking ACID.\n",
            "In January 2003, Steinberg was acquired by Pinnacle Systems, within which it operated as an independent company before being sold to Yamaha Corporation in December, 2004.[5]\n",
            "In September 2006 Steinberg announced Cubase 4 - the successor to Cubase SX3. Notable new features include 'control room', a feature designed to help create monitor mixes, and a new set of VST3 plug-ins and instruments.\n",
            "There are also lighter economic alternatives by Steinberg, originally named Cubasis, later becoming Cubase SE and then Cubase Essential at version 4. For its sixth generation, the program was renamed Cubase Elements 6. The name change was done presumably, because its rival Cakewalk had taken the Essential branding for its own entry-level DAW software, Sonar X1 Essential.\n",
            "While the full version of Cubase features unlimited audio and MIDI tracks, lesser versions have limits. For instance, Cubase Elements 6 has a maximum of 48 audio track and 64 MIDI tracks and Cubase Artist 6 offer 64 audio and 128 MIDI tracks.\n",
            "In 2013, Steinberg introduced Cubasis for iPad, a Cubase for iOS. This version was a full rewrite and supports MIDI and audio tracks, audiobus and virtual MIDI to work with external music apps from the first versions.[6] In 2016, Cubasis 2 was released as a free update with new features such as real-time time-stretching, pitch-shifting for changing the key, a \"channel strip\" effects suite, and new plug-ins and sounds.[1] In 2017, Steinberg received the MIPA (Musikmesse International Press Award) for Cubasis 2 in the Mobile Music App category at the Musikmesse in Frankfurt.[2] In late 2019, Cubasis 3 followed as a new app and included group tracks, a \"Master Strip\" effects suite, a revamped MediaBay, more effects and many more features in addition to iPhone support. In mid-2020, Cubasis 3 was released for Android tablets and smartphones.[3]\n",
            "Some notable users include:[7][8][9]\n",
            "The main innovation of Cubase was the graphic arrange page, which allowed for the graphic representation of the composition using a vertical list of tracks and a horizontal timeline.[16] This was much more intuitive and allowed much easier editing than the prior system of parameter lists. It has since been copied by just about every other similar product.\n",
            "SX 1.0 allows importing of Cubase VST projects and saving them in the new *.cpr format, however the conversion isn't perfectly accurate.\n",
            "Cubase SX2.0 also saw the introduction of Full PDC (plug-in delay compensation). Many plug-ins, particularly those which run on DSP Cards such as UAD-1 or Powercore, cannot process their audio within a 1-sample time period and thus introduce extra latency into the system. Unchecked, this will cause some audio channels to end up out of sync with others. PDC checks all the various latencies introduced by such plug-ins and creates audio delay buffers to ensure that audio from all channels is correctly synchronized.\n",
            "Audiowarp was largely successful, but had a major flaw in that it didn't work with variable tempo projects. This was because the tempo map it copied to the Audio file when musical mode was enabled was derived from the fixed tempo setting of the project rather than from the tempo track.\n",
            "Nonetheless Audiowarp was an important addition to the musical features of Cubase. Despite the caveats, having the ability to change the tempo of a musical piece and have the audio tracks follow this new tempo was an important ability in music production.\n",
            "Cubase 4 was the first Cubase version not to support the import of Cubase VST songs and projects. To give the ability to import older Cubase VST projects and songs, Steinberg decided to make the prior Cubase SX3 and Cubase SL3 versions available as downloads.\n",
            "Cubase 4.0 brought a GUI change. In general the GUI was darker than the prior version, Cubase SX3.\n",
            "With this version the preset system was changed. The FXP (Preset) and FXB (Bank) files were discontinued along with the drop-down menu XML presets. They were replaced by a preset system that integrates in a new feature, the Media Bay, which allows deeper categorizing and managing of presets.\n",
            "1. Parameter undo/redo history for MixConsole\n",
            "2. Enhanced window handling\n",
            "3. Extend options to import tracks/channels in a project\n",
            "4. Extend resizing possibilities for the rack zone\n",
            "5. Basic sampler\n",
            "\n",
            "Operation[edit]\n",
            "\n",
            "Cubase can be used to edit and sequence audio signals coming from an external sound source and MIDI, and can host VST instruments and effects. It has a number of features designed to aid in composition, such as:\n",
            "MIDI parts can be edited using a piano roll, a dedicated drum editor, a score editor, or as a filterable complete list of MIDI events.[4]\n",
            "The user can also mix the various tracks down into a stereo .wav file ready to be burned to a compact disc (CD) in Red Book format, or .mp3 burned to CD or DVD as files, or to be published on the Web.\n",
            "Cubase VST 3.7 in 1999 introduced a virtual instrument interface for software synthesizers known as VSTi. This made it possible for third-party software programmers to create and sell virtual instruments for Cubase. This technology has become a de facto standard for other DAW software, when integrating software based instruments on the Macintosh and Windows platforms. A new version of VST, VST3, was introduced with Steinberg's Cubase 4 which introduced improved handling of automation and audio output, native sidechaining, and many other features. Cubase 6 included VSTs such as HALion Sonic SE, Groove Agent ONE, LoopMash 2 and VST Amp Rack.\n",
            "When Cubase 6 was released in 2011, Steinberg introduced 5 different editions for different levels of use. From highest to lowest they are: Cubase (now known as Cubase Pro), Cubase Artist, Cubase Elements, Cubase AI and Cubase LE. They have all been updated as new versions come out. While they all run on the same audio engine, the lower tiers have limits on the number of certain types of tracks. The number of audio tracks allowed in Cubase Pro is unlimited, Artist: 64, Elements: 48, AI: 32, LE: 16.\n",
            "Cubase has existed in three main incarnations. Initially Cubase, which featured only MIDI, and which was available on the Atari ST, Macintosh and Windows.\n",
            "After a brief period with audio integration, the next version, Cubase VST, featured fully integrated audio recording and mixing along with effects. It added Virtual Studio Technology (VST) support, a standard for audio plug-ins, which led to a plethora of third-party effects, both freeware and commercial. Cubase VST was only for Macintosh and Windows; Atari support had been effectively dropped by this time, despite such hardware still being a mainstay in many studios. Cubase VST was offering a tremendous amount of power to the home user, but computer hardware took some time to catch up. By the time it did, VST's audio editing ability was found to be lacking, when compared with competitors such as Pro Tools DAE and Digital Performer MAS.\n",
            "To address this, a new version of the program, Cubase SX (based on Steinberg's flagship post-production software Nuendo) was introduced, which dramatically altered the way the program ran. This version required much relearning for users of older Cubase versions. However, once the new methods of working were learned, the improvements in handling of audio and automation made for a more professional sequencer and audio editor.\n",
            "A notable improvement with the introduction of Cubase SX was the advanced audio editing, especially the ability to 'undo' audio edits. Early versions of Cubase VST did not have this ability. Cubase SX also featured real-time time-stretching and adjustment of audio tempo, much like Sonic Foundry's ground-breaking ACID.\n",
            "In January 2003, Steinberg was acquired by Pinnacle Systems, within which it operated as an independent company before being sold to Yamaha Corporation in December, 2004.[5]\n",
            "In September 2006 Steinberg announced Cubase 4 - the successor to Cubase SX3. Notable new features include 'control room', a feature designed to help create monitor mixes, and a new set of VST3 plug-ins and instruments.\n",
            "There are also lighter economic alternatives by Steinberg, originally named Cubasis, later becoming Cubase SE and then Cubase Essential at version 4. For its sixth generation, the program was renamed Cubase Elements 6. The name change was done presumably, because its rival Cakewalk had taken the Essential branding for its own entry-level DAW software, Sonar X1 Essential.\n",
            "While the full version of Cubase features unlimited audio and MIDI tracks, lesser versions have limits. For instance, Cubase Elements 6 has a maximum of 48 audio track and 64 MIDI tracks and Cubase Artist 6 offer 64 audio and 128 MIDI tracks.\n",
            "In 2013, Steinberg introduced Cubasis for iPad, a Cubase for iOS. This version was a full rewrite and supports MIDI and audio tracks, audiobus and virtual MIDI to work with external music apps from the first versions.[6] In 2016, Cubasis 2 was released as a free update with new features such as real-time time-stretching, pitch-shifting for changing the key, a \"channel strip\" effects suite, and new plug-ins and sounds.[1] In 2017, Steinberg received the MIPA (Musikmesse International Press Award) for Cubasis 2 in the Mobile Music App category at the Musikmesse in Frankfurt.[2] In late 2019, Cubasis 3 followed as a new app and included group tracks, a \"Master Strip\" effects suite, a revamped MediaBay, more effects and many more features in addition to iPhone support. In mid-2020, Cubasis 3 was released for Android tablets and smartphones.[3]\n",
            "Some notable users include:[7][8][9]\n",
            "The main innovation of Cubase was the graphic arrange page, which allowed for the graphic representation of the composition using a vertical list of tracks and a horizontal timeline.[16] This was much more intuitive and allowed much easier editing than the prior system of parameter lists. It has since been copied by just about every other similar product.\n",
            "SX 1.0 allows importing of Cubase VST projects and saving them in the new *.cpr format, however the conversion isn't perfectly accurate.\n",
            "Cubase SX2.0 also saw the introduction of Full PDC (plug-in delay compensation). Many plug-ins, particularly those which run on DSP Cards such as UAD-1 or Powercore, cannot process their audio within a 1-sample time period and thus introduce extra latency into the system. Unchecked, this will cause some audio channels to end up out of sync with others. PDC checks all the various latencies introduced by such plug-ins and creates audio delay buffers to ensure that audio from all channels is correctly synchronized.\n",
            "Audiowarp was largely successful, but had a major flaw in that it didn't work with variable tempo projects. This was because the tempo map it copied to the Audio file when musical mode was enabled was derived from the fixed tempo setting of the project rather than from the tempo track.\n",
            "Nonetheless Audiowarp was an important addition to the musical features of Cubase. Despite the caveats, having the ability to change the tempo of a musical piece and have the audio tracks follow this new tempo was an important ability in music production.\n",
            "Cubase 4 was the first Cubase version not to support the import of Cubase VST songs and projects. To give the ability to import older Cubase VST projects and songs, Steinberg decided to make the prior Cubase SX3 and Cubase SL3 versions available as downloads.\n",
            "Cubase 4.0 brought a GUI change. In general the GUI was darker than the prior version, Cubase SX3.\n",
            "With this version the preset system was changed. The FXP (Preset) and FXB (Bank) files were discontinued along with the drop-down menu XML presets. They were replaced by a preset system that integrates in a new feature, the Media Bay, which allows deeper categorizing and managing of presets.\n",
            "1. Parameter undo/redo history for MixConsole\n",
            "2. Enhanced window handling\n",
            "3. Extend options to import tracks/channels in a project\n",
            "4. Extend resizing possibilities for the rack zone\n",
            "5. Basic sampler\n",
            "\n",
            "VST instruments[edit]\n",
            "\n",
            "Cubase VST 3.7 in 1999 introduced a virtual instrument interface for software synthesizers known as VSTi. This made it possible for third-party software programmers to create and sell virtual instruments for Cubase. This technology has become a de facto standard for other DAW software, when integrating software based instruments on the Macintosh and Windows platforms. A new version of VST, VST3, was introduced with Steinberg's Cubase 4 which introduced improved handling of automation and audio output, native sidechaining, and many other features. Cubase 6 included VSTs such as HALion Sonic SE, Groove Agent ONE, LoopMash 2 and VST Amp Rack.\n",
            "When Cubase 6 was released in 2011, Steinberg introduced 5 different editions for different levels of use. From highest to lowest they are: Cubase (now known as Cubase Pro), Cubase Artist, Cubase Elements, Cubase AI and Cubase LE. They have all been updated as new versions come out. While they all run on the same audio engine, the lower tiers have limits on the number of certain types of tracks. The number of audio tracks allowed in Cubase Pro is unlimited, Artist: 64, Elements: 48, AI: 32, LE: 16.\n",
            "Cubase has existed in three main incarnations. Initially Cubase, which featured only MIDI, and which was available on the Atari ST, Macintosh and Windows.\n",
            "After a brief period with audio integration, the next version, Cubase VST, featured fully integrated audio recording and mixing along with effects. It added Virtual Studio Technology (VST) support, a standard for audio plug-ins, which led to a plethora of third-party effects, both freeware and commercial. Cubase VST was only for Macintosh and Windows; Atari support had been effectively dropped by this time, despite such hardware still being a mainstay in many studios. Cubase VST was offering a tremendous amount of power to the home user, but computer hardware took some time to catch up. By the time it did, VST's audio editing ability was found to be lacking, when compared with competitors such as Pro Tools DAE and Digital Performer MAS.\n",
            "To address this, a new version of the program, Cubase SX (based on Steinberg's flagship post-production software Nuendo) was introduced, which dramatically altered the way the program ran. This version required much relearning for users of older Cubase versions. However, once the new methods of working were learned, the improvements in handling of audio and automation made for a more professional sequencer and audio editor.\n",
            "A notable improvement with the introduction of Cubase SX was the advanced audio editing, especially the ability to 'undo' audio edits. Early versions of Cubase VST did not have this ability. Cubase SX also featured real-time time-stretching and adjustment of audio tempo, much like Sonic Foundry's ground-breaking ACID.\n",
            "In January 2003, Steinberg was acquired by Pinnacle Systems, within which it operated as an independent company before being sold to Yamaha Corporation in December, 2004.[5]\n",
            "In September 2006 Steinberg announced Cubase 4 - the successor to Cubase SX3. Notable new features include 'control room', a feature designed to help create monitor mixes, and a new set of VST3 plug-ins and instruments.\n",
            "There are also lighter economic alternatives by Steinberg, originally named Cubasis, later becoming Cubase SE and then Cubase Essential at version 4. For its sixth generation, the program was renamed Cubase Elements 6. The name change was done presumably, because its rival Cakewalk had taken the Essential branding for its own entry-level DAW software, Sonar X1 Essential.\n",
            "While the full version of Cubase features unlimited audio and MIDI tracks, lesser versions have limits. For instance, Cubase Elements 6 has a maximum of 48 audio track and 64 MIDI tracks and Cubase Artist 6 offer 64 audio and 128 MIDI tracks.\n",
            "In 2013, Steinberg introduced Cubasis for iPad, a Cubase for iOS. This version was a full rewrite and supports MIDI and audio tracks, audiobus and virtual MIDI to work with external music apps from the first versions.[6] In 2016, Cubasis 2 was released as a free update with new features such as real-time time-stretching, pitch-shifting for changing the key, a \"channel strip\" effects suite, and new plug-ins and sounds.[1] In 2017, Steinberg received the MIPA (Musikmesse International Press Award) for Cubasis 2 in the Mobile Music App category at the Musikmesse in Frankfurt.[2] In late 2019, Cubasis 3 followed as a new app and included group tracks, a \"Master Strip\" effects suite, a revamped MediaBay, more effects and many more features in addition to iPhone support. In mid-2020, Cubasis 3 was released for Android tablets and smartphones.[3]\n",
            "Some notable users include:[7][8][9]\n",
            "The main innovation of Cubase was the graphic arrange page, which allowed for the graphic representation of the composition using a vertical list of tracks and a horizontal timeline.[16] This was much more intuitive and allowed much easier editing than the prior system of parameter lists. It has since been copied by just about every other similar product.\n",
            "SX 1.0 allows importing of Cubase VST projects and saving them in the new *.cpr format, however the conversion isn't perfectly accurate.\n",
            "Cubase SX2.0 also saw the introduction of Full PDC (plug-in delay compensation). Many plug-ins, particularly those which run on DSP Cards such as UAD-1 or Powercore, cannot process their audio within a 1-sample time period and thus introduce extra latency into the system. Unchecked, this will cause some audio channels to end up out of sync with others. PDC checks all the various latencies introduced by such plug-ins and creates audio delay buffers to ensure that audio from all channels is correctly synchronized.\n",
            "Audiowarp was largely successful, but had a major flaw in that it didn't work with variable tempo projects. This was because the tempo map it copied to the Audio file when musical mode was enabled was derived from the fixed tempo setting of the project rather than from the tempo track.\n",
            "Nonetheless Audiowarp was an important addition to the musical features of Cubase. Despite the caveats, having the ability to change the tempo of a musical piece and have the audio tracks follow this new tempo was an important ability in music production.\n",
            "Cubase 4 was the first Cubase version not to support the import of Cubase VST songs and projects. To give the ability to import older Cubase VST projects and songs, Steinberg decided to make the prior Cubase SX3 and Cubase SL3 versions available as downloads.\n",
            "Cubase 4.0 brought a GUI change. In general the GUI was darker than the prior version, Cubase SX3.\n",
            "With this version the preset system was changed. The FXP (Preset) and FXB (Bank) files were discontinued along with the drop-down menu XML presets. They were replaced by a preset system that integrates in a new feature, the Media Bay, which allows deeper categorizing and managing of presets.\n",
            "1. Parameter undo/redo history for MixConsole\n",
            "2. Enhanced window handling\n",
            "3. Extend options to import tracks/channels in a project\n",
            "4. Extend resizing possibilities for the rack zone\n",
            "5. Basic sampler\n",
            "\n",
            "Editions[edit]\n",
            "\n",
            "When Cubase 6 was released in 2011, Steinberg introduced 5 different editions for different levels of use. From highest to lowest they are: Cubase (now known as Cubase Pro), Cubase Artist, Cubase Elements, Cubase AI and Cubase LE. They have all been updated as new versions come out. While they all run on the same audio engine, the lower tiers have limits on the number of certain types of tracks. The number of audio tracks allowed in Cubase Pro is unlimited, Artist: 64, Elements: 48, AI: 32, LE: 16.\n",
            "Cubase has existed in three main incarnations. Initially Cubase, which featured only MIDI, and which was available on the Atari ST, Macintosh and Windows.\n",
            "After a brief period with audio integration, the next version, Cubase VST, featured fully integrated audio recording and mixing along with effects. It added Virtual Studio Technology (VST) support, a standard for audio plug-ins, which led to a plethora of third-party effects, both freeware and commercial. Cubase VST was only for Macintosh and Windows; Atari support had been effectively dropped by this time, despite such hardware still being a mainstay in many studios. Cubase VST was offering a tremendous amount of power to the home user, but computer hardware took some time to catch up. By the time it did, VST's audio editing ability was found to be lacking, when compared with competitors such as Pro Tools DAE and Digital Performer MAS.\n",
            "To address this, a new version of the program, Cubase SX (based on Steinberg's flagship post-production software Nuendo) was introduced, which dramatically altered the way the program ran. This version required much relearning for users of older Cubase versions. However, once the new methods of working were learned, the improvements in handling of audio and automation made for a more professional sequencer and audio editor.\n",
            "A notable improvement with the introduction of Cubase SX was the advanced audio editing, especially the ability to 'undo' audio edits. Early versions of Cubase VST did not have this ability. Cubase SX also featured real-time time-stretching and adjustment of audio tempo, much like Sonic Foundry's ground-breaking ACID.\n",
            "In January 2003, Steinberg was acquired by Pinnacle Systems, within which it operated as an independent company before being sold to Yamaha Corporation in December, 2004.[5]\n",
            "In September 2006 Steinberg announced Cubase 4 - the successor to Cubase SX3. Notable new features include 'control room', a feature designed to help create monitor mixes, and a new set of VST3 plug-ins and instruments.\n",
            "There are also lighter economic alternatives by Steinberg, originally named Cubasis, later becoming Cubase SE and then Cubase Essential at version 4. For its sixth generation, the program was renamed Cubase Elements 6. The name change was done presumably, because its rival Cakewalk had taken the Essential branding for its own entry-level DAW software, Sonar X1 Essential.\n",
            "While the full version of Cubase features unlimited audio and MIDI tracks, lesser versions have limits. For instance, Cubase Elements 6 has a maximum of 48 audio track and 64 MIDI tracks and Cubase Artist 6 offer 64 audio and 128 MIDI tracks.\n",
            "In 2013, Steinberg introduced Cubasis for iPad, a Cubase for iOS. This version was a full rewrite and supports MIDI and audio tracks, audiobus and virtual MIDI to work with external music apps from the first versions.[6] In 2016, Cubasis 2 was released as a free update with new features such as real-time time-stretching, pitch-shifting for changing the key, a \"channel strip\" effects suite, and new plug-ins and sounds.[1] In 2017, Steinberg received the MIPA (Musikmesse International Press Award) for Cubasis 2 in the Mobile Music App category at the Musikmesse in Frankfurt.[2] In late 2019, Cubasis 3 followed as a new app and included group tracks, a \"Master Strip\" effects suite, a revamped MediaBay, more effects and many more features in addition to iPhone support. In mid-2020, Cubasis 3 was released for Android tablets and smartphones.[3]\n",
            "Some notable users include:[7][8][9]\n",
            "The main innovation of Cubase was the graphic arrange page, which allowed for the graphic representation of the composition using a vertical list of tracks and a horizontal timeline.[16] This was much more intuitive and allowed much easier editing than the prior system of parameter lists. It has since been copied by just about every other similar product.\n",
            "SX 1.0 allows importing of Cubase VST projects and saving them in the new *.cpr format, however the conversion isn't perfectly accurate.\n",
            "Cubase SX2.0 also saw the introduction of Full PDC (plug-in delay compensation). Many plug-ins, particularly those which run on DSP Cards such as UAD-1 or Powercore, cannot process their audio within a 1-sample time period and thus introduce extra latency into the system. Unchecked, this will cause some audio channels to end up out of sync with others. PDC checks all the various latencies introduced by such plug-ins and creates audio delay buffers to ensure that audio from all channels is correctly synchronized.\n",
            "Audiowarp was largely successful, but had a major flaw in that it didn't work with variable tempo projects. This was because the tempo map it copied to the Audio file when musical mode was enabled was derived from the fixed tempo setting of the project rather than from the tempo track.\n",
            "Nonetheless Audiowarp was an important addition to the musical features of Cubase. Despite the caveats, having the ability to change the tempo of a musical piece and have the audio tracks follow this new tempo was an important ability in music production.\n",
            "Cubase 4 was the first Cubase version not to support the import of Cubase VST songs and projects. To give the ability to import older Cubase VST projects and songs, Steinberg decided to make the prior Cubase SX3 and Cubase SL3 versions available as downloads.\n",
            "Cubase 4.0 brought a GUI change. In general the GUI was darker than the prior version, Cubase SX3.\n",
            "With this version the preset system was changed. The FXP (Preset) and FXB (Bank) files were discontinued along with the drop-down menu XML presets. They were replaced by a preset system that integrates in a new feature, the Media Bay, which allows deeper categorizing and managing of presets.\n",
            "1. Parameter undo/redo history for MixConsole\n",
            "2. Enhanced window handling\n",
            "3. Extend options to import tracks/channels in a project\n",
            "4. Extend resizing possibilities for the rack zone\n",
            "5. Basic sampler\n",
            "\n",
            "History[edit]\n",
            "\n",
            "Cubase has existed in three main incarnations. Initially Cubase, which featured only MIDI, and which was available on the Atari ST, Macintosh and Windows.\n",
            "After a brief period with audio integration, the next version, Cubase VST, featured fully integrated audio recording and mixing along with effects. It added Virtual Studio Technology (VST) support, a standard for audio plug-ins, which led to a plethora of third-party effects, both freeware and commercial. Cubase VST was only for Macintosh and Windows; Atari support had been effectively dropped by this time, despite such hardware still being a mainstay in many studios. Cubase VST was offering a tremendous amount of power to the home user, but computer hardware took some time to catch up. By the time it did, VST's audio editing ability was found to be lacking, when compared with competitors such as Pro Tools DAE and Digital Performer MAS.\n",
            "To address this, a new version of the program, Cubase SX (based on Steinberg's flagship post-production software Nuendo) was introduced, which dramatically altered the way the program ran. This version required much relearning for users of older Cubase versions. However, once the new methods of working were learned, the improvements in handling of audio and automation made for a more professional sequencer and audio editor.\n",
            "A notable improvement with the introduction of Cubase SX was the advanced audio editing, especially the ability to 'undo' audio edits. Early versions of Cubase VST did not have this ability. Cubase SX also featured real-time time-stretching and adjustment of audio tempo, much like Sonic Foundry's ground-breaking ACID.\n",
            "In January 2003, Steinberg was acquired by Pinnacle Systems, within which it operated as an independent company before being sold to Yamaha Corporation in December, 2004.[5]\n",
            "In September 2006 Steinberg announced Cubase 4 - the successor to Cubase SX3. Notable new features include 'control room', a feature designed to help create monitor mixes, and a new set of VST3 plug-ins and instruments.\n",
            "There are also lighter economic alternatives by Steinberg, originally named Cubasis, later becoming Cubase SE and then Cubase Essential at version 4. For its sixth generation, the program was renamed Cubase Elements 6. The name change was done presumably, because its rival Cakewalk had taken the Essential branding for its own entry-level DAW software, Sonar X1 Essential.\n",
            "While the full version of Cubase features unlimited audio and MIDI tracks, lesser versions have limits. For instance, Cubase Elements 6 has a maximum of 48 audio track and 64 MIDI tracks and Cubase Artist 6 offer 64 audio and 128 MIDI tracks.\n",
            "In 2013, Steinberg introduced Cubasis for iPad, a Cubase for iOS. This version was a full rewrite and supports MIDI and audio tracks, audiobus and virtual MIDI to work with external music apps from the first versions.[6] In 2016, Cubasis 2 was released as a free update with new features such as real-time time-stretching, pitch-shifting for changing the key, a \"channel strip\" effects suite, and new plug-ins and sounds.[1] In 2017, Steinberg received the MIPA (Musikmesse International Press Award) for Cubasis 2 in the Mobile Music App category at the Musikmesse in Frankfurt.[2] In late 2019, Cubasis 3 followed as a new app and included group tracks, a \"Master Strip\" effects suite, a revamped MediaBay, more effects and many more features in addition to iPhone support. In mid-2020, Cubasis 3 was released for Android tablets and smartphones.[3]\n",
            "Some notable users include:[7][8][9]\n",
            "The main innovation of Cubase was the graphic arrange page, which allowed for the graphic representation of the composition using a vertical list of tracks and a horizontal timeline.[16] This was much more intuitive and allowed much easier editing than the prior system of parameter lists. It has since been copied by just about every other similar product.\n",
            "SX 1.0 allows importing of Cubase VST projects and saving them in the new *.cpr format, however the conversion isn't perfectly accurate.\n",
            "Cubase SX2.0 also saw the introduction of Full PDC (plug-in delay compensation). Many plug-ins, particularly those which run on DSP Cards such as UAD-1 or Powercore, cannot process their audio within a 1-sample time period and thus introduce extra latency into the system. Unchecked, this will cause some audio channels to end up out of sync with others. PDC checks all the various latencies introduced by such plug-ins and creates audio delay buffers to ensure that audio from all channels is correctly synchronized.\n",
            "Audiowarp was largely successful, but had a major flaw in that it didn't work with variable tempo projects. This was because the tempo map it copied to the Audio file when musical mode was enabled was derived from the fixed tempo setting of the project rather than from the tempo track.\n",
            "Nonetheless Audiowarp was an important addition to the musical features of Cubase. Despite the caveats, having the ability to change the tempo of a musical piece and have the audio tracks follow this new tempo was an important ability in music production.\n",
            "Cubase 4 was the first Cubase version not to support the import of Cubase VST songs and projects. To give the ability to import older Cubase VST projects and songs, Steinberg decided to make the prior Cubase SX3 and Cubase SL3 versions available as downloads.\n",
            "Cubase 4.0 brought a GUI change. In general the GUI was darker than the prior version, Cubase SX3.\n",
            "With this version the preset system was changed. The FXP (Preset) and FXB (Bank) files were discontinued along with the drop-down menu XML presets. They were replaced by a preset system that integrates in a new feature, the Media Bay, which allows deeper categorizing and managing of presets.\n",
            "1. Parameter undo/redo history for MixConsole\n",
            "2. Enhanced window handling\n",
            "3. Extend options to import tracks/channels in a project\n",
            "4. Extend resizing possibilities for the rack zone\n",
            "5. Basic sampler\n",
            "\n",
            "Notable users[edit]\n",
            "\n",
            "Some notable users include:[7][8][9]\n",
            "The main innovation of Cubase was the graphic arrange page, which allowed for the graphic representation of the composition using a vertical list of tracks and a horizontal timeline.[16] This was much more intuitive and allowed much easier editing than the prior system of parameter lists. It has since been copied by just about every other similar product.\n",
            "SX 1.0 allows importing of Cubase VST projects and saving them in the new *.cpr format, however the conversion isn't perfectly accurate.\n",
            "Cubase SX2.0 also saw the introduction of Full PDC (plug-in delay compensation). Many plug-ins, particularly those which run on DSP Cards such as UAD-1 or Powercore, cannot process their audio within a 1-sample time period and thus introduce extra latency into the system. Unchecked, this will cause some audio channels to end up out of sync with others. PDC checks all the various latencies introduced by such plug-ins and creates audio delay buffers to ensure that audio from all channels is correctly synchronized.\n",
            "Audiowarp was largely successful, but had a major flaw in that it didn't work with variable tempo projects. This was because the tempo map it copied to the Audio file when musical mode was enabled was derived from the fixed tempo setting of the project rather than from the tempo track.\n",
            "Nonetheless Audiowarp was an important addition to the musical features of Cubase. Despite the caveats, having the ability to change the tempo of a musical piece and have the audio tracks follow this new tempo was an important ability in music production.\n",
            "Cubase 4 was the first Cubase version not to support the import of Cubase VST songs and projects. To give the ability to import older Cubase VST projects and songs, Steinberg decided to make the prior Cubase SX3 and Cubase SL3 versions available as downloads.\n",
            "Cubase 4.0 brought a GUI change. In general the GUI was darker than the prior version, Cubase SX3.\n",
            "With this version the preset system was changed. The FXP (Preset) and FXB (Bank) files were discontinued along with the drop-down menu XML presets. They were replaced by a preset system that integrates in a new feature, the Media Bay, which allows deeper categorizing and managing of presets.\n",
            "1. Parameter undo/redo history for MixConsole\n",
            "2. Enhanced window handling\n",
            "3. Extend options to import tracks/channels in a project\n",
            "4. Extend resizing possibilities for the rack zone\n",
            "5. Basic sampler\n",
            "\n",
            "Versions[edit]\n",
            "\n",
            "The main innovation of Cubase was the graphic arrange page, which allowed for the graphic representation of the composition using a vertical list of tracks and a horizontal timeline.[16] This was much more intuitive and allowed much easier editing than the prior system of parameter lists. It has since been copied by just about every other similar product.\n",
            "SX 1.0 allows importing of Cubase VST projects and saving them in the new *.cpr format, however the conversion isn't perfectly accurate.\n",
            "Cubase SX2.0 also saw the introduction of Full PDC (plug-in delay compensation). Many plug-ins, particularly those which run on DSP Cards such as UAD-1 or Powercore, cannot process their audio within a 1-sample time period and thus introduce extra latency into the system. Unchecked, this will cause some audio channels to end up out of sync with others. PDC checks all the various latencies introduced by such plug-ins and creates audio delay buffers to ensure that audio from all channels is correctly synchronized.\n",
            "Audiowarp was largely successful, but had a major flaw in that it didn't work with variable tempo projects. This was because the tempo map it copied to the Audio file when musical mode was enabled was derived from the fixed tempo setting of the project rather than from the tempo track.\n",
            "Nonetheless Audiowarp was an important addition to the musical features of Cubase. Despite the caveats, having the ability to change the tempo of a musical piece and have the audio tracks follow this new tempo was an important ability in music production.\n",
            "Cubase 4 was the first Cubase version not to support the import of Cubase VST songs and projects. To give the ability to import older Cubase VST projects and songs, Steinberg decided to make the prior Cubase SX3 and Cubase SL3 versions available as downloads.\n",
            "Cubase 4.0 brought a GUI change. In general the GUI was darker than the prior version, Cubase SX3.\n",
            "With this version the preset system was changed. The FXP (Preset) and FXB (Bank) files were discontinued along with the drop-down menu XML presets. They were replaced by a preset system that integrates in a new feature, the Media Bay, which allows deeper categorizing and managing of presets.\n",
            "1. Parameter undo/redo history for MixConsole\n",
            "2. Enhanced window handling\n",
            "3. Extend options to import tracks/channels in a project\n",
            "4. Extend resizing possibilities for the rack zone\n",
            "5. Basic sampler\n",
            "\n",
            "See also[edit]\n",
            "\n",
            "\n",
            "References[edit]\n",
            "\n",
            "\n",
            "External links[edit]\n",
            "\n",
            "\n"
          ]
        }
      ]
    },
    {
      "cell_type": "markdown",
      "source": [
        "Next cells will install Scrapy library and install it, then create a project in my Gooogle drive, generate a spider"
      ],
      "metadata": {
        "id": "IFIURCPh0WjB"
      }
    },
    {
      "cell_type": "code",
      "source": [
        "!pip install scrapy\n",
        "!pip install scrapy-user-agents\n",
        "!pip install scrapy-rotating-proxies\n"
      ],
      "metadata": {
        "id": "Rdb7_uN8j2D5",
        "colab": {
          "base_uri": "https://localhost:8080/",
          "height": 1000
        },
        "outputId": "75a64b31-e897-4ce2-cc60-c33d76aaa249"
      },
      "execution_count": 16,
      "outputs": [
        {
          "output_type": "stream",
          "name": "stdout",
          "text": [
            "Looking in indexes: https://pypi.org/simple, https://us-python.pkg.dev/colab-wheels/public/simple/\n",
            "Collecting scrapy\n",
            "  Downloading Scrapy-2.8.0-py2.py3-none-any.whl (272 kB)\n",
            "\u001b[2K     \u001b[90m━━━━━━━━━━━━━━━━━━━━━━━━━━━━━━━━━━━━━━━\u001b[0m \u001b[32m272.9/272.9 kB\u001b[0m \u001b[31m6.1 MB/s\u001b[0m eta \u001b[36m0:00:00\u001b[0m\n",
            "\u001b[?25hCollecting cssselect>=0.9.1\n",
            "  Downloading cssselect-1.2.0-py2.py3-none-any.whl (18 kB)\n",
            "Collecting itemloaders>=1.0.1\n",
            "  Downloading itemloaders-1.0.6-py3-none-any.whl (11 kB)\n",
            "Collecting pyOpenSSL>=21.0.0\n",
            "  Downloading pyOpenSSL-23.1.1-py3-none-any.whl (57 kB)\n",
            "\u001b[2K     \u001b[90m━━━━━━━━━━━━━━━━━━━━━━━━━━━━━━━━━━━━━━━━\u001b[0m \u001b[32m57.9/57.9 kB\u001b[0m \u001b[31m7.0 MB/s\u001b[0m eta \u001b[36m0:00:00\u001b[0m\n",
            "\u001b[?25hCollecting w3lib>=1.17.0\n",
            "  Downloading w3lib-2.1.1-py3-none-any.whl (21 kB)\n",
            "Collecting queuelib>=1.4.2\n",
            "  Downloading queuelib-1.6.2-py2.py3-none-any.whl (13 kB)\n",
            "Requirement already satisfied: packaging in /usr/local/lib/python3.9/dist-packages (from scrapy) (23.0)\n",
            "Collecting tldextract\n",
            "  Downloading tldextract-3.4.0-py3-none-any.whl (93 kB)\n",
            "\u001b[2K     \u001b[90m━━━━━━━━━━━━━━━━━━━━━━━━━━━━━━━━━━━━━━━━\u001b[0m \u001b[32m93.9/93.9 kB\u001b[0m \u001b[31m11.3 MB/s\u001b[0m eta \u001b[36m0:00:00\u001b[0m\n",
            "\u001b[?25hCollecting parsel>=1.5.0\n",
            "  Downloading parsel-1.7.0-py2.py3-none-any.whl (14 kB)\n",
            "Collecting protego>=0.1.15\n",
            "  Downloading Protego-0.2.1-py2.py3-none-any.whl (8.2 kB)\n",
            "Collecting PyDispatcher>=2.0.5\n",
            "  Downloading PyDispatcher-2.0.7-py3-none-any.whl (12 kB)\n",
            "Collecting zope.interface>=5.1.0\n",
            "  Downloading zope.interface-6.0-cp39-cp39-manylinux_2_5_x86_64.manylinux1_x86_64.manylinux_2_17_x86_64.manylinux2014_x86_64.whl (246 kB)\n",
            "\u001b[2K     \u001b[90m━━━━━━━━━━━━━━━━━━━━━━━━━━━━━━━━━━━━━━\u001b[0m \u001b[32m246.1/246.1 kB\u001b[0m \u001b[31m15.4 MB/s\u001b[0m eta \u001b[36m0:00:00\u001b[0m\n",
            "\u001b[?25hCollecting service-identity>=18.1.0\n",
            "  Downloading service_identity-21.1.0-py2.py3-none-any.whl (12 kB)\n",
            "Requirement already satisfied: setuptools in /usr/local/lib/python3.9/dist-packages (from scrapy) (67.6.1)\n",
            "Collecting Twisted>=18.9.0\n",
            "  Downloading Twisted-22.10.0-py3-none-any.whl (3.1 MB)\n",
            "\u001b[2K     \u001b[90m━━━━━━━━━━━━━━━━━━━━━━━━━━━━━━━━━━━━━━━━\u001b[0m \u001b[32m3.1/3.1 MB\u001b[0m \u001b[31m24.3 MB/s\u001b[0m eta \u001b[36m0:00:00\u001b[0m\n",
            "\u001b[?25hRequirement already satisfied: lxml>=4.3.0 in /usr/local/lib/python3.9/dist-packages (from scrapy) (4.9.2)\n",
            "Collecting itemadapter>=0.1.0\n",
            "  Downloading itemadapter-0.8.0-py3-none-any.whl (11 kB)\n",
            "Requirement already satisfied: cryptography>=3.4.6 in /usr/local/lib/python3.9/dist-packages (from scrapy) (40.0.1)\n",
            "Requirement already satisfied: cffi>=1.12 in /usr/local/lib/python3.9/dist-packages (from cryptography>=3.4.6->scrapy) (1.15.1)\n",
            "Collecting jmespath>=0.9.5\n",
            "  Downloading jmespath-1.0.1-py3-none-any.whl (20 kB)\n",
            "Requirement already satisfied: six in /usr/local/lib/python3.9/dist-packages (from protego>=0.1.15->scrapy) (1.16.0)\n",
            "Requirement already satisfied: pyasn1 in /usr/local/lib/python3.9/dist-packages (from service-identity>=18.1.0->scrapy) (0.4.8)\n",
            "Requirement already satisfied: attrs>=19.1.0 in /usr/local/lib/python3.9/dist-packages (from service-identity>=18.1.0->scrapy) (22.2.0)\n",
            "Requirement already satisfied: pyasn1-modules in /usr/local/lib/python3.9/dist-packages (from service-identity>=18.1.0->scrapy) (0.2.8)\n",
            "Requirement already satisfied: typing-extensions>=3.6.5 in /usr/local/lib/python3.9/dist-packages (from Twisted>=18.9.0->scrapy) (4.5.0)\n",
            "Collecting incremental>=21.3.0\n",
            "  Downloading incremental-22.10.0-py2.py3-none-any.whl (16 kB)\n",
            "Collecting hyperlink>=17.1.1\n",
            "  Downloading hyperlink-21.0.0-py2.py3-none-any.whl (74 kB)\n",
            "\u001b[2K     \u001b[90m━━━━━━━━━━━━━━━━━━━━━━━━━━━━━━━━━━━━━━━━\u001b[0m \u001b[32m74.6/74.6 kB\u001b[0m \u001b[31m5.4 MB/s\u001b[0m eta \u001b[36m0:00:00\u001b[0m\n",
            "\u001b[?25hCollecting Automat>=0.8.0\n",
            "  Downloading Automat-22.10.0-py2.py3-none-any.whl (26 kB)\n",
            "Collecting constantly>=15.1\n",
            "  Downloading constantly-15.1.0-py2.py3-none-any.whl (7.9 kB)\n",
            "Collecting requests-file>=1.4\n",
            "  Downloading requests_file-1.5.1-py2.py3-none-any.whl (3.7 kB)\n",
            "Requirement already satisfied: filelock>=3.0.8 in /usr/local/lib/python3.9/dist-packages (from tldextract->scrapy) (3.10.7)\n",
            "Requirement already satisfied: requests>=2.1.0 in /usr/local/lib/python3.9/dist-packages (from tldextract->scrapy) (2.27.1)\n",
            "Requirement already satisfied: idna in /usr/local/lib/python3.9/dist-packages (from tldextract->scrapy) (3.4)\n",
            "Requirement already satisfied: pycparser in /usr/local/lib/python3.9/dist-packages (from cffi>=1.12->cryptography>=3.4.6->scrapy) (2.21)\n",
            "Requirement already satisfied: urllib3<1.27,>=1.21.1 in /usr/local/lib/python3.9/dist-packages (from requests>=2.1.0->tldextract->scrapy) (1.26.15)\n",
            "Requirement already satisfied: certifi>=2017.4.17 in /usr/local/lib/python3.9/dist-packages (from requests>=2.1.0->tldextract->scrapy) (2022.12.7)\n",
            "Requirement already satisfied: charset-normalizer~=2.0.0 in /usr/local/lib/python3.9/dist-packages (from requests>=2.1.0->tldextract->scrapy) (2.0.12)\n",
            "Installing collected packages: PyDispatcher, incremental, constantly, zope.interface, w3lib, queuelib, protego, jmespath, itemadapter, hyperlink, cssselect, Automat, Twisted, requests-file, parsel, tldextract, service-identity, pyOpenSSL, itemloaders, scrapy\n",
            "Successfully installed Automat-22.10.0 PyDispatcher-2.0.7 Twisted-22.10.0 constantly-15.1.0 cssselect-1.2.0 hyperlink-21.0.0 incremental-22.10.0 itemadapter-0.8.0 itemloaders-1.0.6 jmespath-1.0.1 parsel-1.7.0 protego-0.2.1 pyOpenSSL-23.1.1 queuelib-1.6.2 requests-file-1.5.1 scrapy-2.8.0 service-identity-21.1.0 tldextract-3.4.0 w3lib-2.1.1 zope.interface-6.0\n",
            "Looking in indexes: https://pypi.org/simple, https://us-python.pkg.dev/colab-wheels/public/simple/\n",
            "Collecting scrapy-user-agents\n",
            "  Downloading scrapy_user_agents-0.1.1-py2.py3-none-any.whl (27 kB)\n",
            "Collecting user-agents\n",
            "  Downloading user_agents-2.2.0-py3-none-any.whl (9.6 kB)\n",
            "Collecting ua-parser>=0.10.0\n",
            "  Downloading ua_parser-0.16.1-py2.py3-none-any.whl (38 kB)\n",
            "Installing collected packages: ua-parser, user-agents, scrapy-user-agents\n",
            "Successfully installed scrapy-user-agents-0.1.1 ua-parser-0.16.1 user-agents-2.2.0\n",
            "Looking in indexes: https://pypi.org/simple, https://us-python.pkg.dev/colab-wheels/public/simple/\n",
            "Collecting scrapy-rotating-proxies\n",
            "  Downloading scrapy_rotating_proxies-0.6.2-py2.py3-none-any.whl (15 kB)\n",
            "Collecting typing\n",
            "  Downloading typing-3.7.4.3.tar.gz (78 kB)\n",
            "\u001b[2K     \u001b[90m━━━━━━━━━━━━━━━━━━━━━━━━━━━━━━━━━━━━━━━━\u001b[0m \u001b[32m78.6/78.6 kB\u001b[0m \u001b[31m3.2 MB/s\u001b[0m eta \u001b[36m0:00:00\u001b[0m\n",
            "\u001b[?25h  Preparing metadata (setup.py) ... \u001b[?25l\u001b[?25hdone\n",
            "Requirement already satisfied: attrs>16.0.0 in /usr/local/lib/python3.9/dist-packages (from scrapy-rotating-proxies) (22.2.0)\n",
            "Requirement already satisfied: six in /usr/local/lib/python3.9/dist-packages (from scrapy-rotating-proxies) (1.16.0)\n",
            "Building wheels for collected packages: typing\n",
            "  Building wheel for typing (setup.py) ... \u001b[?25l\u001b[?25hdone\n",
            "  Created wheel for typing: filename=typing-3.7.4.3-py3-none-any.whl size=26321 sha256=e3d253bb96866a21e7f6857bd8d49f49dd95c27c17ea9126c244bcc8012c6d9c\n",
            "  Stored in directory: /root/.cache/pip/wheels/fa/17/1f/332799f975d1b2d7f9b3f33bbccf65031e794717d24432caee\n",
            "Successfully built typing\n",
            "Installing collected packages: typing, scrapy-rotating-proxies\n",
            "Successfully installed scrapy-rotating-proxies-0.6.2 typing-3.7.4.3\n"
          ]
        },
        {
          "output_type": "display_data",
          "data": {
            "application/vnd.colab-display-data+json": {
              "pip_warning": {
                "packages": [
                  "typing"
                ]
              }
            }
          },
          "metadata": {}
        }
      ]
    },
    {
      "cell_type": "code",
      "source": [
        "!scrapy startproject mynuproject\n"
      ],
      "metadata": {
        "colab": {
          "base_uri": "https://localhost:8080/"
        },
        "id": "PKBIh3YUHkN4",
        "outputId": "207a501a-c01e-4827-e586-bfdb3fb6ab77"
      },
      "execution_count": 17,
      "outputs": [
        {
          "output_type": "stream",
          "name": "stdout",
          "text": [
            "New Scrapy project 'mynuproject', using template directory '/usr/local/lib/python3.9/dist-packages/scrapy/templates/project', created in:\n",
            "    /content/mynuproject\n",
            "\n",
            "You can start your first spider with:\n",
            "    cd mynuproject\n",
            "    scrapy genspider example example.com\n"
          ]
        }
      ]
    },
    {
      "cell_type": "code",
      "source": [
        "!cd mynuproject && scrapy genspider myspider example.com\n"
      ],
      "metadata": {
        "colab": {
          "base_uri": "https://localhost:8080/"
        },
        "id": "NcPvUduvHtZb",
        "outputId": "e0fa207c-9293-43fa-87f7-90e076dfabc5"
      },
      "execution_count": 18,
      "outputs": [
        {
          "output_type": "stream",
          "name": "stdout",
          "text": [
            "Created spider 'myspider' using template 'basic' in module:\n",
            "  mynuproject.spiders.myspider\n"
          ]
        }
      ]
    },
    {
      "cell_type": "markdown",
      "source": [
        "The next cell defines a spider using Scrapy, a web scraping framework, to extract data from a Wikipedia page and store it in a Pandas DataFrame.\n",
        "\n",
        "The spider is named MySpider and has a start_urls attribute containing a single URL. When the spider is run, Scrapy sends a request to the URL and the response is passed to the parse() method.\n",
        "\n",
        "The parse() method extracts data from a table on the page using CSS selectors. First, it selects the table element using response.css('table'). Then, it extracts the column headers by selecting all th elements within the table and extracting their text using table.css('th::text').getall(). Next, it selects all the rows within the table body using table.css('tbody tr'). For each row, it extracts the cell values by selecting all td elements within the row and extracting their text using row.css('td::text').getall().\n",
        "\n",
        "The row data is stored in a list called table_data, and once all rows have been processed, pd.DataFrame() is called with table_data and headers as arguments to create a Pandas DataFrame. The resulting DataFrame is stored in a variable called df. However, the code as shown does not include a statement to display the resulting DataFrame."
      ],
      "metadata": {
        "id": "oJfC93Gl1s9m"
      }
    },
    {
      "cell_type": "code",
      "source": [
        "import scrapy\n",
        "import pandas as pd\n",
        "\n",
        "class MySpider(scrapy.Spider):\n",
        "    name = 'myspider'\n",
        "    start_urls = ['https://en.wikipedia.org/wiki/List_of_Academy_Award-winning_films']\n",
        "\n",
        "    def parse(self, response):\n",
        "        table = response.css('table')\n",
        "        headers = table.css('th::text').getall()\n",
        "        rows = table.css('tbody tr')\n",
        "        \n",
        "        # Create a list to store the table data\n",
        "        table_data = []\n",
        "        \n",
        "        for row in rows:\n",
        "            data = row.css('td::text').getall()\n",
        "            \n",
        "            # Append the row data to the table data list\n",
        "            table_data.append(data)\n",
        "            \n",
        "        # Convert the table data list to a DataFrame\n",
        "        df = pd.DataFrame(table_data, columns=headers)\n",
        "        \n",
        "        # Show the DataFrame\n",
        "df\n"
      ],
      "metadata": {
        "colab": {
          "base_uri": "https://localhost:8080/",
          "height": 424
        },
        "id": "f5az4iHqHxTU",
        "outputId": "3be41a83-ce01-44a0-fca0-5b54a90eded0"
      },
      "execution_count": 19,
      "outputs": [
        {
          "output_type": "execute_result",
          "data": {
            "text/plain": [
              "                                                   Film  Year Awards  \\\n",
              "0                     Everything Everywhere All at Once  2022      7   \n",
              "1                        All Quiet on the Western Front  2022      4   \n",
              "2                                             The Whale  2022      2   \n",
              "3                                     Top Gun: Maverick  2022      1   \n",
              "4                        Black Panther: Wakanda Forever  2022      1   \n",
              "...                                                 ...   ...    ...   \n",
              "1355                            The Yankee Doodle Mouse  1943      1   \n",
              "1356                                       The Yearling  1946      2   \n",
              "1357  Yesterday, Today and Tomorrow (Ieri, oggi, dom...  1964      1   \n",
              "1358                         You Can't Take It with You  1938      2   \n",
              "1359                    Zorba the Greek (Alexis Zorbas)  1964      3   \n",
              "\n",
              "     Nominations  \n",
              "0             11  \n",
              "1              9  \n",
              "2              3  \n",
              "3              6  \n",
              "4              5  \n",
              "...          ...  \n",
              "1355           1  \n",
              "1356           7  \n",
              "1357           1  \n",
              "1358           7  \n",
              "1359           7  \n",
              "\n",
              "[1360 rows x 4 columns]"
            ],
            "text/html": [
              "\n",
              "  <div id=\"df-ca81fd4a-8ef9-46b1-9a33-7ab43d4522fc\">\n",
              "    <div class=\"colab-df-container\">\n",
              "      <div>\n",
              "<style scoped>\n",
              "    .dataframe tbody tr th:only-of-type {\n",
              "        vertical-align: middle;\n",
              "    }\n",
              "\n",
              "    .dataframe tbody tr th {\n",
              "        vertical-align: top;\n",
              "    }\n",
              "\n",
              "    .dataframe thead th {\n",
              "        text-align: right;\n",
              "    }\n",
              "</style>\n",
              "<table border=\"1\" class=\"dataframe\">\n",
              "  <thead>\n",
              "    <tr style=\"text-align: right;\">\n",
              "      <th></th>\n",
              "      <th>Film</th>\n",
              "      <th>Year</th>\n",
              "      <th>Awards</th>\n",
              "      <th>Nominations</th>\n",
              "    </tr>\n",
              "  </thead>\n",
              "  <tbody>\n",
              "    <tr>\n",
              "      <th>0</th>\n",
              "      <td>Everything Everywhere All at Once</td>\n",
              "      <td>2022</td>\n",
              "      <td>7</td>\n",
              "      <td>11</td>\n",
              "    </tr>\n",
              "    <tr>\n",
              "      <th>1</th>\n",
              "      <td>All Quiet on the Western Front</td>\n",
              "      <td>2022</td>\n",
              "      <td>4</td>\n",
              "      <td>9</td>\n",
              "    </tr>\n",
              "    <tr>\n",
              "      <th>2</th>\n",
              "      <td>The Whale</td>\n",
              "      <td>2022</td>\n",
              "      <td>2</td>\n",
              "      <td>3</td>\n",
              "    </tr>\n",
              "    <tr>\n",
              "      <th>3</th>\n",
              "      <td>Top Gun: Maverick</td>\n",
              "      <td>2022</td>\n",
              "      <td>1</td>\n",
              "      <td>6</td>\n",
              "    </tr>\n",
              "    <tr>\n",
              "      <th>4</th>\n",
              "      <td>Black Panther: Wakanda Forever</td>\n",
              "      <td>2022</td>\n",
              "      <td>1</td>\n",
              "      <td>5</td>\n",
              "    </tr>\n",
              "    <tr>\n",
              "      <th>...</th>\n",
              "      <td>...</td>\n",
              "      <td>...</td>\n",
              "      <td>...</td>\n",
              "      <td>...</td>\n",
              "    </tr>\n",
              "    <tr>\n",
              "      <th>1355</th>\n",
              "      <td>The Yankee Doodle Mouse</td>\n",
              "      <td>1943</td>\n",
              "      <td>1</td>\n",
              "      <td>1</td>\n",
              "    </tr>\n",
              "    <tr>\n",
              "      <th>1356</th>\n",
              "      <td>The Yearling</td>\n",
              "      <td>1946</td>\n",
              "      <td>2</td>\n",
              "      <td>7</td>\n",
              "    </tr>\n",
              "    <tr>\n",
              "      <th>1357</th>\n",
              "      <td>Yesterday, Today and Tomorrow (Ieri, oggi, dom...</td>\n",
              "      <td>1964</td>\n",
              "      <td>1</td>\n",
              "      <td>1</td>\n",
              "    </tr>\n",
              "    <tr>\n",
              "      <th>1358</th>\n",
              "      <td>You Can't Take It with You</td>\n",
              "      <td>1938</td>\n",
              "      <td>2</td>\n",
              "      <td>7</td>\n",
              "    </tr>\n",
              "    <tr>\n",
              "      <th>1359</th>\n",
              "      <td>Zorba the Greek (Alexis Zorbas)</td>\n",
              "      <td>1964</td>\n",
              "      <td>3</td>\n",
              "      <td>7</td>\n",
              "    </tr>\n",
              "  </tbody>\n",
              "</table>\n",
              "<p>1360 rows × 4 columns</p>\n",
              "</div>\n",
              "      <button class=\"colab-df-convert\" onclick=\"convertToInteractive('df-ca81fd4a-8ef9-46b1-9a33-7ab43d4522fc')\"\n",
              "              title=\"Convert this dataframe to an interactive table.\"\n",
              "              style=\"display:none;\">\n",
              "        \n",
              "  <svg xmlns=\"http://www.w3.org/2000/svg\" height=\"24px\"viewBox=\"0 0 24 24\"\n",
              "       width=\"24px\">\n",
              "    <path d=\"M0 0h24v24H0V0z\" fill=\"none\"/>\n",
              "    <path d=\"M18.56 5.44l.94 2.06.94-2.06 2.06-.94-2.06-.94-.94-2.06-.94 2.06-2.06.94zm-11 1L8.5 8.5l.94-2.06 2.06-.94-2.06-.94L8.5 2.5l-.94 2.06-2.06.94zm10 10l.94 2.06.94-2.06 2.06-.94-2.06-.94-.94-2.06-.94 2.06-2.06.94z\"/><path d=\"M17.41 7.96l-1.37-1.37c-.4-.4-.92-.59-1.43-.59-.52 0-1.04.2-1.43.59L10.3 9.45l-7.72 7.72c-.78.78-.78 2.05 0 2.83L4 21.41c.39.39.9.59 1.41.59.51 0 1.02-.2 1.41-.59l7.78-7.78 2.81-2.81c.8-.78.8-2.07 0-2.86zM5.41 20L4 18.59l7.72-7.72 1.47 1.35L5.41 20z\"/>\n",
              "  </svg>\n",
              "      </button>\n",
              "      \n",
              "  <style>\n",
              "    .colab-df-container {\n",
              "      display:flex;\n",
              "      flex-wrap:wrap;\n",
              "      gap: 12px;\n",
              "    }\n",
              "\n",
              "    .colab-df-convert {\n",
              "      background-color: #E8F0FE;\n",
              "      border: none;\n",
              "      border-radius: 50%;\n",
              "      cursor: pointer;\n",
              "      display: none;\n",
              "      fill: #1967D2;\n",
              "      height: 32px;\n",
              "      padding: 0 0 0 0;\n",
              "      width: 32px;\n",
              "    }\n",
              "\n",
              "    .colab-df-convert:hover {\n",
              "      background-color: #E2EBFA;\n",
              "      box-shadow: 0px 1px 2px rgba(60, 64, 67, 0.3), 0px 1px 3px 1px rgba(60, 64, 67, 0.15);\n",
              "      fill: #174EA6;\n",
              "    }\n",
              "\n",
              "    [theme=dark] .colab-df-convert {\n",
              "      background-color: #3B4455;\n",
              "      fill: #D2E3FC;\n",
              "    }\n",
              "\n",
              "    [theme=dark] .colab-df-convert:hover {\n",
              "      background-color: #434B5C;\n",
              "      box-shadow: 0px 1px 3px 1px rgba(0, 0, 0, 0.15);\n",
              "      filter: drop-shadow(0px 1px 2px rgba(0, 0, 0, 0.3));\n",
              "      fill: #FFFFFF;\n",
              "    }\n",
              "  </style>\n",
              "\n",
              "      <script>\n",
              "        const buttonEl =\n",
              "          document.querySelector('#df-ca81fd4a-8ef9-46b1-9a33-7ab43d4522fc button.colab-df-convert');\n",
              "        buttonEl.style.display =\n",
              "          google.colab.kernel.accessAllowed ? 'block' : 'none';\n",
              "\n",
              "        async function convertToInteractive(key) {\n",
              "          const element = document.querySelector('#df-ca81fd4a-8ef9-46b1-9a33-7ab43d4522fc');\n",
              "          const dataTable =\n",
              "            await google.colab.kernel.invokeFunction('convertToInteractive',\n",
              "                                                     [key], {});\n",
              "          if (!dataTable) return;\n",
              "\n",
              "          const docLinkHtml = 'Like what you see? Visit the ' +\n",
              "            '<a target=\"_blank\" href=https://colab.research.google.com/notebooks/data_table.ipynb>data table notebook</a>'\n",
              "            + ' to learn more about interactive tables.';\n",
              "          element.innerHTML = '';\n",
              "          dataTable['output_type'] = 'display_data';\n",
              "          await google.colab.output.renderOutput(dataTable, element);\n",
              "          const docLink = document.createElement('div');\n",
              "          docLink.innerHTML = docLinkHtml;\n",
              "          element.appendChild(docLink);\n",
              "        }\n",
              "      </script>\n",
              "    </div>\n",
              "  </div>\n",
              "  "
            ]
          },
          "metadata": {},
          "execution_count": 19
        }
      ]
    }
  ],
  "metadata": {
    "colab": {
      "provenance": [],
      "mount_file_id": "1Vyj8BYm1mj9Cj6w3veMQG1Ec51YgcrDG",
      "authorship_tag": "ABX9TyNB1bbylvUwDRwL81UE+8wz",
      "include_colab_link": true
    },
    "kernelspec": {
      "display_name": "Python 3",
      "name": "python3"
    },
    "language_info": {
      "name": "python"
    },
    "gpuClass": "standard"
  },
  "nbformat": 4,
  "nbformat_minor": 0
}