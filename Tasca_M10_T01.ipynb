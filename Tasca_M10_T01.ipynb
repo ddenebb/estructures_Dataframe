{
  "cells": [
    {
      "cell_type": "markdown",
      "metadata": {
        "id": "view-in-github",
        "colab_type": "text"
      },
      "source": [
        "<a href=\"https://colab.research.google.com/github/ddenebb/estructures_Dataframe/blob/Easter-week/Tasca_M10_T01.ipynb\" target=\"_parent\"><img src=\"https://colab.research.google.com/assets/colab-badge.svg\" alt=\"Open In Colab\"/></a>"
      ]
    },
    {
      "cell_type": "markdown",
      "metadata": {
        "id": "Im8fYmJH9bL_"
      },
      "source": [
        "# Exercise 1\n",
        "\n",
        "Perform web scraping of two of the three proposed web pages using BeautifulSoup first and Selenium afterwards.\n",
        "\n",
        "- http://quotes.toscrape.com\n",
        "\n",
        "- https://www.bolsamadrid.es\n",
        "\n",
        "- www.wikipedia.es (do a search first and scrape some content)"
      ]
    },
    {
      "cell_type": "markdown",
      "metadata": {
        "id": "WiJ0ZV4U8eqo"
      },
      "source": [
        "Before performing web scraping on any website, it's important to determine whether it is legal and ethical to do so. Here are a few steps that can be taken to determine if web scraping a particular website is allowed:\n",
        "\n",
        "- Check the website's terms of service or robots.txt file: The terms of service or robots.txt file on the website may explicitly prohibit web scraping or provide guidelines for how web scraping can be performed on the site. It's important to read and understand these guidelines before performing any web scraping.\n",
        "\n",
        "- Check for any applicable laws or regulations: In some cases, web scraping may be illegal under certain laws or regulations. For example, the General Data Protection Regulation (GDPR) in the European Union provides guidelines for how personal data can be collected and processed.\n",
        "\n",
        "- Determine the purpose and scope of the web scraping: If the web scraping is for personal or non-commercial use, it may be more likely to be considered legal and ethical than if it is for commercial or competitive purposes. It's also important to consider the scope of the web scraping, including the frequency and volume of requests and the impact on the website's servers.\n",
        "\n",
        "- Obtain permission from the website owner: If in doubt, it's always a good idea to contact the website owner and ask for permission before performing any web scraping. This can help ensure that the web scraping is legal and ethical and can also help establish a positive relationship with the website owner."
      ]
    },
    {
      "cell_type": "markdown",
      "metadata": {
        "id": "IlksL3R6-A4P"
      },
      "source": [
        "As this is an exercise and will not be used for commercial purposes, we´ll assume that scraping won't be a problem.\n",
        "The website is specifically designed for learning and testing web scraping techniques and does not have any restrictions or prohibitions against web scraping. Additionally, the website provides a robots.txt file that allows web crawling of all pages.\n",
        "However, it's always a good idea to be respectful and responsible when performing web scraping, even on a website that is designed for this purpose. This includes avoiding excessive scraping that could negatively impact the website's servers and being mindful of any potential ethical considerations related to the data being scraped.\n",
        "\n",
        "We will send a request to the website, get its content, and parse it using BeautifulSoup. We will then find all the quote tags on the page and loop through each quote, extracting the text and author information and printing it to the console."
      ]
    },
    {
      "cell_type": "code",
      "execution_count": 1,
      "metadata": {
        "colab": {
          "base_uri": "https://localhost:8080/"
        },
        "id": "YxC8Ode4-naB",
        "outputId": "0b3e5f57-590f-419d-b9dd-858259bce9e6"
      },
      "outputs": [
        {
          "output_type": "stream",
          "name": "stdout",
          "text": [
            "Albert Einstein: \"“The world as we have created it is a process of our thinking. It cannot be changed without changing our thinking.”\"\n",
            "J.K. Rowling: \"“It is our choices, Harry, that show what we truly are, far more than our abilities.”\"\n",
            "Albert Einstein: \"“There are only two ways to live your life. One is as though nothing is a miracle. The other is as though everything is a miracle.”\"\n",
            "Jane Austen: \"“The person, be it gentleman or lady, who has not pleasure in a good novel, must be intolerably stupid.”\"\n",
            "Marilyn Monroe: \"“Imperfection is beauty, madness is genius and it's better to be absolutely ridiculous than absolutely boring.”\"\n",
            "Albert Einstein: \"“Try not to become a man of success. Rather become a man of value.”\"\n",
            "André Gide: \"“It is better to be hated for what you are than to be loved for what you are not.”\"\n",
            "Thomas A. Edison: \"“I have not failed. I've just found 10,000 ways that won't work.”\"\n",
            "Eleanor Roosevelt: \"“A woman is like a tea bag; you never know how strong it is until it's in hot water.”\"\n",
            "Steve Martin: \"“A day without sunshine is like, you know, night.”\"\n"
          ]
        }
      ],
      "source": [
        "import requests\n",
        "from bs4 import BeautifulSoup\n",
        "\n",
        "# send a request to the website and get its content\n",
        "response = requests.get('http://quotes.toscrape.com/')\n",
        "content = response.content\n",
        "\n",
        "# parse the HTML content using BeautifulSoup\n",
        "soup = BeautifulSoup(content, 'html.parser')\n",
        "\n",
        "# find all the quote tags on the page\n",
        "quote_tags = soup.find_all('div', {'class': 'quote'})\n",
        "\n",
        "# loop through each quote and extract the text and author\n",
        "for quote in quote_tags:\n",
        "    text = quote.find('span', {'class': 'text'}).text\n",
        "    author = quote.find('small', {'class': 'author'}).text\n",
        "    print(f'{author}: \"{text}\"')\n"
      ]
    },
    {
      "cell_type": "markdown",
      "metadata": {
        "id": "LJqr5I4SBLvL"
      },
      "source": [
        "We now will do the scraping using Selenium. We first install and import the libraries needed webdriver module from Selenium, and specify the path to the Chrome driver executable. We then initialize a Chrome driver and navigate to the website using the get method. We get the page source using the page_source property of the driver object and parse it using BeautifulSoup. Finally, we find all the quote tags on the page, loop through them, and extract the text and author using the same methods as in the previous example. We then close the driver using the quit method."
      ]
    },
    {
      "cell_type": "code",
      "execution_count": 2,
      "metadata": {
        "colab": {
          "base_uri": "https://localhost:8080/"
        },
        "id": "SisT8tnRVaqw",
        "outputId": "ee41fdb7-e3a1-4467-bdd8-d29998b5646c"
      },
      "outputs": [
        {
          "output_type": "stream",
          "name": "stdout",
          "text": [
            "--2023-04-08 20:41:15--  https://dl.google.com/linux/direct/google-chrome-stable_current_amd64.deb\n",
            "Resolving dl.google.com (dl.google.com)... 172.253.63.136, 172.253.63.190, 172.253.63.93, ...\n",
            "Connecting to dl.google.com (dl.google.com)|172.253.63.136|:443... connected.\n",
            "HTTP request sent, awaiting response... 200 OK\n",
            "Length: 93762720 (89M) [application/x-debian-package]\n",
            "Saving to: ‘google-chrome-stable_current_amd64.deb.2’\n",
            "\n",
            "google-chrome-stabl 100%[===================>]  89.42M   295MB/s    in 0.3s    \n",
            "\n",
            "2023-04-08 20:41:15 (295 MB/s) - ‘google-chrome-stable_current_amd64.deb.2’ saved [93762720/93762720]\n",
            "\n",
            "(Reading database ... 122582 files and directories currently installed.)\n",
            "Preparing to unpack google-chrome-stable_current_amd64.deb ...\n",
            "Unpacking google-chrome-stable (112.0.5615.49-1) over (112.0.5615.49-1) ...\n",
            "Setting up google-chrome-stable (112.0.5615.49-1) ...\n",
            "Processing triggers for mime-support (3.64ubuntu1) ...\n",
            "Processing triggers for man-db (2.9.1-1) ...\n",
            "Reading package lists... Done\n",
            "Building dependency tree       \n",
            "Reading state information... Done\n",
            "0 upgraded, 0 newly installed, 0 to remove and 23 not upgraded.\n"
          ]
        }
      ],
      "source": [
        "!wget https://dl.google.com/linux/direct/google-chrome-stable_current_amd64.deb\n",
        "!dpkg -i google-chrome-stable_current_amd64.deb\n",
        "!apt-get -f install -y\n"
      ]
    },
    {
      "cell_type": "code",
      "execution_count": 3,
      "metadata": {
        "colab": {
          "base_uri": "https://localhost:8080/"
        },
        "id": "kQ6LizDrVjvT",
        "outputId": "08cea880-7f17-4927-dd11-04ee07d2b0e6"
      },
      "outputs": [
        {
          "output_type": "stream",
          "name": "stdout",
          "text": [
            "[7181:7181:0408/204133.875243:ERROR:zygote_host_impl_linux.cc(100)] Running as root without --no-sandbox is not supported. See https://crbug.com/638180.\n"
          ]
        }
      ],
      "source": [
        "!google-chrome-stable\n"
      ]
    },
    {
      "cell_type": "code",
      "execution_count": 4,
      "metadata": {
        "colab": {
          "base_uri": "https://localhost:8080/"
        },
        "id": "Gr2gJvsMqNY_",
        "outputId": "c4cce210-0e9d-479f-a1c9-6678a51816ec"
      },
      "outputs": [
        {
          "output_type": "stream",
          "name": "stdout",
          "text": [
            "Drive already mounted at /content/drive; to attempt to forcibly remount, call drive.mount(\"/content/drive\", force_remount=True).\n"
          ]
        }
      ],
      "source": [
        "from google.colab import drive\n",
        "drive.mount('/content/drive')\n",
        "#docs_dir = '/content/gdrive/My Drive/Docs'"
      ]
    },
    {
      "cell_type": "code",
      "execution_count": 5,
      "metadata": {
        "colab": {
          "base_uri": "https://localhost:8080/"
        },
        "id": "V-D6MvTAZVG7",
        "outputId": "dcac2329-0716-4730-d9a4-e86947289d56"
      },
      "outputs": [
        {
          "output_type": "stream",
          "name": "stdout",
          "text": [
            "Google Chrome 112.0.5615.49 \n"
          ]
        }
      ],
      "source": [
        "!google-chrome --version"
      ]
    },
    {
      "cell_type": "code",
      "execution_count": 6,
      "metadata": {
        "id": "LjER75pz1hAE"
      },
      "outputs": [],
      "source": [
        "!cp \"/content/drive/MyDrive/Google Colab DS IT Academy/Sprint 10/Data/chromedriver\" /usr/bin/"
      ]
    },
    {
      "cell_type": "code",
      "execution_count": 7,
      "metadata": {
        "id": "2YhUoOK52HvX"
      },
      "outputs": [],
      "source": [
        "!sudo chmod +x /usr/bin/chromedriver\n"
      ]
    },
    {
      "cell_type": "code",
      "execution_count": 8,
      "metadata": {
        "colab": {
          "base_uri": "https://localhost:8080/"
        },
        "id": "EZVD30ZSZiSC",
        "outputId": "c1ba6572-fccd-4ef8-9002-48c715b71201"
      },
      "outputs": [
        {
          "output_type": "stream",
          "name": "stdout",
          "text": [
            "ChromeDriver 111.0.5563.64 (c710e93d5b63b7095afe8c2c17df34408078439d-refs/branch-heads/5563@{#995})\n"
          ]
        }
      ],
      "source": [
        "!chromedriver --version"
      ]
    },
    {
      "cell_type": "code",
      "execution_count": 9,
      "metadata": {
        "colab": {
          "base_uri": "https://localhost:8080/"
        },
        "id": "TY-tmsAySe0f",
        "outputId": "c33f8bcf-6c90-4a59-d11c-1657ae46110a"
      },
      "outputs": [
        {
          "output_type": "stream",
          "name": "stdout",
          "text": [
            "Looking in indexes: https://pypi.org/simple, https://us-python.pkg.dev/colab-wheels/public/simple/\n",
            "Requirement already satisfied: selenium in /usr/local/lib/python3.9/dist-packages (4.8.3)\n",
            "Requirement already satisfied: certifi>=2021.10.8 in /usr/local/lib/python3.9/dist-packages (from selenium) (2022.12.7)\n",
            "Requirement already satisfied: urllib3[socks]~=1.26 in /usr/local/lib/python3.9/dist-packages (from selenium) (1.26.15)\n",
            "Requirement already satisfied: trio~=0.17 in /usr/local/lib/python3.9/dist-packages (from selenium) (0.22.0)\n",
            "Requirement already satisfied: trio-websocket~=0.9 in /usr/local/lib/python3.9/dist-packages (from selenium) (0.10.2)\n",
            "Requirement already satisfied: async-generator>=1.9 in /usr/local/lib/python3.9/dist-packages (from trio~=0.17->selenium) (1.10)\n",
            "Requirement already satisfied: outcome in /usr/local/lib/python3.9/dist-packages (from trio~=0.17->selenium) (1.2.0)\n",
            "Requirement already satisfied: exceptiongroup>=1.0.0rc9 in /usr/local/lib/python3.9/dist-packages (from trio~=0.17->selenium) (1.1.1)\n",
            "Requirement already satisfied: idna in /usr/local/lib/python3.9/dist-packages (from trio~=0.17->selenium) (3.4)\n",
            "Requirement already satisfied: attrs>=19.2.0 in /usr/local/lib/python3.9/dist-packages (from trio~=0.17->selenium) (22.2.0)\n",
            "Requirement already satisfied: sortedcontainers in /usr/local/lib/python3.9/dist-packages (from trio~=0.17->selenium) (2.4.0)\n",
            "Requirement already satisfied: sniffio in /usr/local/lib/python3.9/dist-packages (from trio~=0.17->selenium) (1.3.0)\n",
            "Requirement already satisfied: wsproto>=0.14 in /usr/local/lib/python3.9/dist-packages (from trio-websocket~=0.9->selenium) (1.2.0)\n",
            "Requirement already satisfied: PySocks!=1.5.7,<2.0,>=1.5.6 in /usr/local/lib/python3.9/dist-packages (from urllib3[socks]~=1.26->selenium) (1.7.1)\n",
            "Requirement already satisfied: h11<1,>=0.9.0 in /usr/local/lib/python3.9/dist-packages (from wsproto>=0.14->trio-websocket~=0.9->selenium) (0.14.0)\n"
          ]
        }
      ],
      "source": [
        "!pip install selenium\n"
      ]
    },
    {
      "cell_type": "markdown",
      "metadata": {
        "id": "-5yOGLFbCILm"
      },
      "source": [
        "It's important to note that using Selenium can be slower and more resource-intensive than using Beautiful Soup, as it involves opening a full browser window and loading the page. However, it can be useful in cases where the website requires user interaction, such as filling out forms or clicking buttons, as Selenium can simulate user actions."
      ]
    },
    {
      "cell_type": "code",
      "execution_count": 10,
      "metadata": {
        "colab": {
          "base_uri": "https://localhost:8080/"
        },
        "id": "renZJLtxbqwH",
        "outputId": "79cfab72-cd12-492f-ee45-d62705a1d383"
      },
      "outputs": [
        {
          "output_type": "stream",
          "name": "stderr",
          "text": [
            "<ipython-input-10-85c35e47d838>:15: DeprecationWarning: executable_path has been deprecated, please pass in a Service object\n",
            "  driver = webdriver.Chrome(chromedriver_path, options=options)\n"
          ]
        },
        {
          "output_type": "stream",
          "name": "stdout",
          "text": [
            "Albert Einstein: \"“The world as we have created it is a process of our thinking. It cannot be changed without changing our thinking.”\"\n",
            "J.K. Rowling: \"“It is our choices, Harry, that show what we truly are, far more than our abilities.”\"\n",
            "Albert Einstein: \"“There are only two ways to live your life. One is as though nothing is a miracle. The other is as though everything is a miracle.”\"\n",
            "Jane Austen: \"“The person, be it gentleman or lady, who has not pleasure in a good novel, must be intolerably stupid.”\"\n",
            "Marilyn Monroe: \"“Imperfection is beauty, madness is genius and it's better to be absolutely ridiculous than absolutely boring.”\"\n",
            "Albert Einstein: \"“Try not to become a man of success. Rather become a man of value.”\"\n",
            "André Gide: \"“It is better to be hated for what you are than to be loved for what you are not.”\"\n",
            "Thomas A. Edison: \"“I have not failed. I've just found 10,000 ways that won't work.”\"\n",
            "Eleanor Roosevelt: \"“A woman is like a tea bag; you never know how strong it is until it's in hot water.”\"\n",
            "Steve Martin: \"“A day without sunshine is like, you know, night.”\"\n"
          ]
        }
      ],
      "source": [
        "from selenium import webdriver\n",
        "from selenium.webdriver.common.by import By\n",
        "from selenium.webdriver.support.ui import WebDriverWait\n",
        "from selenium.webdriver.support import expected_conditions as EC\n",
        "\n",
        "options = webdriver.ChromeOptions()\n",
        "options.add_argument('--headless')\n",
        "options.add_argument('--disable-dev-shm-usage')\n",
        "options.add_argument('--no-sandbox')\n",
        "\n",
        "# Point to the location of your chromedriver\n",
        "chromedriver_path = '/usr/bin/chromedriver'\n",
        "\n",
        "# Initialize the driver\n",
        "driver = webdriver.Chrome(chromedriver_path, options=options)\n",
        "\n",
        "# Wait for the page to load and get the content\n",
        "wait = WebDriverWait(driver, 10)\n",
        "driver.get('http://quotes.toscrape.com/')\n",
        "wait.until(EC.presence_of_element_located((By.CSS_SELECTOR, '.quote')))\n",
        "\n",
        "# get the page source and parse it using BeautifulSoup\n",
        "content = driver.page_source\n",
        "soup = BeautifulSoup(content, 'html.parser')\n",
        "\n",
        "# find all the quote tags on the page\n",
        "quote_tags = soup.find_all('div', {'class': 'quote'})\n",
        "\n",
        "# loop through each quote and extract the text and author\n",
        "for quote in quote_tags:\n",
        "    text = quote.find('span', {'class': 'text'}).text\n",
        "    author = quote.find('small', {'class': 'author'}).text\n",
        "    print(f'{author}: \"{text}\"')\n",
        "\n",
        "# close the driver\n",
        "driver.quit()\n"
      ]
    },
    {
      "cell_type": "markdown",
      "metadata": {
        "id": "wredNRWU9bx8"
      },
      "source": [
        "# Exercise 2\n",
        "\n",
        "Document your data set generated with the information in the different Kaggle files in a Word document.\n",
        "\n",
        "To know more\n",
        "\n",
        "As an example of what is requested, you can consult this link:\n",
        "\n",
        "->https://www.kaggle.com/datasets/vivovinco/20212022-football-team-stats."
      ]
    },
    {
      "cell_type": "markdown",
      "source": [
        "Title: Famous Quotes\n",
        "\n",
        "Description: This dataset contains a collection of famous quotes from various authors.\n",
        "\n",
        "Columns:\n",
        "\n",
        "    author: The name of the author who wrote the quote. (string)\n",
        "    quote: The text of the quote. (string)\n",
        "\n",
        "Rows:\n",
        "\n",
        "The dataset contains 10 rows, each representing a famous quote from a different author.\n",
        "\n",
        "Example Rows:\n",
        "\n",
        "| author          | quote                                                                                     |\n",
        "|----------------|-------------------------------------------------------------------------------------------|\n",
        "| Albert Einstein | “The world as we have created it is a process of our thinking. It cannot be changed without changing our thinking.” |\n",
        "| J.K. Rowling    | “It is our choices, Harry, that show what we truly are, far more than our abilities.”         |\n",
        "| Jane Austen     | “The person, be it gentleman or lady, who has not pleasure in a good novel, must be intolerably stupid.” |\n",
        "| Marilyn Monroe  | “Imperfection is beauty, madness is genius and it's better to be absolutely ridiculous than absolutely boring.” |\n",
        "| André Gide      | “It is better to be hated for what you are than to be loved for what you are not.”            |\n",
        "| Thomas A. Edison| “I have not failed. I've just found 10,000 ways that won't work.”                             |\n",
        "| Eleanor Roosevelt| “A woman is like a tea bag; you never know how strong it is until it's in hot water.”        |\n",
        "| Steve Martin    | “A day without sunshine is like, you know, night.”                                          |\n",
        "\n"
      ],
      "metadata": {
        "id": "J8UdutxzsNbZ"
      }
    },
    {
      "cell_type": "code",
      "source": [
        "import pypandoc\n",
        "\n",
        "markdown_text = '''\n",
        "# Title: Famous Quotes\n",
        "\n",
        "Description: This dataset contains a collection of famous quotes from various authors.\n",
        "\n",
        "Columns:\n",
        "\n",
        "    author: The name of the author who wrote the quote. (string)\n",
        "    quote: The text of the quote. (string)\n",
        "\n",
        "Rows:\n",
        "\n",
        "The dataset contains 10 rows, each representing a famous quote from a different author.\n",
        "\n",
        "Example Rows:\n",
        "\n",
        "| author          | quote                                                                                     |\n",
        "|----------------|-------------------------------------------------------------------------------------------|\n",
        "| Albert Einstein | “The world as we have created it is a process of our thinking. It cannot be changed without changing our thinking.” |\n",
        "| J.K. Rowling    | “It is our choices, Harry, that show what we truly are, far more than our abilities.”         |\n",
        "| Jane Austen     | “The person, be it gentleman or lady, who has not pleasure in a good novel, must be intolerably stupid.” |\n",
        "| Marilyn Monroe  | “Imperfection is beauty, madness is genius and it's better to be absolutely ridiculous than absolutely boring.” |\n",
        "| André Gide      | “It is better to be hated for what you are than to be loved for what you are not.”            |\n",
        "| Thomas A. Edison| “I have not failed. I've just found 10,000 ways that won't work.”                             |\n",
        "| Eleanor Roosevelt| “A woman is like a tea bag; you never know how strong it is until it's in hot water.”        |\n",
        "| Steve Martin    | “A day without sunshine is like, you know, night.”                                          |\n",
        "'''\n",
        "\n",
        "output = pypandoc.convert_text(markdown_text, 'docx', format='md', outputfile='Famous_Quotes_info.docx')"
      ],
      "metadata": {
        "colab": {
          "base_uri": "https://localhost:8080/"
        },
        "id": "JLoNNgW2uP4U",
        "outputId": "8ed66faf-7871-4a86-de21-336f7d04e405"
      },
      "execution_count": 37,
      "outputs": [
        {
          "output_type": "stream",
          "name": "stderr",
          "text": [
            "[DEBUG] Ensuring pandoc path...\n",
            "DEBUG:pypandoc:Ensuring pandoc path...\n",
            "2023-04-08 21:25:36 [pypandoc] DEBUG: Ensuring pandoc path...\n",
            "[DEBUG] Verifying format...\n",
            "DEBUG:pypandoc:Verifying format...\n",
            "2023-04-08 21:25:37 [pypandoc] DEBUG: Verifying format...\n",
            "[DEBUG] Identifying input type...\n",
            "DEBUG:pypandoc:Identifying input type...\n",
            "2023-04-08 21:25:37 [pypandoc] DEBUG: Identifying input type...\n",
            "[DEBUG] Running pandoc...\n",
            "DEBUG:pypandoc:Running pandoc...\n",
            "2023-04-08 21:25:37 [pypandoc] DEBUG: Running pandoc...\n"
          ]
        }
      ]
    },
    {
      "cell_type": "code",
      "source": [
        "from IPython.display import HTML\n",
        "\n",
        "# Set the path to the Word document file\n",
        "file_path = '/content/Famous_Quotes_info.docx'\n",
        "\n",
        "# Create an HTML object with an iframe tag\n",
        "html = HTML('<iframe src=\"{0}\" width=700 height=500></iframe>'.format(file_path))\n",
        "\n",
        "# Display the HTML object in your notebook\n",
        "display(html)\n"
      ],
      "metadata": {
        "id": "nd58aGqaxd2S"
      },
      "execution_count": null,
      "outputs": []
    },
    {
      "cell_type": "code",
      "source": [
        "\n",
        "import pandas as pd\n",
        "# send a request to the website and get its content\n",
        "response = requests.get('http://quotes.toscrape.com/')\n",
        "content = response.content\n",
        "\n",
        "# parse the HTML content using BeautifulSoup\n",
        "soup = BeautifulSoup(content, 'html.parser')\n",
        "\n",
        "# find all the quote tags on the page\n",
        "quote_tags = soup.find_all('div', {'class': 'quote'})\n",
        "\n",
        "# create an empty list to store the quotes\n",
        "quotes = []\n",
        "\n",
        "# loop through each quote and extract the text and author\n",
        "for quote in quote_tags:\n",
        "    text = quote.find('span', {'class': 'text'}).text\n",
        "    author = quote.find('small', {'class': 'author'}).text\n",
        "    quotes.append({'Author': author, 'Quote': text})\n",
        "\n",
        "# convert the list of quotes into a dataframe\n",
        "df = pd.DataFrame(quotes)\n",
        "\n",
        "# print the dataframe\n",
        "print(df)\n",
        "df"
      ],
      "metadata": {
        "colab": {
          "base_uri": "https://localhost:8080/",
          "height": 635
        },
        "id": "k2L5HwT-q4Wi",
        "outputId": "5e6ac3f0-d983-4ce5-a151-5d7f5b8c3d58"
      },
      "execution_count": 26,
      "outputs": [
        {
          "output_type": "stream",
          "name": "stderr",
          "text": [
            "DEBUG:urllib3.connectionpool:Starting new HTTP connection (1): quotes.toscrape.com:80\n",
            "2023-04-08 21:03:21 [urllib3.connectionpool] DEBUG: Starting new HTTP connection (1): quotes.toscrape.com:80\n",
            "DEBUG:urllib3.connectionpool:http://quotes.toscrape.com:80 \"GET / HTTP/1.1\" 200 11053\n",
            "2023-04-08 21:03:21 [urllib3.connectionpool] DEBUG: http://quotes.toscrape.com:80 \"GET / HTTP/1.1\" 200 11053\n"
          ]
        },
        {
          "output_type": "stream",
          "name": "stdout",
          "text": [
            "              Author                                              Quote\n",
            "0    Albert Einstein  “The world as we have created it is a process ...\n",
            "1       J.K. Rowling  “It is our choices, Harry, that show what we t...\n",
            "2    Albert Einstein  “There are only two ways to live your life. On...\n",
            "3        Jane Austen  “The person, be it gentleman or lady, who has ...\n",
            "4     Marilyn Monroe  “Imperfection is beauty, madness is genius and...\n",
            "5    Albert Einstein  “Try not to become a man of success. Rather be...\n",
            "6         André Gide  “It is better to be hated for what you are tha...\n",
            "7   Thomas A. Edison  “I have not failed. I've just found 10,000 way...\n",
            "8  Eleanor Roosevelt  “A woman is like a tea bag; you never know how...\n",
            "9       Steve Martin  “A day without sunshine is like, you know, nig...\n"
          ]
        },
        {
          "output_type": "execute_result",
          "data": {
            "text/plain": [
              "              Author                                              Quote\n",
              "0    Albert Einstein  “The world as we have created it is a process ...\n",
              "1       J.K. Rowling  “It is our choices, Harry, that show what we t...\n",
              "2    Albert Einstein  “There are only two ways to live your life. On...\n",
              "3        Jane Austen  “The person, be it gentleman or lady, who has ...\n",
              "4     Marilyn Monroe  “Imperfection is beauty, madness is genius and...\n",
              "5    Albert Einstein  “Try not to become a man of success. Rather be...\n",
              "6         André Gide  “It is better to be hated for what you are tha...\n",
              "7   Thomas A. Edison  “I have not failed. I've just found 10,000 way...\n",
              "8  Eleanor Roosevelt  “A woman is like a tea bag; you never know how...\n",
              "9       Steve Martin  “A day without sunshine is like, you know, nig..."
            ],
            "text/html": [
              "\n",
              "  <div id=\"df-b23e49b6-9cda-4c59-aca6-154c4e4c12e3\">\n",
              "    <div class=\"colab-df-container\">\n",
              "      <div>\n",
              "<style scoped>\n",
              "    .dataframe tbody tr th:only-of-type {\n",
              "        vertical-align: middle;\n",
              "    }\n",
              "\n",
              "    .dataframe tbody tr th {\n",
              "        vertical-align: top;\n",
              "    }\n",
              "\n",
              "    .dataframe thead th {\n",
              "        text-align: right;\n",
              "    }\n",
              "</style>\n",
              "<table border=\"1\" class=\"dataframe\">\n",
              "  <thead>\n",
              "    <tr style=\"text-align: right;\">\n",
              "      <th></th>\n",
              "      <th>Author</th>\n",
              "      <th>Quote</th>\n",
              "    </tr>\n",
              "  </thead>\n",
              "  <tbody>\n",
              "    <tr>\n",
              "      <th>0</th>\n",
              "      <td>Albert Einstein</td>\n",
              "      <td>“The world as we have created it is a process ...</td>\n",
              "    </tr>\n",
              "    <tr>\n",
              "      <th>1</th>\n",
              "      <td>J.K. Rowling</td>\n",
              "      <td>“It is our choices, Harry, that show what we t...</td>\n",
              "    </tr>\n",
              "    <tr>\n",
              "      <th>2</th>\n",
              "      <td>Albert Einstein</td>\n",
              "      <td>“There are only two ways to live your life. On...</td>\n",
              "    </tr>\n",
              "    <tr>\n",
              "      <th>3</th>\n",
              "      <td>Jane Austen</td>\n",
              "      <td>“The person, be it gentleman or lady, who has ...</td>\n",
              "    </tr>\n",
              "    <tr>\n",
              "      <th>4</th>\n",
              "      <td>Marilyn Monroe</td>\n",
              "      <td>“Imperfection is beauty, madness is genius and...</td>\n",
              "    </tr>\n",
              "    <tr>\n",
              "      <th>5</th>\n",
              "      <td>Albert Einstein</td>\n",
              "      <td>“Try not to become a man of success. Rather be...</td>\n",
              "    </tr>\n",
              "    <tr>\n",
              "      <th>6</th>\n",
              "      <td>André Gide</td>\n",
              "      <td>“It is better to be hated for what you are tha...</td>\n",
              "    </tr>\n",
              "    <tr>\n",
              "      <th>7</th>\n",
              "      <td>Thomas A. Edison</td>\n",
              "      <td>“I have not failed. I've just found 10,000 way...</td>\n",
              "    </tr>\n",
              "    <tr>\n",
              "      <th>8</th>\n",
              "      <td>Eleanor Roosevelt</td>\n",
              "      <td>“A woman is like a tea bag; you never know how...</td>\n",
              "    </tr>\n",
              "    <tr>\n",
              "      <th>9</th>\n",
              "      <td>Steve Martin</td>\n",
              "      <td>“A day without sunshine is like, you know, nig...</td>\n",
              "    </tr>\n",
              "  </tbody>\n",
              "</table>\n",
              "</div>\n",
              "      <button class=\"colab-df-convert\" onclick=\"convertToInteractive('df-b23e49b6-9cda-4c59-aca6-154c4e4c12e3')\"\n",
              "              title=\"Convert this dataframe to an interactive table.\"\n",
              "              style=\"display:none;\">\n",
              "        \n",
              "  <svg xmlns=\"http://www.w3.org/2000/svg\" height=\"24px\"viewBox=\"0 0 24 24\"\n",
              "       width=\"24px\">\n",
              "    <path d=\"M0 0h24v24H0V0z\" fill=\"none\"/>\n",
              "    <path d=\"M18.56 5.44l.94 2.06.94-2.06 2.06-.94-2.06-.94-.94-2.06-.94 2.06-2.06.94zm-11 1L8.5 8.5l.94-2.06 2.06-.94-2.06-.94L8.5 2.5l-.94 2.06-2.06.94zm10 10l.94 2.06.94-2.06 2.06-.94-2.06-.94-.94-2.06-.94 2.06-2.06.94z\"/><path d=\"M17.41 7.96l-1.37-1.37c-.4-.4-.92-.59-1.43-.59-.52 0-1.04.2-1.43.59L10.3 9.45l-7.72 7.72c-.78.78-.78 2.05 0 2.83L4 21.41c.39.39.9.59 1.41.59.51 0 1.02-.2 1.41-.59l7.78-7.78 2.81-2.81c.8-.78.8-2.07 0-2.86zM5.41 20L4 18.59l7.72-7.72 1.47 1.35L5.41 20z\"/>\n",
              "  </svg>\n",
              "      </button>\n",
              "      \n",
              "  <style>\n",
              "    .colab-df-container {\n",
              "      display:flex;\n",
              "      flex-wrap:wrap;\n",
              "      gap: 12px;\n",
              "    }\n",
              "\n",
              "    .colab-df-convert {\n",
              "      background-color: #E8F0FE;\n",
              "      border: none;\n",
              "      border-radius: 50%;\n",
              "      cursor: pointer;\n",
              "      display: none;\n",
              "      fill: #1967D2;\n",
              "      height: 32px;\n",
              "      padding: 0 0 0 0;\n",
              "      width: 32px;\n",
              "    }\n",
              "\n",
              "    .colab-df-convert:hover {\n",
              "      background-color: #E2EBFA;\n",
              "      box-shadow: 0px 1px 2px rgba(60, 64, 67, 0.3), 0px 1px 3px 1px rgba(60, 64, 67, 0.15);\n",
              "      fill: #174EA6;\n",
              "    }\n",
              "\n",
              "    [theme=dark] .colab-df-convert {\n",
              "      background-color: #3B4455;\n",
              "      fill: #D2E3FC;\n",
              "    }\n",
              "\n",
              "    [theme=dark] .colab-df-convert:hover {\n",
              "      background-color: #434B5C;\n",
              "      box-shadow: 0px 1px 3px 1px rgba(0, 0, 0, 0.15);\n",
              "      filter: drop-shadow(0px 1px 2px rgba(0, 0, 0, 0.3));\n",
              "      fill: #FFFFFF;\n",
              "    }\n",
              "  </style>\n",
              "\n",
              "      <script>\n",
              "        const buttonEl =\n",
              "          document.querySelector('#df-b23e49b6-9cda-4c59-aca6-154c4e4c12e3 button.colab-df-convert');\n",
              "        buttonEl.style.display =\n",
              "          google.colab.kernel.accessAllowed ? 'block' : 'none';\n",
              "\n",
              "        async function convertToInteractive(key) {\n",
              "          const element = document.querySelector('#df-b23e49b6-9cda-4c59-aca6-154c4e4c12e3');\n",
              "          const dataTable =\n",
              "            await google.colab.kernel.invokeFunction('convertToInteractive',\n",
              "                                                     [key], {});\n",
              "          if (!dataTable) return;\n",
              "\n",
              "          const docLinkHtml = 'Like what you see? Visit the ' +\n",
              "            '<a target=\"_blank\" href=https://colab.research.google.com/notebooks/data_table.ipynb>data table notebook</a>'\n",
              "            + ' to learn more about interactive tables.';\n",
              "          element.innerHTML = '';\n",
              "          dataTable['output_type'] = 'display_data';\n",
              "          await google.colab.output.renderOutput(dataTable, element);\n",
              "          const docLink = document.createElement('div');\n",
              "          docLink.innerHTML = docLinkHtml;\n",
              "          element.appendChild(docLink);\n",
              "        }\n",
              "      </script>\n",
              "    </div>\n",
              "  </div>\n",
              "  "
            ]
          },
          "metadata": {},
          "execution_count": 26
        }
      ]
    },
    {
      "cell_type": "code",
      "execution_count": 12,
      "metadata": {
        "colab": {
          "base_uri": "https://localhost:8080/"
        },
        "id": "4DbtqX2Utgl4",
        "outputId": "0cf4ae24-0d93-4884-9d52-390bb8520f52"
      },
      "outputs": [
        {
          "output_type": "stream",
          "name": "stdout",
          "text": [
            "Created document with title: NewOne and document Id: 1j1juT_EyNDPPfgyBXwp7cGnLhEA7W53LmMNcqTXXejg\n"
          ]
        }
      ],
      "source": [
        "from google.oauth2 import service_account\n",
        "from googleapiclient.discovery import build\n",
        "\n",
        "# Define the credentials and service\n",
        "SCOPES = ['https://www.googleapis.com/auth/documents']\n",
        "SERVICE_ACCOUNT_FILE = '/content/drive/MyDrive/Google Colab DS IT Academy/Sprint 10/Data/sprint-10-ds-it-academy-fd156bbbcc8d.json'\n",
        "creds = service_account.Credentials.from_service_account_file(\n",
        "        SERVICE_ACCOUNT_FILE, scopes=SCOPES)\n",
        "docs_service = build('docs', 'v1', credentials=creds)\n",
        "\n",
        "# Define the function to create a new Google Doc\n",
        "def create_doc(title):\n",
        "    body = {\n",
        "        'title': title\n",
        "    }\n",
        "    doc = docs_service.documents().create(body=body).execute()\n",
        "    document_id = doc['documentId']\n",
        "    print('Created document with title: {0} and document Id: {1}'.format(title, document_id))\n",
        "    return document_id\n",
        "\n",
        "# Create a new Google Doc\n",
        "document_id = create_doc('NewOne')\n",
        "\n",
        "\n"
      ]
    },
    {
      "cell_type": "code",
      "execution_count": 13,
      "metadata": {
        "colab": {
          "base_uri": "https://localhost:8080/"
        },
        "id": "xdHyE7OCklxa",
        "outputId": "a5abcd66-3ee6-4d5a-956d-cddac4aebe59"
      },
      "outputs": [
        {
          "output_type": "stream",
          "name": "stdout",
          "text": [
            "Documents:\n",
            "NewOne (1j1juT_EyNDPPfgyBXwp7cGnLhEA7W53LmMNcqTXXejg)\n",
            "NewOne (17uNvOFvgvkB9l-DFzZlnamqkNj9MSsY3GRtU-KgRp7c)\n",
            "NewOne (1wBltYv6oHK-8kpEquv19kyJd4-yXxzKvk1oD-iqGNd8)\n",
            "NewOne (112K2bt3UezwxPEo9Z6kK5vMVcnitGmPBOypMpxyDThE)\n",
            "NewOne (1uQe1nci8uSIh7XYWh74Cu-RJmNAQ1Z6NqO9308BY8yc)\n"
          ]
        }
      ],
      "source": [
        "from googleapiclient.discovery import build\n",
        "from google.oauth2 import service_account\n",
        "\n",
        "# Set up the credentials\n",
        "creds = service_account.Credentials.from_service_account_file('/content/drive/MyDrive/Google Colab DS IT Academy/Sprint 10/Data/sprint-10-ds-it-academy-fd156bbbcc8d.json')\n",
        "drive_service = build('drive', 'v3', credentials=creds)\n",
        "\n",
        "# Search for the document with the given title\n",
        "doc_title = 'NewOne'\n",
        "query = \"mimeType='application/vnd.google-apps.document' and trashed = false and name='\"+doc_title+\"'\"\n",
        "results = drive_service.files().list(q=query, fields=\"nextPageToken, files(id, name)\").execute()\n",
        "docs = results.get('files', [])\n",
        "\n",
        "# Print the IDs and titles of the search results\n",
        "if not docs:\n",
        "    print('No documents found.')\n",
        "else:\n",
        "    print('Documents:')\n",
        "    for doc in docs:\n",
        "        print(f'{doc[\"name\"]} ({doc[\"id\"]})')\n"
      ]
    },
    {
      "cell_type": "code",
      "execution_count": 14,
      "metadata": {
        "colab": {
          "base_uri": "https://localhost:8080/"
        },
        "id": "GK-qq9posw8z",
        "outputId": "0ef87440-b982-46fb-a3b2-ea1e83e37d39"
      },
      "outputs": [
        {
          "output_type": "stream",
          "name": "stdout",
          "text": [
            "Drive already mounted at /content/drive; to attempt to forcibly remount, call drive.mount(\"/content/drive\", force_remount=True).\n",
            "https://docs.google.com/document/d/1j1juT_EyNDPPfgyBXwp7cGnLhEA7W53LmMNcqTXXejg/edit?usp=drivesdk\n"
          ]
        }
      ],
      "source": [
        "# Mount your Google Drive\n",
        "from google.colab import drive\n",
        "drive.mount('/content/drive')\n",
        "\n",
        "# Import the required libraries\n",
        "from google.oauth2.credentials import Credentials\n",
        "from googleapiclient.errors import HttpError\n",
        "from googleapiclient.discovery import build\n",
        "import google.auth\n",
        "\n",
        "# Get the credentials and create the Drive API client\n",
        "creds, _ = google.auth.default(scopes=['https://www.googleapis.com/auth/drive'])\n",
        "creds = service_account.Credentials.from_service_account_file('/content/drive/MyDrive/Google Colab DS IT Academy/Sprint 10/Data/sprint-10-ds-it-academy-fd156bbbcc8d.json')\n",
        "\n",
        "drive_service = build('drive', 'v3', credentials=creds)\n",
        "\n",
        "# Set the name of the file you want to find\n",
        "file_name = 'NewOne'\n",
        "\n",
        "# Search for the file\n",
        "query = \"name='\" + file_name + \"' and mimeType='application/vnd.google-apps.document'\"\n",
        "results = drive_service.files().list(q=query).execute()\n",
        "\n",
        "# Get the file ID\n",
        "docs = results.get('files', [])\n",
        "doc_id = docs[0]['id']\n",
        "\n",
        "# Get the file metadata\n",
        "file = drive_service.files().get(fileId=doc_id, fields='webViewLink').execute()\n",
        "\n",
        "# Extract the URL from the metadata\n",
        "url = file['webViewLink']\n",
        "\n",
        "print(url)\n"
      ]
    },
    {
      "cell_type": "code",
      "execution_count": 15,
      "metadata": {
        "colab": {
          "base_uri": "https://localhost:8080/",
          "height": 620
        },
        "id": "MQzcOQDDuk5J",
        "outputId": "008b5080-d41f-4322-a6cf-7bc6a1e3b4a6"
      },
      "outputs": [
        {
          "output_type": "execute_result",
          "data": {
            "text/plain": [
              "<IPython.lib.display.IFrame at 0x7f72b126d2b0>"
            ],
            "text/html": [
              "\n",
              "        <iframe\n",
              "            width=\"800\"\n",
              "            height=\"600\"\n",
              "            src=\"https://docs.google.com/document/d/1uQe1nci8uSIh7XYWh74Cu-RJmNAQ1Z6NqO9308BY8yc/edit?usp=drivesdk\"\n",
              "            frameborder=\"0\"\n",
              "            allowfullscreen\n",
              "            \n",
              "        ></iframe>\n",
              "        "
            ]
          },
          "metadata": {},
          "execution_count": 15
        }
      ],
      "source": [
        "from IPython.display import IFrame\n",
        "\n",
        "IFrame('https://docs.google.com/document/d/1uQe1nci8uSIh7XYWh74Cu-RJmNAQ1Z6NqO9308BY8yc/edit?usp=drivesdk', width=800, height=600)\n"
      ]
    },
    {
      "cell_type": "code",
      "execution_count": 23,
      "metadata": {
        "colab": {
          "base_uri": "https://localhost:8080/",
          "height": 245
        },
        "id": "jbp7pc4pKhNx",
        "outputId": "04771788-8b55-4522-8833-9d27764c63ca"
      },
      "outputs": [
        {
          "output_type": "error",
          "ename": "AttributeError",
          "evalue": "ignored",
          "traceback": [
            "\u001b[0;31m---------------------------------------------------------------------------\u001b[0m",
            "\u001b[0;31mAttributeError\u001b[0m                            Traceback (most recent call last)",
            "\u001b[0;32m<ipython-input-23-559667667c7d>\u001b[0m in \u001b[0;36m<cell line: 15>\u001b[0;34m()\u001b[0m\n\u001b[1;32m     14\u001b[0m \u001b[0;31m# Search for the document with the given title\u001b[0m\u001b[0;34m\u001b[0m\u001b[0;34m\u001b[0m\u001b[0m\n\u001b[1;32m     15\u001b[0m \u001b[0;32mtry\u001b[0m\u001b[0;34m:\u001b[0m\u001b[0;34m\u001b[0m\u001b[0;34m\u001b[0m\u001b[0m\n\u001b[0;32m---> 16\u001b[0;31m     \u001b[0mresults\u001b[0m \u001b[0;34m=\u001b[0m \u001b[0mdocs_service\u001b[0m\u001b[0;34m.\u001b[0m\u001b[0mdocuments\u001b[0m\u001b[0;34m(\u001b[0m\u001b[0;34m)\u001b[0m\u001b[0;34m.\u001b[0m\u001b[0mlist\u001b[0m\u001b[0;34m(\u001b[0m\u001b[0mq\u001b[0m\u001b[0;34m=\u001b[0m\u001b[0;34m\"title='\"\u001b[0m \u001b[0;34m+\u001b[0m \u001b[0mdoc_title\u001b[0m \u001b[0;34m+\u001b[0m \u001b[0;34m\"'\"\u001b[0m\u001b[0;34m)\u001b[0m\u001b[0;34m.\u001b[0m\u001b[0mexecute\u001b[0m\u001b[0;34m(\u001b[0m\u001b[0;34m)\u001b[0m\u001b[0;34m\u001b[0m\u001b[0;34m\u001b[0m\u001b[0m\n\u001b[0m\u001b[1;32m     17\u001b[0m     \u001b[0mdocs\u001b[0m \u001b[0;34m=\u001b[0m \u001b[0mresults\u001b[0m\u001b[0;34m.\u001b[0m\u001b[0mget\u001b[0m\u001b[0;34m(\u001b[0m\u001b[0;34m'documents'\u001b[0m\u001b[0;34m,\u001b[0m \u001b[0;34m[\u001b[0m\u001b[0;34m]\u001b[0m\u001b[0;34m)\u001b[0m\u001b[0;34m\u001b[0m\u001b[0;34m\u001b[0m\u001b[0m\n\u001b[1;32m     18\u001b[0m     \u001b[0;32mif\u001b[0m \u001b[0;32mnot\u001b[0m \u001b[0mdocs\u001b[0m\u001b[0;34m:\u001b[0m\u001b[0;34m\u001b[0m\u001b[0;34m\u001b[0m\u001b[0m\n",
            "\u001b[0;31mAttributeError\u001b[0m: 'Resource' object has no attribute 'list'"
          ]
        }
      ],
      "source": [
        "# Import the required libraries\n",
        "from google.oauth2 import service_account\n",
        "from googleapiclient.discovery import build\n",
        "from googleapiclient.errors import HttpError\n",
        "import googleapiclient.discovery\n",
        "\n",
        "# Authenticate and build the Docs API client\n",
        "creds = service_account.Credentials.from_service_account_file('/content/drive/MyDrive/Google Colab DS IT Academy/Sprint 10/Data/sprint-10-ds-it-academy-fd156bbbcc8d.json')\n",
        "docs_service = build('docs', 'v1', credentials=creds)\n",
        "\n",
        "# Set the title of the document you're looking for\n",
        "doc_title = 'NewOne'\n",
        "\n",
        "# Search for the document with the given title\n",
        "try:\n",
        "    results = docs_service.documents().list(q=\"title='\" + doc_title + \"'\").execute()\n",
        "    docs = results.get('documents', [])\n",
        "    if not docs:\n",
        "        print('No document found with the title: %s' % doc_title)\n",
        "    else:\n",
        "        # Get the document ID of the first result\n",
        "        document_id = docs[0].get('documentId')\n",
        "        # Open the document in the browser\n",
        "        url = 'https://docs.google.com/document/d/' + document_id\n",
        "        print('Open the document here:', url)\n",
        "except HttpError as error:\n",
        "    print(f'An error occurred: {error}')\n"
      ]
    },
    {
      "cell_type": "code",
      "source": [],
      "metadata": {
        "id": "DSyc_KCKpsNt"
      },
      "execution_count": null,
      "outputs": []
    },
    {
      "cell_type": "markdown",
      "metadata": {
        "id": "v4LT8Y-W9wId"
      },
      "source": [
        "# Exercici 3\n",
        "\n",
        "Choose a web page of your choice and perform web scraping using the Selenium library first and Scrapy later."
      ]
    },
    {
      "cell_type": "markdown",
      "metadata": {
        "id": "YRTvbTaSADCs"
      },
      "source": [
        "The website 'https://en.wikipedia.org/wiki/Digital_audio_workstation' is a publicly available website that is meant for general information and educational purposes. It allows web scraping under certain conditions. According to the website's terms of use, \"you are free to copy, distribute, transmit, and adapt the work, provided that you give attribution and do not use the material in a way that suggests that the licensor endorses you or your use.\""
      ]
    },
    {
      "cell_type": "code",
      "execution_count": 17,
      "metadata": {
        "id": "LBDG2VRIfuE1",
        "colab": {
          "base_uri": "https://localhost:8080/"
        },
        "outputId": "03acff36-3cf7-4af9-af62-7e0777441b36"
      },
      "outputs": [
        {
          "output_type": "stream",
          "name": "stdout",
          "text": [
            "## Contents\n",
            "### Integration[edit]\n",
            "### Plug-ins[edit]\n",
            "## Hardware[edit]\n",
            "### Integration[edit]\n",
            "### Plug-ins[edit]\n",
            "## Software[edit]\n",
            "### Plug-ins[edit]\n",
            "## Notable commercial examples[edit]\n",
            "## See also[edit]\n",
            "## Notes[edit]\n",
            "## References[edit]\n",
            "## External links[edit]\n"
          ]
        }
      ],
      "source": [
        "from selenium import webdriver\n",
        "from selenium.webdriver.common.by import By\n",
        "from selenium.webdriver.support.ui import WebDriverWait\n",
        "from selenium.webdriver.support import expected_conditions as EC\n",
        "from bs4 import BeautifulSoup\n",
        "\n",
        "options = webdriver.ChromeOptions()\n",
        "options.add_argument('--headless')\n",
        "options.add_argument('--disable-dev-shm-usage')\n",
        "options.add_argument('--no-sandbox')\n",
        "\n",
        "# Point to the location of your chromedriver\n",
        "chromedriver_path = '/usr/bin/chromedriver'\n",
        "\n",
        "# Initialize the driver\n",
        "driver = webdriver.Chrome(chromedriver_path, options=options)\n",
        "\n",
        "# Navigate to the page\n",
        "driver.get('https://en.wikipedia.org/wiki/Digital_audio_workstation')\n",
        "\n",
        "# Wait for the page to load and get the content\n",
        "wait = WebDriverWait(driver, 10)\n",
        "content = wait.until(EC.presence_of_element_located((By.ID, 'content')))\n",
        "\n",
        "# Get the page source and parse it using BeautifulSoup\n",
        "soup = BeautifulSoup(driver.page_source, 'html.parser')\n",
        "\n",
        "# Find all the h2 elements and extract their text\n",
        "h2s = soup.find_all('h2')\n",
        "for h2 in h2s:\n",
        "    print('## ' + h2.text.strip())\n",
        "    \n",
        "    # Find all the h3 elements under the current h2 and extract their text\n",
        "    h3s = h2.find_all_next('h3')\n",
        "    for h3 in h3s:\n",
        "        print('### ' + h3.text.strip())\n",
        "    \n",
        "# Close the driver\n",
        "driver.quit()\n",
        "\n",
        "\n",
        "\n"
      ]
    },
    {
      "cell_type": "code",
      "source": [
        "import scrapy\n",
        "\n",
        "class DAWSpider(scrapy.Spider):\n",
        "    name = \"daw\"\n",
        "    start_urls = [\n",
        "        \"https://en.wikipedia.org/wiki/Digital_audio_workstation\"\n",
        "    ]\n",
        "\n",
        "    def parse(self, response):\n",
        "        for h2 in response.css('h2'):\n",
        "            header = '## ' + h2.css('span.mw-headline::text').get()\n",
        "            yield {\n",
        "                'header': header\n",
        "            }"
      ],
      "metadata": {
        "id": "Rdb7_uN8j2D5"
      },
      "execution_count": 22,
      "outputs": []
    },
    {
      "cell_type": "code",
      "source": [
        "\n"
      ],
      "metadata": {
        "id": "U94XjTGtmSQC"
      },
      "execution_count": 20,
      "outputs": []
    }
  ],
  "metadata": {
    "colab": {
      "provenance": [],
      "mount_file_id": "1Vyj8BYm1mj9Cj6w3veMQG1Ec51YgcrDG",
      "authorship_tag": "ABX9TyPcGIXADpsZW5EzoZfMe228",
      "include_colab_link": true
    },
    "kernelspec": {
      "display_name": "Python 3",
      "name": "python3"
    },
    "language_info": {
      "name": "python"
    },
    "gpuClass": "standard"
  },
  "nbformat": 4,
  "nbformat_minor": 0
}